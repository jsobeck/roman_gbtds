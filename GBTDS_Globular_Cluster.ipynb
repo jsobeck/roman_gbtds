{
 "cells": [
  {
   "cell_type": "markdown",
   "id": "46af2784-0030-49fd-b919-2642a07750e9",
   "metadata": {},
   "source": [
    "# GBTDS: Globular Clusters and Observational Strategy"
   ]
  },
  {
   "cell_type": "code",
   "execution_count": null,
   "id": "345930ea-0ce8-4fcd-952b-b5e93003eb53",
   "metadata": {},
   "outputs": [],
   "source": [
    "## Import requisite python pacakages \n",
    "import sys\n",
    "import os\n",
    "import pandas as pd\n",
    "#import pint # pandas utility to add units\n",
    "#pd.set_option(\"display.max.columns\", None)\n",
    "import numpy as np\n",
    "from itertools import groupby"
   ]
  },
  {
   "cell_type": "code",
   "execution_count": 30,
   "id": "4bdb0c55-324e-465c-9d04-5365372889bf",
   "metadata": {},
   "outputs": [],
   "source": [
    "## Import plotting/visualziation tools\n",
    "import matplotlib.pyplot as plt\n",
    "import seaborn as sns\n",
    "from matplotlib.pyplot import cm\n",
    "%matplotlib inline  \n",
    "import plotly.graph_objects as go\n",
    "import plotly.express as px"
   ]
  },
  {
   "cell_type": "code",
   "execution_count": 233,
   "id": "d4be3adf-b23c-4f4e-a5d1-bcc1cccb629c",
   "metadata": {},
   "outputs": [],
   "source": [
    "## Import astropy coordinate/unit packages\n",
    "from astropy.coordinates import SkyCoord\n",
    "import astropy.coordinates as coord\n",
    "import astropy.units as u"
   ]
  },
  {
   "cell_type": "markdown",
   "id": "d77386e1-642f-469b-b7f4-ea0c3526db61",
   "metadata": {},
   "source": [
    "### Read JS globular cluster compilation"
   ]
  },
  {
   "cell_type": "code",
   "execution_count": 235,
   "id": "2bcf7070-d2e0-4986-89b5-a236deeebdb9",
   "metadata": {},
   "outputs": [
    {
     "data": {
      "text/html": [
       "<style type=\"text/css\">\n",
       "</style>\n",
       "<table id=\"T_67982\">\n",
       "  <thead>\n",
       "    <tr>\n",
       "      <th id=\"T_67982_level0_col0\" class=\"col_heading level0 col0\" >Cluster_Name</th>\n",
       "      <th id=\"T_67982_level0_col1\" class=\"col_heading level0 col1\" >RA_deg</th>\n",
       "      <th id=\"T_67982_level0_col2\" class=\"col_heading level0 col2\" >DEC_deg</th>\n",
       "      <th id=\"T_67982_level0_col3\" class=\"col_heading level0 col3\" >Gal_l_deg</th>\n",
       "      <th id=\"T_67982_level0_col4\" class=\"col_heading level0 col4\" >Gal_b_deg</th>\n",
       "      <th id=\"T_67982_level0_col5\" class=\"col_heading level0 col5\" >D_sun_kpc</th>\n",
       "      <th id=\"T_67982_level0_col6\" class=\"col_heading level0 col6\" >D_sun_err_kpc</th>\n",
       "      <th id=\"T_67982_level0_col7\" class=\"col_heading level0 col7\" >Fe_H</th>\n",
       "      <th id=\"T_67982_level0_col8\" class=\"col_heading level0 col8\" >Fe_H_err</th>\n",
       "      <th id=\"T_67982_level0_col9\" class=\"col_heading level0 col9\" >M_V</th>\n",
       "      <th id=\"T_67982_level0_col10\" class=\"col_heading level0 col10\" >Reference</th>\n",
       "    </tr>\n",
       "  </thead>\n",
       "  <tbody>\n",
       "    <tr>\n",
       "      <td id=\"T_67982_row0_col0\" class=\"data row0 col0\" >BH_261</td>\n",
       "      <td id=\"T_67982_row0_col1\" class=\"data row0 col1\" >273.52</td>\n",
       "      <td id=\"T_67982_row0_col2\" class=\"data row0 col2\" >-28.63</td>\n",
       "      <td id=\"T_67982_row0_col3\" class=\"data row0 col3\" >3.36</td>\n",
       "      <td id=\"T_67982_row0_col4\" class=\"data row0 col4\" >-5.27</td>\n",
       "      <td id=\"T_67982_row0_col5\" class=\"data row0 col5\" >6.50</td>\n",
       "      <td id=\"T_67982_row0_col6\" class=\"data row0 col6\" >0.65</td>\n",
       "      <td id=\"T_67982_row0_col7\" class=\"data row0 col7\" >-1.09</td>\n",
       "      <td id=\"T_67982_row0_col8\" class=\"data row0 col8\" >0.05</td>\n",
       "      <td id=\"T_67982_row0_col9\" class=\"data row0 col9\" >-4.06</td>\n",
       "      <td id=\"T_67982_row0_col10\" class=\"data row0 col10\" >Bica2024</td>\n",
       "    </tr>\n",
       "    <tr>\n",
       "      <td id=\"T_67982_row1_col0\" class=\"data row1 col0\" >Camargo_1102</td>\n",
       "      <td id=\"T_67982_row1_col1\" class=\"data row1 col1\" >260.44</td>\n",
       "      <td id=\"T_67982_row1_col2\" class=\"data row1 col2\" >-26.54</td>\n",
       "      <td id=\"T_67982_row1_col3\" class=\"data row1 col3\" >359.14</td>\n",
       "      <td id=\"T_67982_row1_col4\" class=\"data row1 col4\" >5.73</td>\n",
       "      <td id=\"T_67982_row1_col5\" class=\"data row1 col5\" >8.20</td>\n",
       "      <td id=\"T_67982_row1_col6\" class=\"data row1 col6\" >1.20</td>\n",
       "      <td id=\"T_67982_row1_col7\" class=\"data row1 col7\" >-1.70</td>\n",
       "      <td id=\"T_67982_row1_col8\" class=\"data row1 col8\" >0.20</td>\n",
       "      <td id=\"T_67982_row1_col9\" class=\"data row1 col9\" >-6.30</td>\n",
       "      <td id=\"T_67982_row1_col10\" class=\"data row1 col10\" >Bica2024</td>\n",
       "    </tr>\n",
       "    <tr>\n",
       "      <td id=\"T_67982_row2_col0\" class=\"data row2 col0\" >Camargo_1103</td>\n",
       "      <td id=\"T_67982_row2_col1\" class=\"data row2 col1\" >271.63</td>\n",
       "      <td id=\"T_67982_row2_col2\" class=\"data row2 col2\" >-25.16</td>\n",
       "      <td id=\"T_67982_row2_col3\" class=\"data row2 col3\" >5.60</td>\n",
       "      <td id=\"T_67982_row2_col4\" class=\"data row2 col4\" >-2.12</td>\n",
       "      <td id=\"T_67982_row2_col5\" class=\"data row2 col5\" >5.00</td>\n",
       "      <td id=\"T_67982_row2_col6\" class=\"data row2 col6\" >0.80</td>\n",
       "      <td id=\"T_67982_row2_col7\" class=\"data row2 col7\" >-1.80</td>\n",
       "      <td id=\"T_67982_row2_col8\" class=\"data row2 col8\" >0.30</td>\n",
       "      <td id=\"T_67982_row2_col9\" class=\"data row2 col9\" >-6.90</td>\n",
       "      <td id=\"T_67982_row2_col10\" class=\"data row2 col10\" >Bica2024</td>\n",
       "    </tr>\n",
       "    <tr>\n",
       "      <td id=\"T_67982_row3_col0\" class=\"data row3 col0\" >Camargo_1104</td>\n",
       "      <td id=\"T_67982_row3_col1\" class=\"data row3 col1\" >271.31</td>\n",
       "      <td id=\"T_67982_row3_col2\" class=\"data row3 col2\" >-24.98</td>\n",
       "      <td id=\"T_67982_row3_col3\" class=\"data row3 col3\" >5.62</td>\n",
       "      <td id=\"T_67982_row3_col4\" class=\"data row3 col4\" >-1.78</td>\n",
       "      <td id=\"T_67982_row3_col5\" class=\"data row3 col5\" >5.40</td>\n",
       "      <td id=\"T_67982_row3_col6\" class=\"data row3 col6\" >1.00</td>\n",
       "      <td id=\"T_67982_row3_col7\" class=\"data row3 col7\" >-1.80</td>\n",
       "      <td id=\"T_67982_row3_col8\" class=\"data row3 col8\" >0.30</td>\n",
       "      <td id=\"T_67982_row3_col9\" class=\"data row3 col9\" >-5.70</td>\n",
       "      <td id=\"T_67982_row3_col10\" class=\"data row3 col10\" >Bica2024</td>\n",
       "    </tr>\n",
       "    <tr>\n",
       "      <td id=\"T_67982_row4_col0\" class=\"data row4 col0\" >Camargo_1107</td>\n",
       "      <td id=\"T_67982_row4_col1\" class=\"data row4 col1\" >264.24</td>\n",
       "      <td id=\"T_67982_row4_col2\" class=\"data row4 col2\" >-30.15</td>\n",
       "      <td id=\"T_67982_row4_col3\" class=\"data row4 col3\" >357.98</td>\n",
       "      <td id=\"T_67982_row4_col4\" class=\"data row4 col4\" >0.96</td>\n",
       "      <td id=\"T_67982_row4_col5\" class=\"data row4 col5\" >4.00</td>\n",
       "      <td id=\"T_67982_row4_col6\" class=\"data row4 col6\" >0.70</td>\n",
       "      <td id=\"T_67982_row4_col7\" class=\"data row4 col7\" >-2.20</td>\n",
       "      <td id=\"T_67982_row4_col8\" class=\"data row4 col8\" >0.40</td>\n",
       "      <td id=\"T_67982_row4_col9\" class=\"data row4 col9\" >-6.60</td>\n",
       "      <td id=\"T_67982_row4_col10\" class=\"data row4 col10\" >Bica2024</td>\n",
       "    </tr>\n",
       "    <tr>\n",
       "      <td id=\"T_67982_row5_col0\" class=\"data row5 col0\" >Camargo_1108</td>\n",
       "      <td id=\"T_67982_row5_col1\" class=\"data row5 col1\" >266.52</td>\n",
       "      <td id=\"T_67982_row5_col2\" class=\"data row5 col2\" >-30.86</td>\n",
       "      <td id=\"T_67982_row5_col3\" class=\"data row5 col3\" >358.40</td>\n",
       "      <td id=\"T_67982_row5_col4\" class=\"data row5 col4\" >-1.09</td>\n",
       "      <td id=\"T_67982_row5_col5\" class=\"data row5 col5\" >3.30</td>\n",
       "      <td id=\"T_67982_row5_col6\" class=\"data row5 col6\" >0.50</td>\n",
       "      <td id=\"T_67982_row5_col7\" class=\"data row5 col7\" >-1.80</td>\n",
       "      <td id=\"T_67982_row5_col8\" class=\"data row5 col8\" >0.30</td>\n",
       "      <td id=\"T_67982_row5_col9\" class=\"data row5 col9\" >-8.40</td>\n",
       "      <td id=\"T_67982_row5_col10\" class=\"data row5 col10\" >Bica2024</td>\n",
       "    </tr>\n",
       "    <tr>\n",
       "      <td id=\"T_67982_row6_col0\" class=\"data row6 col0\" >Camargo_1109</td>\n",
       "      <td id=\"T_67982_row6_col1\" class=\"data row6 col1\" >266.86</td>\n",
       "      <td id=\"T_67982_row6_col2\" class=\"data row6 col2\" >-26.65</td>\n",
       "      <td id=\"T_67982_row6_col3\" class=\"data row6 col3\" >2.17</td>\n",
       "      <td id=\"T_67982_row6_col4\" class=\"data row6 col4\" >0.84</td>\n",
       "      <td id=\"T_67982_row6_col5\" class=\"data row6 col5\" >4.30</td>\n",
       "      <td id=\"T_67982_row6_col6\" class=\"data row6 col6\" >0.60</td>\n",
       "      <td id=\"T_67982_row6_col7\" class=\"data row6 col7\" >-1.50</td>\n",
       "      <td id=\"T_67982_row6_col8\" class=\"data row6 col8\" >0.20</td>\n",
       "      <td id=\"T_67982_row6_col9\" class=\"data row6 col9\" >-6.40</td>\n",
       "      <td id=\"T_67982_row6_col10\" class=\"data row6 col10\" >Bica2024</td>\n",
       "    </tr>\n",
       "    <tr>\n",
       "      <td id=\"T_67982_row7_col0\" class=\"data row7 col0\" >Djorg_1</td>\n",
       "      <td id=\"T_67982_row7_col1\" class=\"data row7 col1\" >266.86</td>\n",
       "      <td id=\"T_67982_row7_col2\" class=\"data row7 col2\" >-33.06</td>\n",
       "      <td id=\"T_67982_row7_col3\" class=\"data row7 col3\" >356.67</td>\n",
       "      <td id=\"T_67982_row7_col4\" class=\"data row7 col4\" >-2.48</td>\n",
       "      <td id=\"T_67982_row7_col5\" class=\"data row7 col5\" >9.30</td>\n",
       "      <td id=\"T_67982_row7_col6\" class=\"data row7 col6\" >0.50</td>\n",
       "      <td id=\"T_67982_row7_col7\" class=\"data row7 col7\" >-1.54</td>\n",
       "      <td id=\"T_67982_row7_col8\" class=\"data row7 col8\" >0.13</td>\n",
       "      <td id=\"T_67982_row7_col9\" class=\"data row7 col9\" >-6.98</td>\n",
       "      <td id=\"T_67982_row7_col10\" class=\"data row7 col10\" >Bica2024</td>\n",
       "    </tr>\n",
       "    <tr>\n",
       "      <td id=\"T_67982_row8_col0\" class=\"data row8 col0\" >ESO393-12</td>\n",
       "      <td id=\"T_67982_row8_col1\" class=\"data row8 col1\" >264.66</td>\n",
       "      <td id=\"T_67982_row8_col2\" class=\"data row8 col2\" >-35.65</td>\n",
       "      <td id=\"T_67982_row8_col3\" class=\"data row8 col3\" >353.51</td>\n",
       "      <td id=\"T_67982_row8_col4\" class=\"data row8 col4\" >-2.28</td>\n",
       "      <td id=\"T_67982_row8_col5\" class=\"data row8 col5\" >8.20</td>\n",
       "      <td id=\"T_67982_row8_col6\" class=\"data row8 col6\" >0.40</td>\n",
       "      <td id=\"T_67982_row8_col7\" class=\"data row8 col7\" >-0.60</td>\n",
       "      <td id=\"T_67982_row8_col8\" class=\"data row8 col8\" >0.20</td>\n",
       "      <td id=\"T_67982_row8_col9\" class=\"data row8 col9\" >-5.30</td>\n",
       "      <td id=\"T_67982_row8_col10\" class=\"data row8 col10\" >Bica2024</td>\n",
       "    </tr>\n",
       "    <tr>\n",
       "      <td id=\"T_67982_row9_col0\" class=\"data row9 col0\" >ESO452-SC11</td>\n",
       "      <td id=\"T_67982_row9_col1\" class=\"data row9 col1\" >249.85</td>\n",
       "      <td id=\"T_67982_row9_col2\" class=\"data row9 col2\" >-28.39</td>\n",
       "      <td id=\"T_67982_row9_col3\" class=\"data row9 col3\" >351.91</td>\n",
       "      <td id=\"T_67982_row9_col4\" class=\"data row9 col4\" >12.10</td>\n",
       "      <td id=\"T_67982_row9_col5\" class=\"data row9 col5\" >6.50</td>\n",
       "      <td id=\"T_67982_row9_col6\" class=\"data row9 col6\" >0.65</td>\n",
       "      <td id=\"T_67982_row9_col7\" class=\"data row9 col7\" >-0.81</td>\n",
       "      <td id=\"T_67982_row9_col8\" class=\"data row9 col8\" >0.13</td>\n",
       "      <td id=\"T_67982_row9_col9\" class=\"data row9 col9\" >-4.02</td>\n",
       "      <td id=\"T_67982_row9_col10\" class=\"data row9 col10\" >Bica2024</td>\n",
       "    </tr>\n",
       "    <tr>\n",
       "      <td id=\"T_67982_row10_col0\" class=\"data row10 col0\" >ESO456-09</td>\n",
       "      <td id=\"T_67982_row10_col1\" class=\"data row10 col1\" >268.48</td>\n",
       "      <td id=\"T_67982_row10_col2\" class=\"data row10 col2\" >-32.47</td>\n",
       "      <td id=\"T_67982_row10_col3\" class=\"data row10 col3\" >357.88</td>\n",
       "      <td id=\"T_67982_row10_col4\" class=\"data row10 col4\" >-3.34</td>\n",
       "      <td id=\"T_67982_row10_col5\" class=\"data row10 col5\" >7.60</td>\n",
       "      <td id=\"T_67982_row10_col6\" class=\"data row10 col6\" >0.40</td>\n",
       "      <td id=\"T_67982_row10_col7\" class=\"data row10 col7\" >-0.60</td>\n",
       "      <td id=\"T_67982_row10_col8\" class=\"data row10 col8\" >0.20</td>\n",
       "      <td id=\"T_67982_row10_col9\" class=\"data row10 col9\" >-6.00</td>\n",
       "      <td id=\"T_67982_row10_col10\" class=\"data row10 col10\" >Bica2024</td>\n",
       "    </tr>\n",
       "    <tr>\n",
       "      <td id=\"T_67982_row11_col0\" class=\"data row11 col0\" >ESO456-SC38</td>\n",
       "      <td id=\"T_67982_row11_col1\" class=\"data row11 col1\" >270.45</td>\n",
       "      <td id=\"T_67982_row11_col2\" class=\"data row11 col2\" >-27.83</td>\n",
       "      <td id=\"T_67982_row11_col3\" class=\"data row11 col3\" >2.76</td>\n",
       "      <td id=\"T_67982_row11_col4\" class=\"data row11 col4\" >-2.50</td>\n",
       "      <td id=\"T_67982_row11_col5\" class=\"data row11 col5\" >8.75</td>\n",
       "      <td id=\"T_67982_row11_col6\" class=\"data row11 col6\" >0.20</td>\n",
       "      <td id=\"T_67982_row11_col7\" class=\"data row11 col7\" >-1.07</td>\n",
       "      <td id=\"T_67982_row11_col8\" class=\"data row11 col8\" >0.09</td>\n",
       "      <td id=\"T_67982_row11_col9\" class=\"data row11 col9\" >-7.00</td>\n",
       "      <td id=\"T_67982_row11_col10\" class=\"data row11 col10\" >Bica2024</td>\n",
       "    </tr>\n",
       "    <tr>\n",
       "      <td id=\"T_67982_row12_col0\" class=\"data row12 col0\" >FSR0009</td>\n",
       "      <td id=\"T_67982_row12_col1\" class=\"data row12 col1\" >277.13</td>\n",
       "      <td id=\"T_67982_row12_col2\" class=\"data row12 col2\" >-31.91</td>\n",
       "      <td id=\"T_67982_row12_col3\" class=\"data row12 col3\" >1.85</td>\n",
       "      <td id=\"T_67982_row12_col4\" class=\"data row12 col4\" >-9.53</td>\n",
       "      <td id=\"T_67982_row12_col5\" class=\"data row12 col5\" >6.90</td>\n",
       "      <td id=\"T_67982_row12_col6\" class=\"data row12 col6\" >0.20</td>\n",
       "      <td id=\"T_67982_row12_col7\" class=\"data row12 col7\" >-1.20</td>\n",
       "      <td id=\"T_67982_row12_col8\" class=\"data row12 col8\" >0.30</td>\n",
       "      <td id=\"T_67982_row12_col9\" class=\"data row12 col9\" >-3.40</td>\n",
       "      <td id=\"T_67982_row12_col10\" class=\"data row12 col10\" >Bica2024</td>\n",
       "    </tr>\n",
       "    <tr>\n",
       "      <td id=\"T_67982_row13_col0\" class=\"data row13 col0\" >FSR019</td>\n",
       "      <td id=\"T_67982_row13_col1\" class=\"data row13 col1\" >263.91</td>\n",
       "      <td id=\"T_67982_row13_col2\" class=\"data row13 col2\" >-21.07</td>\n",
       "      <td id=\"T_67982_row13_col3\" class=\"data row13 col3\" >5.50</td>\n",
       "      <td id=\"T_67982_row13_col4\" class=\"data row13 col4\" >6.07</td>\n",
       "      <td id=\"T_67982_row13_col5\" class=\"data row13 col5\" >7.20</td>\n",
       "      <td id=\"T_67982_row13_col6\" class=\"data row13 col6\" >0.70</td>\n",
       "      <td id=\"T_67982_row13_col7\" class=\"data row13 col7\" >-0.50</td>\n",
       "      <td id=\"T_67982_row13_col8\" class=\"data row13 col8\" >nan</td>\n",
       "      <td id=\"T_67982_row13_col9\" class=\"data row13 col9\" >-4.62</td>\n",
       "      <td id=\"T_67982_row13_col10\" class=\"data row13 col10\" >Bica2024</td>\n",
       "    </tr>\n",
       "    <tr>\n",
       "      <td id=\"T_67982_row14_col0\" class=\"data row14 col0\" >FSR025</td>\n",
       "      <td id=\"T_67982_row14_col1\" class=\"data row14 col1\" >265.43</td>\n",
       "      <td id=\"T_67982_row14_col2\" class=\"data row14 col2\" >-19.57</td>\n",
       "      <td id=\"T_67982_row14_col3\" class=\"data row14 col3\" >7.53</td>\n",
       "      <td id=\"T_67982_row14_col4\" class=\"data row14 col4\" >5.65</td>\n",
       "      <td id=\"T_67982_row14_col5\" class=\"data row14 col5\" >7.00</td>\n",
       "      <td id=\"T_67982_row14_col6\" class=\"data row14 col6\" >0.60</td>\n",
       "      <td id=\"T_67982_row14_col7\" class=\"data row14 col7\" >-0.50</td>\n",
       "      <td id=\"T_67982_row14_col8\" class=\"data row14 col8\" >nan</td>\n",
       "      <td id=\"T_67982_row14_col9\" class=\"data row14 col9\" >-4.21</td>\n",
       "      <td id=\"T_67982_row14_col10\" class=\"data row14 col10\" >Bica2024</td>\n",
       "    </tr>\n",
       "    <tr>\n",
       "      <td id=\"T_67982_row15_col0\" class=\"data row15 col0\" >FSR1758</td>\n",
       "      <td id=\"T_67982_row15_col1\" class=\"data row15 col1\" >262.80</td>\n",
       "      <td id=\"T_67982_row15_col2\" class=\"data row15 col2\" >-39.81</td>\n",
       "      <td id=\"T_67982_row15_col3\" class=\"data row15 col3\" >349.22</td>\n",
       "      <td id=\"T_67982_row15_col4\" class=\"data row15 col4\" >-3.29</td>\n",
       "      <td id=\"T_67982_row15_col5\" class=\"data row15 col5\" >11.50</td>\n",
       "      <td id=\"T_67982_row15_col6\" class=\"data row15 col6\" >1.00</td>\n",
       "      <td id=\"T_67982_row15_col7\" class=\"data row15 col7\" >-1.50</td>\n",
       "      <td id=\"T_67982_row15_col8\" class=\"data row15 col8\" >0.30</td>\n",
       "      <td id=\"T_67982_row15_col9\" class=\"data row15 col9\" >nan</td>\n",
       "      <td id=\"T_67982_row15_col10\" class=\"data row15 col10\" >Bica2024</td>\n",
       "    </tr>\n",
       "    <tr>\n",
       "      <td id=\"T_67982_row16_col0\" class=\"data row16 col0\" >FSR1767</td>\n",
       "      <td id=\"T_67982_row16_col1\" class=\"data row16 col1\" >263.93</td>\n",
       "      <td id=\"T_67982_row16_col2\" class=\"data row16 col2\" >-36.36</td>\n",
       "      <td id=\"T_67982_row16_col3\" class=\"data row16 col3\" >352.60</td>\n",
       "      <td id=\"T_67982_row16_col4\" class=\"data row16 col4\" >-2.17</td>\n",
       "      <td id=\"T_67982_row16_col5\" class=\"data row16 col5\" >10.60</td>\n",
       "      <td id=\"T_67982_row16_col6\" class=\"data row16 col6\" >0.20</td>\n",
       "      <td id=\"T_67982_row16_col7\" class=\"data row16 col7\" >-0.70</td>\n",
       "      <td id=\"T_67982_row16_col8\" class=\"data row16 col8\" >0.20</td>\n",
       "      <td id=\"T_67982_row16_col9\" class=\"data row16 col9\" >-6.30</td>\n",
       "      <td id=\"T_67982_row16_col10\" class=\"data row16 col10\" >Bica2024</td>\n",
       "    </tr>\n",
       "    <tr>\n",
       "      <td id=\"T_67982_row17_col0\" class=\"data row17 col0\" >FSR1775</td>\n",
       "      <td id=\"T_67982_row17_col1\" class=\"data row17 col1\" >269.02</td>\n",
       "      <td id=\"T_67982_row17_col2\" class=\"data row17 col2\" >-36.57</td>\n",
       "      <td id=\"T_67982_row17_col3\" class=\"data row17 col3\" >354.55</td>\n",
       "      <td id=\"T_67982_row17_col4\" class=\"data row17 col4\" >-5.78</td>\n",
       "      <td id=\"T_67982_row17_col5\" class=\"data row17 col5\" >8.90</td>\n",
       "      <td id=\"T_67982_row17_col6\" class=\"data row17 col6\" >0.20</td>\n",
       "      <td id=\"T_67982_row17_col7\" class=\"data row17 col7\" >-1.10</td>\n",
       "      <td id=\"T_67982_row17_col8\" class=\"data row17 col8\" >0.20</td>\n",
       "      <td id=\"T_67982_row17_col9\" class=\"data row17 col9\" >-5.60</td>\n",
       "      <td id=\"T_67982_row17_col10\" class=\"data row17 col10\" >Bica2024</td>\n",
       "    </tr>\n",
       "    <tr>\n",
       "      <td id=\"T_67982_row18_col0\" class=\"data row18 col0\" >FSR1776</td>\n",
       "      <td id=\"T_67982_row18_col1\" class=\"data row18 col1\" >268.56</td>\n",
       "      <td id=\"T_67982_row18_col2\" class=\"data row18 col2\" >-36.15</td>\n",
       "      <td id=\"T_67982_row18_col3\" class=\"data row18 col3\" >354.72</td>\n",
       "      <td id=\"T_67982_row18_col4\" class=\"data row18 col4\" >-5.25</td>\n",
       "      <td id=\"T_67982_row18_col5\" class=\"data row18 col5\" >7.20</td>\n",
       "      <td id=\"T_67982_row18_col6\" class=\"data row18 col6\" >0.50</td>\n",
       "      <td id=\"T_67982_row18_col7\" class=\"data row18 col7\" >0.02</td>\n",
       "      <td id=\"T_67982_row18_col8\" class=\"data row18 col8\" >0.14</td>\n",
       "      <td id=\"T_67982_row18_col9\" class=\"data row18 col9\" >nan</td>\n",
       "      <td id=\"T_67982_row18_col10\" class=\"data row18 col10\" >Bica2024</td>\n",
       "    </tr>\n",
       "    <tr>\n",
       "      <td id=\"T_67982_row19_col0\" class=\"data row19 col0\" >Glimpse_C02</td>\n",
       "      <td id=\"T_67982_row19_col1\" class=\"data row19 col1\" >274.63</td>\n",
       "      <td id=\"T_67982_row19_col2\" class=\"data row19 col2\" >-16.98</td>\n",
       "      <td id=\"T_67982_row19_col3\" class=\"data row19 col3\" >14.13</td>\n",
       "      <td id=\"T_67982_row19_col4\" class=\"data row19 col4\" >-0.64</td>\n",
       "      <td id=\"T_67982_row19_col5\" class=\"data row19 col5\" >nan</td>\n",
       "      <td id=\"T_67982_row19_col6\" class=\"data row19 col6\" >nan</td>\n",
       "      <td id=\"T_67982_row19_col7\" class=\"data row19 col7\" >-1.08</td>\n",
       "      <td id=\"T_67982_row19_col8\" class=\"data row19 col8\" >0.13</td>\n",
       "      <td id=\"T_67982_row19_col9\" class=\"data row19 col9\" >nan</td>\n",
       "      <td id=\"T_67982_row19_col10\" class=\"data row19 col10\" >Bica2024</td>\n",
       "    </tr>\n",
       "    <tr>\n",
       "      <td id=\"T_67982_row20_col0\" class=\"data row20 col0\" >Gran_1</td>\n",
       "      <td id=\"T_67982_row20_col1\" class=\"data row20 col1\" >269.65</td>\n",
       "      <td id=\"T_67982_row20_col2\" class=\"data row20 col2\" >-32.02</td>\n",
       "      <td id=\"T_67982_row20_col3\" class=\"data row20 col3\" >358.77</td>\n",
       "      <td id=\"T_67982_row20_col4\" class=\"data row20 col4\" >-3.98</td>\n",
       "      <td id=\"T_67982_row20_col5\" class=\"data row20 col5\" >7.90</td>\n",
       "      <td id=\"T_67982_row20_col6\" class=\"data row20 col6\" >nan</td>\n",
       "      <td id=\"T_67982_row20_col7\" class=\"data row20 col7\" >-1.13</td>\n",
       "      <td id=\"T_67982_row20_col8\" class=\"data row20 col8\" >0.06</td>\n",
       "      <td id=\"T_67982_row20_col9\" class=\"data row20 col9\" >-5.46</td>\n",
       "      <td id=\"T_67982_row20_col10\" class=\"data row20 col10\" >Bica2024</td>\n",
       "    </tr>\n",
       "    <tr>\n",
       "      <td id=\"T_67982_row21_col0\" class=\"data row21 col0\" >Gran_3</td>\n",
       "      <td id=\"T_67982_row21_col1\" class=\"data row21 col1\" >256.25</td>\n",
       "      <td id=\"T_67982_row21_col2\" class=\"data row21 col2\" >-35.49</td>\n",
       "      <td id=\"T_67982_row21_col3\" class=\"data row21 col3\" >349.76</td>\n",
       "      <td id=\"T_67982_row21_col4\" class=\"data row21 col4\" >3.42</td>\n",
       "      <td id=\"T_67982_row21_col5\" class=\"data row21 col5\" >10.90</td>\n",
       "      <td id=\"T_67982_row21_col6\" class=\"data row21 col6\" >0.50</td>\n",
       "      <td id=\"T_67982_row21_col7\" class=\"data row21 col7\" >-1.63</td>\n",
       "      <td id=\"T_67982_row21_col8\" class=\"data row21 col8\" >0.14</td>\n",
       "      <td id=\"T_67982_row21_col9\" class=\"data row21 col9\" >-3.80</td>\n",
       "      <td id=\"T_67982_row21_col10\" class=\"data row21 col10\" >Bica2024</td>\n",
       "    </tr>\n",
       "    <tr>\n",
       "      <td id=\"T_67982_row22_col0\" class=\"data row22 col0\" >Gran_5</td>\n",
       "      <td id=\"T_67982_row22_col1\" class=\"data row22 col1\" >267.23</td>\n",
       "      <td id=\"T_67982_row22_col2\" class=\"data row22 col2\" >-24.17</td>\n",
       "      <td id=\"T_67982_row22_col3\" class=\"data row22 col3\" >355.54</td>\n",
       "      <td id=\"T_67982_row22_col4\" class=\"data row22 col4\" >1.84</td>\n",
       "      <td id=\"T_67982_row22_col5\" class=\"data row22 col5\" >4.47</td>\n",
       "      <td id=\"T_67982_row22_col6\" class=\"data row22 col6\" >nan</td>\n",
       "      <td id=\"T_67982_row22_col7\" class=\"data row22 col7\" >-1.02</td>\n",
       "      <td id=\"T_67982_row22_col8\" class=\"data row22 col8\" >0.11</td>\n",
       "      <td id=\"T_67982_row22_col9\" class=\"data row22 col9\" >-5.95</td>\n",
       "      <td id=\"T_67982_row22_col10\" class=\"data row22 col10\" >Bica2024</td>\n",
       "    </tr>\n",
       "    <tr>\n",
       "      <td id=\"T_67982_row23_col0\" class=\"data row23 col0\" >HP_1</td>\n",
       "      <td id=\"T_67982_row23_col1\" class=\"data row23 col1\" >262.77</td>\n",
       "      <td id=\"T_67982_row23_col2\" class=\"data row23 col2\" >-29.98</td>\n",
       "      <td id=\"T_67982_row23_col3\" class=\"data row23 col3\" >357.42</td>\n",
       "      <td id=\"T_67982_row23_col4\" class=\"data row23 col4\" >2.12</td>\n",
       "      <td id=\"T_67982_row23_col5\" class=\"data row23 col5\" >6.59</td>\n",
       "      <td id=\"T_67982_row23_col6\" class=\"data row23 col6\" >0.16</td>\n",
       "      <td id=\"T_67982_row23_col7\" class=\"data row23 col7\" >-1.20</td>\n",
       "      <td id=\"T_67982_row23_col8\" class=\"data row23 col8\" >0.10</td>\n",
       "      <td id=\"T_67982_row23_col9\" class=\"data row23 col9\" >-6.46</td>\n",
       "      <td id=\"T_67982_row23_col10\" class=\"data row23 col10\" >Bica2024</td>\n",
       "    </tr>\n",
       "    <tr>\n",
       "      <td id=\"T_67982_row24_col0\" class=\"data row24 col0\" >Kronberger_49</td>\n",
       "      <td id=\"T_67982_row24_col1\" class=\"data row24 col1\" >272.60</td>\n",
       "      <td id=\"T_67982_row24_col2\" class=\"data row24 col2\" >-23.34</td>\n",
       "      <td id=\"T_67982_row24_col3\" class=\"data row24 col3\" >7.63</td>\n",
       "      <td id=\"T_67982_row24_col4\" class=\"data row24 col4\" >-2.01</td>\n",
       "      <td id=\"T_67982_row24_col5\" class=\"data row24 col5\" >8.30</td>\n",
       "      <td id=\"T_67982_row24_col6\" class=\"data row24 col6\" >0.50</td>\n",
       "      <td id=\"T_67982_row24_col7\" class=\"data row24 col7\" >-0.20</td>\n",
       "      <td id=\"T_67982_row24_col8\" class=\"data row24 col8\" >0.20</td>\n",
       "      <td id=\"T_67982_row24_col9\" class=\"data row24 col9\" >-6.70</td>\n",
       "      <td id=\"T_67982_row24_col10\" class=\"data row24 col10\" >Bica2024</td>\n",
       "    </tr>\n",
       "    <tr>\n",
       "      <td id=\"T_67982_row25_col0\" class=\"data row25 col0\" >Liller_1</td>\n",
       "      <td id=\"T_67982_row25_col1\" class=\"data row25 col1\" >263.35</td>\n",
       "      <td id=\"T_67982_row25_col2\" class=\"data row25 col2\" >-33.38</td>\n",
       "      <td id=\"T_67982_row25_col3\" class=\"data row25 col3\" >354.84</td>\n",
       "      <td id=\"T_67982_row25_col4\" class=\"data row25 col4\" >-0.16</td>\n",
       "      <td id=\"T_67982_row25_col5\" class=\"data row25 col5\" >8.20</td>\n",
       "      <td id=\"T_67982_row25_col6\" class=\"data row25 col6\" >0.82</td>\n",
       "      <td id=\"T_67982_row25_col7\" class=\"data row25 col7\" >-0.30</td>\n",
       "      <td id=\"T_67982_row25_col8\" class=\"data row25 col8\" >0.22</td>\n",
       "      <td id=\"T_67982_row25_col9\" class=\"data row25 col9\" >-7.32</td>\n",
       "      <td id=\"T_67982_row25_col10\" class=\"data row25 col10\" >Bica2024</td>\n",
       "    </tr>\n",
       "    <tr>\n",
       "      <td id=\"T_67982_row26_col0\" class=\"data row26 col0\" >Mercer_5</td>\n",
       "      <td id=\"T_67982_row26_col1\" class=\"data row26 col1\" >275.83</td>\n",
       "      <td id=\"T_67982_row26_col2\" class=\"data row26 col2\" >-13.66</td>\n",
       "      <td id=\"T_67982_row26_col3\" class=\"data row26 col3\" >17.59</td>\n",
       "      <td id=\"T_67982_row26_col4\" class=\"data row26 col4\" >-0.86</td>\n",
       "      <td id=\"T_67982_row26_col5\" class=\"data row26 col5\" >5.50</td>\n",
       "      <td id=\"T_67982_row26_col6\" class=\"data row26 col6\" >0.55</td>\n",
       "      <td id=\"T_67982_row26_col7\" class=\"data row26 col7\" >-0.86</td>\n",
       "      <td id=\"T_67982_row26_col8\" class=\"data row26 col8\" >0.12</td>\n",
       "      <td id=\"T_67982_row26_col9\" class=\"data row26 col9\" >nan</td>\n",
       "      <td id=\"T_67982_row26_col10\" class=\"data row26 col10\" >Bica2024</td>\n",
       "    </tr>\n",
       "    <tr>\n",
       "      <td id=\"T_67982_row27_col0\" class=\"data row27 col0\" >Minni_22</td>\n",
       "      <td id=\"T_67982_row27_col1\" class=\"data row27 col1\" >267.21</td>\n",
       "      <td id=\"T_67982_row27_col2\" class=\"data row27 col2\" >-33.06</td>\n",
       "      <td id=\"T_67982_row27_col3\" class=\"data row27 col3\" >356.83</td>\n",
       "      <td id=\"T_67982_row27_col4\" class=\"data row27 col4\" >2.73</td>\n",
       "      <td id=\"T_67982_row27_col5\" class=\"data row27 col5\" >7.40</td>\n",
       "      <td id=\"T_67982_row27_col6\" class=\"data row27 col6\" >0.30</td>\n",
       "      <td id=\"T_67982_row27_col7\" class=\"data row27 col7\" >-1.30</td>\n",
       "      <td id=\"T_67982_row27_col8\" class=\"data row27 col8\" >0.30</td>\n",
       "      <td id=\"T_67982_row27_col9\" class=\"data row27 col9\" >-6.20</td>\n",
       "      <td id=\"T_67982_row27_col10\" class=\"data row27 col10\" >Bica2024</td>\n",
       "    </tr>\n",
       "    <tr>\n",
       "      <td id=\"T_67982_row28_col0\" class=\"data row28 col0\" >Minni_48</td>\n",
       "      <td id=\"T_67982_row28_col1\" class=\"data row28 col1\" >263.32</td>\n",
       "      <td id=\"T_67982_row28_col2\" class=\"data row28 col2\" >-28.00</td>\n",
       "      <td id=\"T_67982_row28_col3\" class=\"data row28 col3\" >359.35</td>\n",
       "      <td id=\"T_67982_row28_col4\" class=\"data row28 col4\" >2.79</td>\n",
       "      <td id=\"T_67982_row28_col5\" class=\"data row28 col5\" >8.40</td>\n",
       "      <td id=\"T_67982_row28_col6\" class=\"data row28 col6\" >1.00</td>\n",
       "      <td id=\"T_67982_row28_col7\" class=\"data row28 col7\" >-0.20</td>\n",
       "      <td id=\"T_67982_row28_col8\" class=\"data row28 col8\" >0.30</td>\n",
       "      <td id=\"T_67982_row28_col9\" class=\"data row28 col9\" >-6.50</td>\n",
       "      <td id=\"T_67982_row28_col10\" class=\"data row28 col10\" >Bica2024</td>\n",
       "    </tr>\n",
       "    <tr>\n",
       "      <td id=\"T_67982_row29_col0\" class=\"data row29 col0\" >NGC_6256</td>\n",
       "      <td id=\"T_67982_row29_col1\" class=\"data row29 col1\" >254.88</td>\n",
       "      <td id=\"T_67982_row29_col2\" class=\"data row29 col2\" >-37.12</td>\n",
       "      <td id=\"T_67982_row29_col3\" class=\"data row29 col3\" >347.79</td>\n",
       "      <td id=\"T_67982_row29_col4\" class=\"data row29 col4\" >3.31</td>\n",
       "      <td id=\"T_67982_row29_col5\" class=\"data row29 col5\" >6.40</td>\n",
       "      <td id=\"T_67982_row29_col6\" class=\"data row29 col6\" >0.64</td>\n",
       "      <td id=\"T_67982_row29_col7\" class=\"data row29 col7\" >-1.05</td>\n",
       "      <td id=\"T_67982_row29_col8\" class=\"data row29 col8\" >0.13</td>\n",
       "      <td id=\"T_67982_row29_col9\" class=\"data row29 col9\" >-7.15</td>\n",
       "      <td id=\"T_67982_row29_col10\" class=\"data row29 col10\" >Bica2024</td>\n",
       "    </tr>\n",
       "    <tr>\n",
       "      <td id=\"T_67982_row30_col0\" class=\"data row30 col0\" >NGC_6266</td>\n",
       "      <td id=\"T_67982_row30_col1\" class=\"data row30 col1\" >255.31</td>\n",
       "      <td id=\"T_67982_row30_col2\" class=\"data row30 col2\" >-30.11</td>\n",
       "      <td id=\"T_67982_row30_col3\" class=\"data row30 col3\" >353.58</td>\n",
       "      <td id=\"T_67982_row30_col4\" class=\"data row30 col4\" >7.32</td>\n",
       "      <td id=\"T_67982_row30_col5\" class=\"data row30 col5\" >6.41</td>\n",
       "      <td id=\"T_67982_row30_col6\" class=\"data row30 col6\" >0.12</td>\n",
       "      <td id=\"T_67982_row30_col7\" class=\"data row30 col7\" >-1.18</td>\n",
       "      <td id=\"T_67982_row30_col8\" class=\"data row30 col8\" >0.07</td>\n",
       "      <td id=\"T_67982_row30_col9\" class=\"data row30 col9\" >-9.18</td>\n",
       "      <td id=\"T_67982_row30_col10\" class=\"data row30 col10\" >Bica2024</td>\n",
       "    </tr>\n",
       "    <tr>\n",
       "      <td id=\"T_67982_row31_col0\" class=\"data row31 col0\" >NGC_6304</td>\n",
       "      <td id=\"T_67982_row31_col1\" class=\"data row31 col1\" >258.63</td>\n",
       "      <td id=\"T_67982_row31_col2\" class=\"data row31 col2\" >-29.46</td>\n",
       "      <td id=\"T_67982_row31_col3\" class=\"data row31 col3\" >355.83</td>\n",
       "      <td id=\"T_67982_row31_col4\" class=\"data row31 col4\" >5.38</td>\n",
       "      <td id=\"T_67982_row31_col5\" class=\"data row31 col5\" >6.28</td>\n",
       "      <td id=\"T_67982_row31_col6\" class=\"data row31 col6\" >0.11</td>\n",
       "      <td id=\"T_67982_row31_col7\" class=\"data row31 col7\" >-0.37</td>\n",
       "      <td id=\"T_67982_row31_col8\" class=\"data row31 col8\" >0.07</td>\n",
       "      <td id=\"T_67982_row31_col9\" class=\"data row31 col9\" >-7.30</td>\n",
       "      <td id=\"T_67982_row31_col10\" class=\"data row31 col10\" >Bica2024</td>\n",
       "    </tr>\n",
       "    <tr>\n",
       "      <td id=\"T_67982_row32_col0\" class=\"data row32 col0\" >NGC_6316</td>\n",
       "      <td id=\"T_67982_row32_col1\" class=\"data row32 col1\" >259.16</td>\n",
       "      <td id=\"T_67982_row32_col2\" class=\"data row32 col2\" >-28.14</td>\n",
       "      <td id=\"T_67982_row32_col3\" class=\"data row32 col3\" >357.18</td>\n",
       "      <td id=\"T_67982_row32_col4\" class=\"data row32 col4\" >5.76</td>\n",
       "      <td id=\"T_67982_row32_col5\" class=\"data row32 col5\" >11.60</td>\n",
       "      <td id=\"T_67982_row32_col6\" class=\"data row32 col6\" >1.16</td>\n",
       "      <td id=\"T_67982_row32_col7\" class=\"data row32 col7\" >-0.50</td>\n",
       "      <td id=\"T_67982_row32_col8\" class=\"data row32 col8\" >0.06</td>\n",
       "      <td id=\"T_67982_row32_col9\" class=\"data row32 col9\" >-8.34</td>\n",
       "      <td id=\"T_67982_row32_col10\" class=\"data row32 col10\" >Bica2024</td>\n",
       "    </tr>\n",
       "    <tr>\n",
       "      <td id=\"T_67982_row33_col0\" class=\"data row33 col0\" >NGC_6325</td>\n",
       "      <td id=\"T_67982_row33_col1\" class=\"data row33 col1\" >259.50</td>\n",
       "      <td id=\"T_67982_row33_col2\" class=\"data row33 col2\" >-23.77</td>\n",
       "      <td id=\"T_67982_row33_col3\" class=\"data row33 col3\" >0.97</td>\n",
       "      <td id=\"T_67982_row33_col4\" class=\"data row33 col4\" >8.00</td>\n",
       "      <td id=\"T_67982_row33_col5\" class=\"data row33 col5\" >7.80</td>\n",
       "      <td id=\"T_67982_row33_col6\" class=\"data row33 col6\" >0.78</td>\n",
       "      <td id=\"T_67982_row33_col7\" class=\"data row33 col7\" >-1.38</td>\n",
       "      <td id=\"T_67982_row33_col8\" class=\"data row33 col8\" >0.10</td>\n",
       "      <td id=\"T_67982_row33_col9\" class=\"data row33 col9\" >-6.96</td>\n",
       "      <td id=\"T_67982_row33_col10\" class=\"data row33 col10\" >Bica2024</td>\n",
       "    </tr>\n",
       "    <tr>\n",
       "      <td id=\"T_67982_row34_col0\" class=\"data row34 col0\" >NGC_6342</td>\n",
       "      <td id=\"T_67982_row34_col1\" class=\"data row34 col1\" >260.29</td>\n",
       "      <td id=\"T_67982_row34_col2\" class=\"data row34 col2\" >-19.58</td>\n",
       "      <td id=\"T_67982_row34_col3\" class=\"data row34 col3\" >4.90</td>\n",
       "      <td id=\"T_67982_row34_col4\" class=\"data row34 col4\" >9.73</td>\n",
       "      <td id=\"T_67982_row34_col5\" class=\"data row34 col5\" >8.43</td>\n",
       "      <td id=\"T_67982_row34_col6\" class=\"data row34 col6\" >0.84</td>\n",
       "      <td id=\"T_67982_row34_col7\" class=\"data row34 col7\" >-0.55</td>\n",
       "      <td id=\"T_67982_row34_col8\" class=\"data row34 col8\" >0.05</td>\n",
       "      <td id=\"T_67982_row34_col9\" class=\"data row34 col9\" >-6.42</td>\n",
       "      <td id=\"T_67982_row34_col10\" class=\"data row34 col10\" >Bica2024</td>\n",
       "    </tr>\n",
       "    <tr>\n",
       "      <td id=\"T_67982_row35_col0\" class=\"data row35 col0\" >NGC_6355</td>\n",
       "      <td id=\"T_67982_row35_col1\" class=\"data row35 col1\" >260.99</td>\n",
       "      <td id=\"T_67982_row35_col2\" class=\"data row35 col2\" >-26.36</td>\n",
       "      <td id=\"T_67982_row35_col3\" class=\"data row35 col3\" >359.58</td>\n",
       "      <td id=\"T_67982_row35_col4\" class=\"data row35 col4\" >5.43</td>\n",
       "      <td id=\"T_67982_row35_col5\" class=\"data row35 col5\" >8.70</td>\n",
       "      <td id=\"T_67982_row35_col6\" class=\"data row35 col6\" >0.87</td>\n",
       "      <td id=\"T_67982_row35_col7\" class=\"data row35 col7\" >-1.39</td>\n",
       "      <td id=\"T_67982_row35_col8\" class=\"data row35 col8\" >0.08</td>\n",
       "      <td id=\"T_67982_row35_col9\" class=\"data row35 col9\" >-8.07</td>\n",
       "      <td id=\"T_67982_row35_col10\" class=\"data row35 col10\" >Bica2024</td>\n",
       "    </tr>\n",
       "    <tr>\n",
       "      <td id=\"T_67982_row36_col0\" class=\"data row36 col0\" >NGC_6401</td>\n",
       "      <td id=\"T_67982_row36_col1\" class=\"data row36 col1\" >264.65</td>\n",
       "      <td id=\"T_67982_row36_col2\" class=\"data row36 col2\" >-23.91</td>\n",
       "      <td id=\"T_67982_row36_col3\" class=\"data row36 col3\" >3.45</td>\n",
       "      <td id=\"T_67982_row36_col4\" class=\"data row36 col4\" >3.98</td>\n",
       "      <td id=\"T_67982_row36_col5\" class=\"data row36 col5\" >7.70</td>\n",
       "      <td id=\"T_67982_row36_col6\" class=\"data row36 col6\" >0.77</td>\n",
       "      <td id=\"T_67982_row36_col7\" class=\"data row36 col7\" >-1.12</td>\n",
       "      <td id=\"T_67982_row36_col8\" class=\"data row36 col8\" >0.07</td>\n",
       "      <td id=\"T_67982_row36_col9\" class=\"data row36 col9\" >-7.90</td>\n",
       "      <td id=\"T_67982_row36_col10\" class=\"data row36 col10\" >Bica2024</td>\n",
       "    </tr>\n",
       "    <tr>\n",
       "      <td id=\"T_67982_row37_col0\" class=\"data row37 col0\" >NGC_6440</td>\n",
       "      <td id=\"T_67982_row37_col1\" class=\"data row37 col1\" >267.22</td>\n",
       "      <td id=\"T_67982_row37_col2\" class=\"data row37 col2\" >-20.36</td>\n",
       "      <td id=\"T_67982_row37_col3\" class=\"data row37 col3\" >7.73</td>\n",
       "      <td id=\"T_67982_row37_col4\" class=\"data row37 col4\" >3.80</td>\n",
       "      <td id=\"T_67982_row37_col5\" class=\"data row37 col5\" >8.24</td>\n",
       "      <td id=\"T_67982_row37_col6\" class=\"data row37 col6\" >0.82</td>\n",
       "      <td id=\"T_67982_row37_col7\" class=\"data row37 col7\" >-0.24</td>\n",
       "      <td id=\"T_67982_row37_col8\" class=\"data row37 col8\" >0.05</td>\n",
       "      <td id=\"T_67982_row37_col9\" class=\"data row37 col9\" >-8.75</td>\n",
       "      <td id=\"T_67982_row37_col10\" class=\"data row37 col10\" >Bica2024</td>\n",
       "    </tr>\n",
       "    <tr>\n",
       "      <td id=\"T_67982_row38_col0\" class=\"data row38 col0\" >NGC_6522</td>\n",
       "      <td id=\"T_67982_row38_col1\" class=\"data row38 col1\" >270.89</td>\n",
       "      <td id=\"T_67982_row38_col2\" class=\"data row38 col2\" >-30.03</td>\n",
       "      <td id=\"T_67982_row38_col3\" class=\"data row38 col3\" >1.02</td>\n",
       "      <td id=\"T_67982_row38_col4\" class=\"data row38 col4\" >-3.93</td>\n",
       "      <td id=\"T_67982_row38_col5\" class=\"data row38 col5\" >7.40</td>\n",
       "      <td id=\"T_67982_row38_col6\" class=\"data row38 col6\" >0.19</td>\n",
       "      <td id=\"T_67982_row38_col7\" class=\"data row38 col7\" >-1.05</td>\n",
       "      <td id=\"T_67982_row38_col8\" class=\"data row38 col8\" >0.11</td>\n",
       "      <td id=\"T_67982_row38_col9\" class=\"data row38 col9\" >-7.65</td>\n",
       "      <td id=\"T_67982_row38_col10\" class=\"data row38 col10\" >Bica2024</td>\n",
       "    </tr>\n",
       "    <tr>\n",
       "      <td id=\"T_67982_row39_col0\" class=\"data row39 col0\" >NGC_6528</td>\n",
       "      <td id=\"T_67982_row39_col1\" class=\"data row39 col1\" >271.20</td>\n",
       "      <td id=\"T_67982_row39_col2\" class=\"data row39 col2\" >-30.05</td>\n",
       "      <td id=\"T_67982_row39_col3\" class=\"data row39 col3\" >1.14</td>\n",
       "      <td id=\"T_67982_row39_col4\" class=\"data row39 col4\" >-4.17</td>\n",
       "      <td id=\"T_67982_row39_col5\" class=\"data row39 col5\" >7.70</td>\n",
       "      <td id=\"T_67982_row39_col6\" class=\"data row39 col6\" >0.77</td>\n",
       "      <td id=\"T_67982_row39_col7\" class=\"data row39 col7\" >-0.17</td>\n",
       "      <td id=\"T_67982_row39_col8\" class=\"data row39 col8\" >0.07</td>\n",
       "      <td id=\"T_67982_row39_col9\" class=\"data row39 col9\" >-6.57</td>\n",
       "      <td id=\"T_67982_row39_col10\" class=\"data row39 col10\" >Bica2024</td>\n",
       "    </tr>\n",
       "    <tr>\n",
       "      <td id=\"T_67982_row40_col0\" class=\"data row40 col0\" >NGC_6539</td>\n",
       "      <td id=\"T_67982_row40_col1\" class=\"data row40 col1\" >271.21</td>\n",
       "      <td id=\"T_67982_row40_col2\" class=\"data row40 col2\" >-7.58</td>\n",
       "      <td id=\"T_67982_row40_col3\" class=\"data row40 col3\" >20.80</td>\n",
       "      <td id=\"T_67982_row40_col4\" class=\"data row40 col4\" >6.78</td>\n",
       "      <td id=\"T_67982_row40_col5\" class=\"data row40 col5\" >7.85</td>\n",
       "      <td id=\"T_67982_row40_col6\" class=\"data row40 col6\" >0.66</td>\n",
       "      <td id=\"T_67982_row40_col7\" class=\"data row40 col7\" >-0.55</td>\n",
       "      <td id=\"T_67982_row40_col8\" class=\"data row40 col8\" >0.06</td>\n",
       "      <td id=\"T_67982_row40_col9\" class=\"data row40 col9\" >-8.29</td>\n",
       "      <td id=\"T_67982_row40_col10\" class=\"data row40 col10\" >Bica2024</td>\n",
       "    </tr>\n",
       "    <tr>\n",
       "      <td id=\"T_67982_row41_col0\" class=\"data row41 col0\" >NGC_6540</td>\n",
       "      <td id=\"T_67982_row41_col1\" class=\"data row41 col1\" >271.53</td>\n",
       "      <td id=\"T_67982_row41_col2\" class=\"data row41 col2\" >-27.76</td>\n",
       "      <td id=\"T_67982_row41_col3\" class=\"data row41 col3\" >3.29</td>\n",
       "      <td id=\"T_67982_row41_col4\" class=\"data row41 col4\" >-3.31</td>\n",
       "      <td id=\"T_67982_row41_col5\" class=\"data row41 col5\" >5.20</td>\n",
       "      <td id=\"T_67982_row41_col6\" class=\"data row41 col6\" >0.52</td>\n",
       "      <td id=\"T_67982_row41_col7\" class=\"data row41 col7\" >-1.06</td>\n",
       "      <td id=\"T_67982_row41_col8\" class=\"data row41 col8\" >0.06</td>\n",
       "      <td id=\"T_67982_row41_col9\" class=\"data row41 col9\" >-6.35</td>\n",
       "      <td id=\"T_67982_row41_col10\" class=\"data row41 col10\" >Bica2024</td>\n",
       "    </tr>\n",
       "    <tr>\n",
       "      <td id=\"T_67982_row42_col0\" class=\"data row42 col0\" >NGC_6553</td>\n",
       "      <td id=\"T_67982_row42_col1\" class=\"data row42 col1\" >272.32</td>\n",
       "      <td id=\"T_67982_row42_col2\" class=\"data row42 col2\" >-25.90</td>\n",
       "      <td id=\"T_67982_row42_col3\" class=\"data row42 col3\" >5.25</td>\n",
       "      <td id=\"T_67982_row42_col4\" class=\"data row42 col4\" >-3.02</td>\n",
       "      <td id=\"T_67982_row42_col5\" class=\"data row42 col5\" >6.75</td>\n",
       "      <td id=\"T_67982_row42_col6\" class=\"data row42 col6\" >0.22</td>\n",
       "      <td id=\"T_67982_row42_col7\" class=\"data row42 col7\" >-0.27</td>\n",
       "      <td id=\"T_67982_row42_col8\" class=\"data row42 col8\" >0.09</td>\n",
       "      <td id=\"T_67982_row42_col9\" class=\"data row42 col9\" >-7.77</td>\n",
       "      <td id=\"T_67982_row42_col10\" class=\"data row42 col10\" >Bica2024</td>\n",
       "    </tr>\n",
       "    <tr>\n",
       "      <td id=\"T_67982_row43_col0\" class=\"data row43 col0\" >NGC_6558</td>\n",
       "      <td id=\"T_67982_row43_col1\" class=\"data row43 col1\" >272.57</td>\n",
       "      <td id=\"T_67982_row43_col2\" class=\"data row43 col2\" >-31.76</td>\n",
       "      <td id=\"T_67982_row43_col3\" class=\"data row43 col3\" >0.20</td>\n",
       "      <td id=\"T_67982_row43_col4\" class=\"data row43 col4\" >-6.03</td>\n",
       "      <td id=\"T_67982_row43_col5\" class=\"data row43 col5\" >8.26</td>\n",
       "      <td id=\"T_67982_row43_col6\" class=\"data row43 col6\" >0.53</td>\n",
       "      <td id=\"T_67982_row43_col7\" class=\"data row43 col7\" >-1.16</td>\n",
       "      <td id=\"T_67982_row43_col8\" class=\"data row43 col8\" >0.08</td>\n",
       "      <td id=\"T_67982_row43_col9\" class=\"data row43 col9\" >-6.44</td>\n",
       "      <td id=\"T_67982_row43_col10\" class=\"data row43 col10\" >Bica2024</td>\n",
       "    </tr>\n",
       "    <tr>\n",
       "      <td id=\"T_67982_row44_col0\" class=\"data row44 col0\" >NGC_6624</td>\n",
       "      <td id=\"T_67982_row44_col1\" class=\"data row44 col1\" >275.92</td>\n",
       "      <td id=\"T_67982_row44_col2\" class=\"data row44 col2\" >-30.36</td>\n",
       "      <td id=\"T_67982_row44_col3\" class=\"data row44 col3\" >2.79</td>\n",
       "      <td id=\"T_67982_row44_col4\" class=\"data row44 col4\" >-7.91</td>\n",
       "      <td id=\"T_67982_row44_col5\" class=\"data row44 col5\" >8.43</td>\n",
       "      <td id=\"T_67982_row44_col6\" class=\"data row44 col6\" >0.11</td>\n",
       "      <td id=\"T_67982_row44_col7\" class=\"data row44 col7\" >-0.36</td>\n",
       "      <td id=\"T_67982_row44_col8\" class=\"data row44 col8\" >0.12</td>\n",
       "      <td id=\"T_67982_row44_col9\" class=\"data row44 col9\" >-7.49</td>\n",
       "      <td id=\"T_67982_row44_col10\" class=\"data row44 col10\" >Bica2024</td>\n",
       "    </tr>\n",
       "    <tr>\n",
       "      <td id=\"T_67982_row45_col0\" class=\"data row45 col0\" >NGC_6626</td>\n",
       "      <td id=\"T_67982_row45_col1\" class=\"data row45 col1\" >276.14</td>\n",
       "      <td id=\"T_67982_row45_col2\" class=\"data row45 col2\" >-24.87</td>\n",
       "      <td id=\"T_67982_row45_col3\" class=\"data row45 col3\" >7.80</td>\n",
       "      <td id=\"T_67982_row45_col4\" class=\"data row45 col4\" >-5.58</td>\n",
       "      <td id=\"T_67982_row45_col5\" class=\"data row45 col5\" >5.34</td>\n",
       "      <td id=\"T_67982_row45_col6\" class=\"data row45 col6\" >0.17</td>\n",
       "      <td id=\"T_67982_row45_col7\" class=\"data row45 col7\" >-1.29</td>\n",
       "      <td id=\"T_67982_row45_col8\" class=\"data row45 col8\" >0.01</td>\n",
       "      <td id=\"T_67982_row45_col9\" class=\"data row45 col9\" >-8.16</td>\n",
       "      <td id=\"T_67982_row45_col10\" class=\"data row45 col10\" >Bica2024</td>\n",
       "    </tr>\n",
       "    <tr>\n",
       "      <td id=\"T_67982_row46_col0\" class=\"data row46 col0\" >NGC_6637</td>\n",
       "      <td id=\"T_67982_row46_col1\" class=\"data row46 col1\" >277.85</td>\n",
       "      <td id=\"T_67982_row46_col2\" class=\"data row46 col2\" >-32.35</td>\n",
       "      <td id=\"T_67982_row46_col3\" class=\"data row46 col3\" >1.72</td>\n",
       "      <td id=\"T_67982_row46_col4\" class=\"data row46 col4\" >-10.27</td>\n",
       "      <td id=\"T_67982_row46_col5\" class=\"data row46 col5\" >8.80</td>\n",
       "      <td id=\"T_67982_row46_col6\" class=\"data row46 col6\" >0.88</td>\n",
       "      <td id=\"T_67982_row46_col7\" class=\"data row46 col7\" >-0.59</td>\n",
       "      <td id=\"T_67982_row46_col8\" class=\"data row46 col8\" >0.07</td>\n",
       "      <td id=\"T_67982_row46_col9\" class=\"data row46 col9\" >-7.64</td>\n",
       "      <td id=\"T_67982_row46_col10\" class=\"data row46 col10\" >Bica2024</td>\n",
       "    </tr>\n",
       "    <tr>\n",
       "      <td id=\"T_67982_row47_col0\" class=\"data row47 col0\" >NGC_6638</td>\n",
       "      <td id=\"T_67982_row47_col1\" class=\"data row47 col1\" >277.73</td>\n",
       "      <td id=\"T_67982_row47_col2\" class=\"data row47 col2\" >-25.49</td>\n",
       "      <td id=\"T_67982_row47_col3\" class=\"data row47 col3\" >7.90</td>\n",
       "      <td id=\"T_67982_row47_col4\" class=\"data row47 col4\" >-7.15</td>\n",
       "      <td id=\"T_67982_row47_col5\" class=\"data row47 col5\" >10.32</td>\n",
       "      <td id=\"T_67982_row47_col6\" class=\"data row47 col6\" >1.03</td>\n",
       "      <td id=\"T_67982_row47_col7\" class=\"data row47 col7\" >-0.99</td>\n",
       "      <td id=\"T_67982_row47_col8\" class=\"data row47 col8\" >0.07</td>\n",
       "      <td id=\"T_67982_row47_col9\" class=\"data row47 col9\" >-7.12</td>\n",
       "      <td id=\"T_67982_row47_col10\" class=\"data row47 col10\" >Bica2024</td>\n",
       "    </tr>\n",
       "    <tr>\n",
       "      <td id=\"T_67982_row48_col0\" class=\"data row48 col0\" >NGC_6642</td>\n",
       "      <td id=\"T_67982_row48_col1\" class=\"data row48 col1\" >277.97</td>\n",
       "      <td id=\"T_67982_row48_col2\" class=\"data row48 col2\" >-23.48</td>\n",
       "      <td id=\"T_67982_row48_col3\" class=\"data row48 col3\" >9.81</td>\n",
       "      <td id=\"T_67982_row48_col4\" class=\"data row48 col4\" >-6.44</td>\n",
       "      <td id=\"T_67982_row48_col5\" class=\"data row48 col5\" >8.10</td>\n",
       "      <td id=\"T_67982_row48_col6\" class=\"data row48 col6\" >0.81</td>\n",
       "      <td id=\"T_67982_row48_col7\" class=\"data row48 col7\" >-1.11</td>\n",
       "      <td id=\"T_67982_row48_col8\" class=\"data row48 col8\" >0.14</td>\n",
       "      <td id=\"T_67982_row48_col9\" class=\"data row48 col9\" >-6.66</td>\n",
       "      <td id=\"T_67982_row48_col10\" class=\"data row48 col10\" >Bica2024</td>\n",
       "    </tr>\n",
       "    <tr>\n",
       "      <td id=\"T_67982_row49_col0\" class=\"data row49 col0\" >NGC_6652</td>\n",
       "      <td id=\"T_67982_row49_col1\" class=\"data row49 col1\" >278.94</td>\n",
       "      <td id=\"T_67982_row49_col2\" class=\"data row49 col2\" >-32.99</td>\n",
       "      <td id=\"T_67982_row49_col3\" class=\"data row49 col3\" >1.53</td>\n",
       "      <td id=\"T_67982_row49_col4\" class=\"data row49 col4\" >-11.38</td>\n",
       "      <td id=\"T_67982_row49_col5\" class=\"data row49 col5\" >9.51</td>\n",
       "      <td id=\"T_67982_row49_col6\" class=\"data row49 col6\" >0.12</td>\n",
       "      <td id=\"T_67982_row49_col7\" class=\"data row49 col7\" >-0.76</td>\n",
       "      <td id=\"T_67982_row49_col8\" class=\"data row49 col8\" >0.14</td>\n",
       "      <td id=\"T_67982_row49_col9\" class=\"data row49 col9\" >-6.66</td>\n",
       "      <td id=\"T_67982_row49_col10\" class=\"data row49 col10\" >Bica2024</td>\n",
       "    </tr>\n",
       "    <tr>\n",
       "      <td id=\"T_67982_row50_col0\" class=\"data row50 col0\" >NGC_6717</td>\n",
       "      <td id=\"T_67982_row50_col1\" class=\"data row50 col1\" >283.78</td>\n",
       "      <td id=\"T_67982_row50_col2\" class=\"data row50 col2\" >-22.70</td>\n",
       "      <td id=\"T_67982_row50_col3\" class=\"data row50 col3\" >12.88</td>\n",
       "      <td id=\"T_67982_row50_col4\" class=\"data row50 col4\" >-10.90</td>\n",
       "      <td id=\"T_67982_row50_col5\" class=\"data row50 col5\" >7.14</td>\n",
       "      <td id=\"T_67982_row50_col6\" class=\"data row50 col6\" >0.10</td>\n",
       "      <td id=\"T_67982_row50_col7\" class=\"data row50 col7\" >-1.26</td>\n",
       "      <td id=\"T_67982_row50_col8\" class=\"data row50 col8\" >0.07</td>\n",
       "      <td id=\"T_67982_row50_col9\" class=\"data row50 col9\" >-5.66</td>\n",
       "      <td id=\"T_67982_row50_col10\" class=\"data row50 col10\" >Bica2024</td>\n",
       "    </tr>\n",
       "    <tr>\n",
       "      <td id=\"T_67982_row51_col0\" class=\"data row51 col0\" >NGC_6723</td>\n",
       "      <td id=\"T_67982_row51_col1\" class=\"data row51 col1\" >284.89</td>\n",
       "      <td id=\"T_67982_row51_col2\" class=\"data row51 col2\" >-36.63</td>\n",
       "      <td id=\"T_67982_row51_col3\" class=\"data row51 col3\" >0.07</td>\n",
       "      <td id=\"T_67982_row51_col4\" class=\"data row51 col4\" >-17.30</td>\n",
       "      <td id=\"T_67982_row51_col5\" class=\"data row51 col5\" >8.17</td>\n",
       "      <td id=\"T_67982_row51_col6\" class=\"data row51 col6\" >0.11</td>\n",
       "      <td id=\"T_67982_row51_col7\" class=\"data row51 col7\" >-1.01</td>\n",
       "      <td id=\"T_67982_row51_col8\" class=\"data row51 col8\" >0.05</td>\n",
       "      <td id=\"T_67982_row51_col9\" class=\"data row51 col9\" >-7.83</td>\n",
       "      <td id=\"T_67982_row51_col10\" class=\"data row51 col10\" >Bica2024</td>\n",
       "    </tr>\n",
       "    <tr>\n",
       "      <td id=\"T_67982_row52_col0\" class=\"data row52 col0\" >Palomar_6</td>\n",
       "      <td id=\"T_67982_row52_col1\" class=\"data row52 col1\" >265.93</td>\n",
       "      <td id=\"T_67982_row52_col2\" class=\"data row52 col2\" >-26.22</td>\n",
       "      <td id=\"T_67982_row52_col3\" class=\"data row52 col3\" >2.09</td>\n",
       "      <td id=\"T_67982_row52_col4\" class=\"data row52 col4\" >1.78</td>\n",
       "      <td id=\"T_67982_row52_col5\" class=\"data row52 col5\" >5.80</td>\n",
       "      <td id=\"T_67982_row52_col6\" class=\"data row52 col6\" >0.58</td>\n",
       "      <td id=\"T_67982_row52_col7\" class=\"data row52 col7\" >-1.10</td>\n",
       "      <td id=\"T_67982_row52_col8\" class=\"data row52 col8\" >0.09</td>\n",
       "      <td id=\"T_67982_row52_col9\" class=\"data row52 col9\" >-6.79</td>\n",
       "      <td id=\"T_67982_row52_col10\" class=\"data row52 col10\" >Bica2024</td>\n",
       "    </tr>\n",
       "    <tr>\n",
       "      <td id=\"T_67982_row53_col0\" class=\"data row53 col0\" >Patchick_126</td>\n",
       "      <td id=\"T_67982_row53_col1\" class=\"data row53 col1\" >256.41</td>\n",
       "      <td id=\"T_67982_row53_col2\" class=\"data row53 col2\" >-47.34</td>\n",
       "      <td id=\"T_67982_row53_col3\" class=\"data row53 col3\" >340.38</td>\n",
       "      <td id=\"T_67982_row53_col4\" class=\"data row53 col4\" >-3.83</td>\n",
       "      <td id=\"T_67982_row53_col5\" class=\"data row53 col5\" >8.60</td>\n",
       "      <td id=\"T_67982_row53_col6\" class=\"data row53 col6\" >0.40</td>\n",
       "      <td id=\"T_67982_row53_col7\" class=\"data row53 col7\" >-0.70</td>\n",
       "      <td id=\"T_67982_row53_col8\" class=\"data row53 col8\" >0.30</td>\n",
       "      <td id=\"T_67982_row53_col9\" class=\"data row53 col9\" >-3.50</td>\n",
       "      <td id=\"T_67982_row53_col10\" class=\"data row53 col10\" >Bica2024</td>\n",
       "    </tr>\n",
       "    <tr>\n",
       "      <td id=\"T_67982_row54_col0\" class=\"data row54 col0\" >Patchick_99</td>\n",
       "      <td id=\"T_67982_row54_col1\" class=\"data row54 col1\" >273.95</td>\n",
       "      <td id=\"T_67982_row54_col2\" class=\"data row54 col2\" >-29.81</td>\n",
       "      <td id=\"T_67982_row54_col3\" class=\"data row54 col3\" >2.49</td>\n",
       "      <td id=\"T_67982_row54_col4\" class=\"data row54 col4\" >-6.14</td>\n",
       "      <td id=\"T_67982_row54_col5\" class=\"data row54 col5\" >6.40</td>\n",
       "      <td id=\"T_67982_row54_col6\" class=\"data row54 col6\" >0.20</td>\n",
       "      <td id=\"T_67982_row54_col7\" class=\"data row54 col7\" >-0.20</td>\n",
       "      <td id=\"T_67982_row54_col8\" class=\"data row54 col8\" >0.20</td>\n",
       "      <td id=\"T_67982_row54_col9\" class=\"data row54 col9\" >-5.20</td>\n",
       "      <td id=\"T_67982_row54_col10\" class=\"data row54 col10\" >Bica2024</td>\n",
       "    </tr>\n",
       "    <tr>\n",
       "      <td id=\"T_67982_row55_col0\" class=\"data row55 col0\" >RLGC_2</td>\n",
       "      <td id=\"T_67982_row55_col1\" class=\"data row55 col1\" >281.37</td>\n",
       "      <td id=\"T_67982_row55_col2\" class=\"data row55 col2\" >-5.19</td>\n",
       "      <td id=\"T_67982_row55_col3\" class=\"data row55 col3\" >27.63</td>\n",
       "      <td id=\"T_67982_row55_col4\" class=\"data row55 col4\" >-1.04</td>\n",
       "      <td id=\"T_67982_row55_col5\" class=\"data row55 col5\" >15.80</td>\n",
       "      <td id=\"T_67982_row55_col6\" class=\"data row55 col6\" >2.40</td>\n",
       "      <td id=\"T_67982_row55_col7\" class=\"data row55 col7\" >-2.10</td>\n",
       "      <td id=\"T_67982_row55_col8\" class=\"data row55 col8\" >0.30</td>\n",
       "      <td id=\"T_67982_row55_col9\" class=\"data row55 col9\" >nan</td>\n",
       "      <td id=\"T_67982_row55_col10\" class=\"data row55 col10\" >Bica2024</td>\n",
       "    </tr>\n",
       "    <tr>\n",
       "      <td id=\"T_67982_row56_col0\" class=\"data row56 col0\" >Terzan_1</td>\n",
       "      <td id=\"T_67982_row56_col1\" class=\"data row56 col1\" >263.95</td>\n",
       "      <td id=\"T_67982_row56_col2\" class=\"data row56 col2\" >-30.47</td>\n",
       "      <td id=\"T_67982_row56_col3\" class=\"data row56 col3\" >357.57</td>\n",
       "      <td id=\"T_67982_row56_col4\" class=\"data row56 col4\" >1.00</td>\n",
       "      <td id=\"T_67982_row56_col5\" class=\"data row56 col5\" >6.70</td>\n",
       "      <td id=\"T_67982_row56_col6\" class=\"data row56 col6\" >0.67</td>\n",
       "      <td id=\"T_67982_row56_col7\" class=\"data row56 col7\" >-1.06</td>\n",
       "      <td id=\"T_67982_row56_col8\" class=\"data row56 col8\" >0.13</td>\n",
       "      <td id=\"T_67982_row56_col9\" class=\"data row56 col9\" >-4.41</td>\n",
       "      <td id=\"T_67982_row56_col10\" class=\"data row56 col10\" >Bica2024</td>\n",
       "    </tr>\n",
       "    <tr>\n",
       "      <td id=\"T_67982_row57_col0\" class=\"data row57 col0\" >Terzan_10</td>\n",
       "      <td id=\"T_67982_row57_col1\" class=\"data row57 col1\" >270.74</td>\n",
       "      <td id=\"T_67982_row57_col2\" class=\"data row57 col2\" >-26.06</td>\n",
       "      <td id=\"T_67982_row57_col3\" class=\"data row57 col3\" >4.42</td>\n",
       "      <td id=\"T_67982_row57_col4\" class=\"data row57 col4\" >-1.86</td>\n",
       "      <td id=\"T_67982_row57_col5\" class=\"data row57 col5\" >10.30</td>\n",
       "      <td id=\"T_67982_row57_col6\" class=\"data row57 col6\" >1.00</td>\n",
       "      <td id=\"T_67982_row57_col7\" class=\"data row57 col7\" >-1.47</td>\n",
       "      <td id=\"T_67982_row57_col8\" class=\"data row57 col8\" >0.02</td>\n",
       "      <td id=\"T_67982_row57_col9\" class=\"data row57 col9\" >-6.35</td>\n",
       "      <td id=\"T_67982_row57_col10\" class=\"data row57 col10\" >Bica2024</td>\n",
       "    </tr>\n",
       "    <tr>\n",
       "      <td id=\"T_67982_row58_col0\" class=\"data row58 col0\" >Terzan_2</td>\n",
       "      <td id=\"T_67982_row58_col1\" class=\"data row58 col1\" >273.06</td>\n",
       "      <td id=\"T_67982_row58_col2\" class=\"data row58 col2\" >-22.74</td>\n",
       "      <td id=\"T_67982_row58_col3\" class=\"data row58 col3\" >356.32</td>\n",
       "      <td id=\"T_67982_row58_col4\" class=\"data row58 col4\" >2.30</td>\n",
       "      <td id=\"T_67982_row58_col5\" class=\"data row58 col5\" >7.50</td>\n",
       "      <td id=\"T_67982_row58_col6\" class=\"data row58 col6\" >0.75</td>\n",
       "      <td id=\"T_67982_row58_col7\" class=\"data row58 col7\" >-0.85</td>\n",
       "      <td id=\"T_67982_row58_col8\" class=\"data row58 col8\" >0.04</td>\n",
       "      <td id=\"T_67982_row58_col9\" class=\"data row58 col9\" >-5.88</td>\n",
       "      <td id=\"T_67982_row58_col10\" class=\"data row58 col10\" >Bica2024</td>\n",
       "    </tr>\n",
       "    <tr>\n",
       "      <td id=\"T_67982_row59_col0\" class=\"data row59 col0\" >Terzan_3</td>\n",
       "      <td id=\"T_67982_row59_col1\" class=\"data row59 col1\" >261.89</td>\n",
       "      <td id=\"T_67982_row59_col2\" class=\"data row59 col2\" >-30.80</td>\n",
       "      <td id=\"T_67982_row59_col3\" class=\"data row59 col3\" >345.08</td>\n",
       "      <td id=\"T_67982_row59_col4\" class=\"data row59 col4\" >9.19</td>\n",
       "      <td id=\"T_67982_row59_col5\" class=\"data row59 col5\" >8.20</td>\n",
       "      <td id=\"T_67982_row59_col6\" class=\"data row59 col6\" >0.82</td>\n",
       "      <td id=\"T_67982_row59_col7\" class=\"data row59 col7\" >-1.01</td>\n",
       "      <td id=\"T_67982_row59_col8\" class=\"data row59 col8\" >0.08</td>\n",
       "      <td id=\"T_67982_row59_col9\" class=\"data row59 col9\" >-4.82</td>\n",
       "      <td id=\"T_67982_row59_col10\" class=\"data row59 col10\" >Bica2024</td>\n",
       "    </tr>\n",
       "    <tr>\n",
       "      <td id=\"T_67982_row60_col0\" class=\"data row60 col0\" >Terzan_4</td>\n",
       "      <td id=\"T_67982_row60_col1\" class=\"data row60 col1\" >262.66</td>\n",
       "      <td id=\"T_67982_row60_col2\" class=\"data row60 col2\" >-31.59</td>\n",
       "      <td id=\"T_67982_row60_col3\" class=\"data row60 col3\" >356.02</td>\n",
       "      <td id=\"T_67982_row60_col4\" class=\"data row60 col4\" >1.31</td>\n",
       "      <td id=\"T_67982_row60_col5\" class=\"data row60 col5\" >6.70</td>\n",
       "      <td id=\"T_67982_row60_col6\" class=\"data row60 col6\" >0.67</td>\n",
       "      <td id=\"T_67982_row60_col7\" class=\"data row60 col7\" >-1.40</td>\n",
       "      <td id=\"T_67982_row60_col8\" class=\"data row60 col8\" >0.05</td>\n",
       "      <td id=\"T_67982_row60_col9\" class=\"data row60 col9\" >-5.74</td>\n",
       "      <td id=\"T_67982_row60_col10\" class=\"data row60 col10\" >Bica2024</td>\n",
       "    </tr>\n",
       "    <tr>\n",
       "      <td id=\"T_67982_row61_col0\" class=\"data row61 col0\" >Terzan_5</td>\n",
       "      <td id=\"T_67982_row61_col1\" class=\"data row61 col1\" >267.02</td>\n",
       "      <td id=\"T_67982_row61_col2\" class=\"data row61 col2\" >-24.81</td>\n",
       "      <td id=\"T_67982_row61_col3\" class=\"data row61 col3\" >3.81</td>\n",
       "      <td id=\"T_67982_row61_col4\" class=\"data row61 col4\" >1.67</td>\n",
       "      <td id=\"T_67982_row61_col5\" class=\"data row61 col5\" >5.50</td>\n",
       "      <td id=\"T_67982_row61_col6\" class=\"data row61 col6\" >0.51</td>\n",
       "      <td id=\"T_67982_row61_col7\" class=\"data row61 col7\" >-0.30</td>\n",
       "      <td id=\"T_67982_row61_col8\" class=\"data row61 col8\" >0.12</td>\n",
       "      <td id=\"T_67982_row61_col9\" class=\"data row61 col9\" >-7.42</td>\n",
       "      <td id=\"T_67982_row61_col10\" class=\"data row61 col10\" >Bica2024</td>\n",
       "    </tr>\n",
       "    <tr>\n",
       "      <td id=\"T_67982_row62_col0\" class=\"data row62 col0\" >Terzan_6</td>\n",
       "      <td id=\"T_67982_row62_col1\" class=\"data row62 col1\" >267.69</td>\n",
       "      <td id=\"T_67982_row62_col2\" class=\"data row62 col2\" >-31.28</td>\n",
       "      <td id=\"T_67982_row62_col3\" class=\"data row62 col3\" >358.57</td>\n",
       "      <td id=\"T_67982_row62_col4\" class=\"data row62 col4\" >-2.16</td>\n",
       "      <td id=\"T_67982_row62_col5\" class=\"data row62 col5\" >6.80</td>\n",
       "      <td id=\"T_67982_row62_col6\" class=\"data row62 col6\" >0.68</td>\n",
       "      <td id=\"T_67982_row62_col7\" class=\"data row62 col7\" >-0.43</td>\n",
       "      <td id=\"T_67982_row62_col8\" class=\"data row62 col8\" >0.08</td>\n",
       "      <td id=\"T_67982_row62_col9\" class=\"data row62 col9\" >-7.59</td>\n",
       "      <td id=\"T_67982_row62_col10\" class=\"data row62 col10\" >Bica2024</td>\n",
       "    </tr>\n",
       "    <tr>\n",
       "      <td id=\"T_67982_row63_col0\" class=\"data row63 col0\" >Terzan_9</td>\n",
       "      <td id=\"T_67982_row63_col1\" class=\"data row63 col1\" >270.41</td>\n",
       "      <td id=\"T_67982_row63_col2\" class=\"data row63 col2\" >-26.84</td>\n",
       "      <td id=\"T_67982_row63_col3\" class=\"data row63 col3\" >3.60</td>\n",
       "      <td id=\"T_67982_row63_col4\" class=\"data row63 col4\" >-1.99</td>\n",
       "      <td id=\"T_67982_row63_col5\" class=\"data row63 col5\" >7.10</td>\n",
       "      <td id=\"T_67982_row63_col6\" class=\"data row63 col6\" >0.71</td>\n",
       "      <td id=\"T_67982_row63_col7\" class=\"data row63 col7\" >-1.40</td>\n",
       "      <td id=\"T_67982_row63_col8\" class=\"data row63 col8\" >0.15</td>\n",
       "      <td id=\"T_67982_row63_col9\" class=\"data row63 col9\" >-3.71</td>\n",
       "      <td id=\"T_67982_row63_col10\" class=\"data row63 col10\" >Bica2024</td>\n",
       "    </tr>\n",
       "    <tr>\n",
       "      <td id=\"T_67982_row64_col0\" class=\"data row64 col0\" >Ton_2</td>\n",
       "      <td id=\"T_67982_row64_col1\" class=\"data row64 col1\" >264.04</td>\n",
       "      <td id=\"T_67982_row64_col2\" class=\"data row64 col2\" >-38.55</td>\n",
       "      <td id=\"T_67982_row64_col3\" class=\"data row64 col3\" >350.80</td>\n",
       "      <td id=\"T_67982_row64_col4\" class=\"data row64 col4\" >-3.42</td>\n",
       "      <td id=\"T_67982_row64_col5\" class=\"data row64 col5\" >6.40</td>\n",
       "      <td id=\"T_67982_row64_col6\" class=\"data row64 col6\" >0.64</td>\n",
       "      <td id=\"T_67982_row64_col7\" class=\"data row64 col7\" >-0.73</td>\n",
       "      <td id=\"T_67982_row64_col8\" class=\"data row64 col8\" >0.13</td>\n",
       "      <td id=\"T_67982_row64_col9\" class=\"data row64 col9\" >-6.17</td>\n",
       "      <td id=\"T_67982_row64_col10\" class=\"data row64 col10\" >Bica2024</td>\n",
       "    </tr>\n",
       "    <tr>\n",
       "      <td id=\"T_67982_row65_col0\" class=\"data row65 col0\" >UKS_1</td>\n",
       "      <td id=\"T_67982_row65_col1\" class=\"data row65 col1\" >268.61</td>\n",
       "      <td id=\"T_67982_row65_col2\" class=\"data row65 col2\" >-24.14</td>\n",
       "      <td id=\"T_67982_row65_col3\" class=\"data row65 col3\" >5.12</td>\n",
       "      <td id=\"T_67982_row65_col4\" class=\"data row65 col4\" >-0.76</td>\n",
       "      <td id=\"T_67982_row65_col5\" class=\"data row65 col5\" >11.10</td>\n",
       "      <td id=\"T_67982_row65_col6\" class=\"data row65 col6\" >1.80</td>\n",
       "      <td id=\"T_67982_row65_col7\" class=\"data row65 col7\" >-0.98</td>\n",
       "      <td id=\"T_67982_row65_col8\" class=\"data row65 col8\" >0.11</td>\n",
       "      <td id=\"T_67982_row65_col9\" class=\"data row65 col9\" >-6.91</td>\n",
       "      <td id=\"T_67982_row65_col10\" class=\"data row65 col10\" >Bica2024</td>\n",
       "    </tr>\n",
       "    <tr>\n",
       "      <td id=\"T_67982_row66_col0\" class=\"data row66 col0\" >VVV-CL002</td>\n",
       "      <td id=\"T_67982_row66_col1\" class=\"data row66 col1\" >265.28</td>\n",
       "      <td id=\"T_67982_row66_col2\" class=\"data row66 col2\" >-28.84</td>\n",
       "      <td id=\"T_67982_row66_col3\" class=\"data row66 col3\" >359.56</td>\n",
       "      <td id=\"T_67982_row66_col4\" class=\"data row66 col4\" >0.89</td>\n",
       "      <td id=\"T_67982_row66_col5\" class=\"data row66 col5\" >8.60</td>\n",
       "      <td id=\"T_67982_row66_col6\" class=\"data row66 col6\" >0.60</td>\n",
       "      <td id=\"T_67982_row66_col7\" class=\"data row66 col7\" >-0.40</td>\n",
       "      <td id=\"T_67982_row66_col8\" class=\"data row66 col8\" >nan</td>\n",
       "      <td id=\"T_67982_row66_col9\" class=\"data row66 col9\" >-4.61</td>\n",
       "      <td id=\"T_67982_row66_col10\" class=\"data row66 col10\" >Bica2024</td>\n",
       "    </tr>\n",
       "    <tr>\n",
       "      <td id=\"T_67982_row67_col0\" class=\"data row67 col0\" >VVV-CL131</td>\n",
       "      <td id=\"T_67982_row67_col1\" class=\"data row67 col1\" >265.32</td>\n",
       "      <td id=\"T_67982_row67_col2\" class=\"data row67 col2\" >-34.57</td>\n",
       "      <td id=\"T_67982_row67_col3\" class=\"data row67 col3\" >354.72</td>\n",
       "      <td id=\"T_67982_row67_col4\" class=\"data row67 col4\" >-2.17</td>\n",
       "      <td id=\"T_67982_row67_col5\" class=\"data row67 col5\" >9.00</td>\n",
       "      <td id=\"T_67982_row67_col6\" class=\"data row67 col6\" >0.50</td>\n",
       "      <td id=\"T_67982_row67_col7\" class=\"data row67 col7\" >-0.60</td>\n",
       "      <td id=\"T_67982_row67_col8\" class=\"data row67 col8\" >0.20</td>\n",
       "      <td id=\"T_67982_row67_col9\" class=\"data row67 col9\" >-5.90</td>\n",
       "      <td id=\"T_67982_row67_col10\" class=\"data row67 col10\" >Bica2024</td>\n",
       "    </tr>\n",
       "    <tr>\n",
       "      <td id=\"T_67982_row68_col0\" class=\"data row68 col0\" >VVV-CL143</td>\n",
       "      <td id=\"T_67982_row68_col1\" class=\"data row68 col1\" >266.15</td>\n",
       "      <td id=\"T_67982_row68_col2\" class=\"data row68 col2\" >-33.74</td>\n",
       "      <td id=\"T_67982_row68_col3\" class=\"data row68 col3\" >355.79</td>\n",
       "      <td id=\"T_67982_row68_col4\" class=\"data row68 col4\" >-2.32</td>\n",
       "      <td id=\"T_67982_row68_col5\" class=\"data row68 col5\" >8.90</td>\n",
       "      <td id=\"T_67982_row68_col6\" class=\"data row68 col6\" >0.50</td>\n",
       "      <td id=\"T_67982_row68_col7\" class=\"data row68 col7\" >-0.60</td>\n",
       "      <td id=\"T_67982_row68_col8\" class=\"data row68 col8\" >0.20</td>\n",
       "      <td id=\"T_67982_row68_col9\" class=\"data row68 col9\" >-5.90</td>\n",
       "      <td id=\"T_67982_row68_col10\" class=\"data row68 col10\" >Bica2024</td>\n",
       "    </tr>\n",
       "    <tr>\n",
       "      <td id=\"T_67982_row69_col0\" class=\"data row69 col0\" >VVV-CL160</td>\n",
       "      <td id=\"T_67982_row69_col1\" class=\"data row69 col1\" >271.74</td>\n",
       "      <td id=\"T_67982_row69_col2\" class=\"data row69 col2\" >-20.01</td>\n",
       "      <td id=\"T_67982_row69_col3\" class=\"data row69 col3\" >10.15</td>\n",
       "      <td id=\"T_67982_row69_col4\" class=\"data row69 col4\" >0.30</td>\n",
       "      <td id=\"T_67982_row69_col5\" class=\"data row69 col5\" >4.00</td>\n",
       "      <td id=\"T_67982_row69_col6\" class=\"data row69 col6\" >0.50</td>\n",
       "      <td id=\"T_67982_row69_col7\" class=\"data row69 col7\" >-1.40</td>\n",
       "      <td id=\"T_67982_row69_col8\" class=\"data row69 col8\" >0.20</td>\n",
       "      <td id=\"T_67982_row69_col9\" class=\"data row69 col9\" >-5.50</td>\n",
       "      <td id=\"T_67982_row69_col10\" class=\"data row69 col10\" >Bica2024</td>\n",
       "    </tr>\n",
       "    <tr>\n",
       "      <td id=\"T_67982_row70_col0\" class=\"data row70 col0\" >VVV-CL001</td>\n",
       "      <td id=\"T_67982_row70_col1\" class=\"data row70 col1\" >268.68</td>\n",
       "      <td id=\"T_67982_row70_col2\" class=\"data row70 col2\" >-24.02</td>\n",
       "      <td id=\"T_67982_row70_col3\" class=\"data row70 col3\" >5.27</td>\n",
       "      <td id=\"T_67982_row70_col4\" class=\"data row70 col4\" >0.78</td>\n",
       "      <td id=\"T_67982_row70_col5\" class=\"data row70 col5\" >8.23</td>\n",
       "      <td id=\"T_67982_row70_col6\" class=\"data row70 col6\" >0.40</td>\n",
       "      <td id=\"T_67982_row70_col7\" class=\"data row70 col7\" >-2.40</td>\n",
       "      <td id=\"T_67982_row70_col8\" class=\"data row70 col8\" >0.24</td>\n",
       "      <td id=\"T_67982_row70_col9\" class=\"data row70 col9\" >nan</td>\n",
       "      <td id=\"T_67982_row70_col10\" class=\"data row70 col10\" >Garro2024</td>\n",
       "    </tr>\n",
       "  </tbody>\n",
       "</table>\n"
      ],
      "text/plain": [
       "<pandas.io.formats.style.Styler at 0x2aa363140>"
      ]
     },
     "execution_count": 235,
     "metadata": {},
     "output_type": "execute_result"
    }
   ],
   "source": [
    "# References include Bica2024, Garro2024, Belorukov(2024), Perez-Villegas(2020), and references therein \n",
    "ig_clusters = pd.read_csv('Inner_Galaxy_GC_Compilation.csv')\n",
    "ig_clusters.style.format(precision=2).hide()"
   ]
  },
  {
   "cell_type": "markdown",
   "id": "a8d0db64-dc00-405b-ab5d-ea2c429d6371",
   "metadata": {},
   "source": [
    "### Perform coordinate transformation"
   ]
  },
  {
   "cell_type": "code",
   "execution_count": 220,
   "id": "db215fb5-ca17-4aec-999b-fb07c17d2d82",
   "metadata": {},
   "outputs": [],
   "source": [
    "gal = SkyCoord(ig_clusters.Gal_l_deg, ig_clusters.Gal_b_deg, frame='galactic', unit=u.deg)"
   ]
  },
  {
   "cell_type": "markdown",
   "id": "1f5fa863-9b9a-43fa-bd2c-320b425c3faf",
   "metadata": {},
   "source": [
    "### Generate Matplotlib Visualizations"
   ]
  },
  {
   "cell_type": "markdown",
   "id": "6af08b48-c020-407c-9764-ce99c0d24bbf",
   "metadata": {},
   "source": [
    "#### General Aitoff Projection"
   ]
  },
  {
   "cell_type": "code",
   "execution_count": 221,
   "id": "48a83de9-c91e-45cf-b2c8-d4f27c4839f7",
   "metadata": {},
   "outputs": [
    {
     "data": {
      "image/png": "[encoded data removed]",
      "text/plain": [
       "<Figure size 1400x700 with 1 Axes>"
      ]
     },
     "metadata": {},
     "output_type": "display_data"
    }
   ],
   "source": [
    "sns.set()\n",
    "plt.figure(figsize=(14,7))\n",
    "plt.subplot(111, projection='aitoff')\n",
    "plt.grid(True)\n",
    "plt.scatter(gal.l.wrap_at('180d').radian, gal.b.radian, marker='v', s=7)\n",
    "plt.xticks(ticks=np.radians([-150, -120, -90, -60, -30, 0, 30, 60, 90, 120, 150]),\n",
    "           labels=['150°', '120°', '90°', '60°', '30°', '0°', '330°', '300°', '270°', '240°', '210°'])\n",
    "plt.show()"
   ]
  },
  {
   "cell_type": "markdown",
   "id": "4d42c118-81ba-4a4c-ad18-3c8d1e6f6081",
   "metadata": {},
   "source": [
    "#### Globular Clusters in the Inner Galaxy"
   ]
  },
  {
   "cell_type": "code",
   "execution_count": 222,
   "id": "8e1d082c-3486-456c-93d5-047b376ef658",
   "metadata": {},
   "outputs": [
    {
     "data": {
      "image/png": "[encoded data removed]",
      "text/plain": [
       "<Figure size 1000x800 with 1 Axes>"
      ]
     },
     "metadata": {},
     "output_type": "display_data"
    }
   ],
   "source": [
    "sns.set()\n",
    "fig = plt.figure(figsize=(10,8))\n",
    "ax  = fig.add_subplot(1,1,1, aspect='equal')\n",
    "ax.scatter(gal.l.wrap_at('180d'), gal.b, marker='v', s=20)\n",
    "ax.set_xlim(20., -20.)\n",
    "ax.set_ylim(-20., 15.)\n",
    "plt.xlabel(r'Galactic Longitude, $l^\\circ$')\n",
    "plt.ylabel(r'Galactic Latitude, $b^\\circ$')\n",
    "plt.show()"
   ]
  },
  {
   "cell_type": "markdown",
   "id": "e7ae7264-8ebc-47d8-b03a-f1ca4f690dee",
   "metadata": {},
   "source": [
    "#### Bulge Region Overlay: Nominal GBTDS 7-field Design "
   ]
  },
  {
   "cell_type": "code",
   "execution_count": 230,
   "id": "a9897114-6abe-42bb-9f67-b7e9601908a3",
   "metadata": {},
   "outputs": [
    {
     "data": {
      "image/png": "[encoded data removed]",
      "text/plain": [
       "<Figure size 1000x1000 with 1 Axes>"
      ]
     },
     "metadata": {},
     "output_type": "display_data"
    }
   ],
   "source": [
    "sns.set()\n",
    "layout='layout_7f_3'\n",
    "fig = plt.figure(figsize=(10,10))\n",
    "ax  = fig.add_subplot(1,1,1)\n",
    "\n",
    "# Field overlay code from M. Penny WFIRST Paper\n",
    "fields = []\n",
    "with open('%s.outline.lbad' % (layout)) as fp:\n",
    "    for k, g in groupby(fp, lambda x: x.startswith(' ')):\n",
    "        if not k:\n",
    "            fields.append(np.array([[float(x) for x in d.split()] for d in g if len(d.strip())]))\n",
    "for f in fields:\n",
    "        ax.plot(f[:,1],f[:,2],'k-',lw=3)\n",
    "\n",
    "ax.scatter(gal.l.wrap_at('180d'), gal.b, marker='v', s=40)\n",
    "ax.set_xlim(6, -6)\n",
    "ax.set_ylim(-6, 6)\n",
    "plt.xlabel(r'Galactic Longitude, $l^\\circ$')\n",
    "plt.ylabel(r'Galactic Latitude, $b^\\circ$')\n",
    "# Kludgey annotation method\n",
    "x = np.array(gal.l.wrap_at('180d'))\n",
    "y = np.array(gal.b)\n",
    "z = np.array(ig_clusters.Cluster_Name)\n",
    "for i in range(len(x)): \n",
    "    ax.annotate(z[i], (x[i], y[i]+0.12)) \n",
    "plt.show()"
   ]
  },
  {
   "cell_type": "markdown",
   "id": "25a6e173-1f37-4658-b508-dd7795aa9fc0",
   "metadata": {},
   "source": [
    "#### Bulge Region Overlay: GBTDS 7-field + Galactic Center Design "
   ]
  },
  {
   "cell_type": "code",
   "execution_count": null,
   "id": "5124df79-a8c9-4237-b29b-9fd0f447d9ed",
   "metadata": {},
   "outputs": [],
   "source": []
  },
  {
   "cell_type": "markdown",
   "id": "84212991-aca2-4f62-b557-6ceddcf855ef",
   "metadata": {},
   "source": [
    "### Plotly Visualizations"
   ]
  },
  {
   "cell_type": "markdown",
   "id": "cb3855a9-a8e2-483f-b2cb-13996b76ebd6",
   "metadata": {},
   "source": [
    "#### Perform Coodinate Transformation"
   ]
  },
  {
   "cell_type": "code",
   "execution_count": 224,
   "id": "640f234b-1da7-44c4-aeaa-ff06915a75b9",
   "metadata": {},
   "outputs": [],
   "source": [
    "gal_l_transform = [(q+180)%360 - 180 for q in ig_clusters.Gal_l_deg]"
   ]
  },
  {
   "cell_type": "markdown",
   "id": "0cbadf61-daee-4ffa-a44e-c80e897c3845",
   "metadata": {},
   "source": [
    "#### Compilation of Globular Clusters in the Inner Galaxy (Zoom-In/Zoom-Out Plotly Go Visualization)"
   ]
  },
  {
   "cell_type": "code",
   "execution_count": 236,
   "id": "18673c47-1af1-4020-9000-0598f0109003",
   "metadata": {},
   "outputs": [
    {
     "data": {
      "application/vnd.jupyter.widget-view+json": {
       "model_id": "844d8d52fc0b4d3198f0ab0ce134e58e",
       "version_major": 2,
       "version_minor": 0
      },
      "text/plain": [
       "FigureWidget({\n",
       "    'data': [{'hovertext': array(['BH_261', 'Camargo_1102', 'Camargo_1103', 'Camargo_1104',\n",
       "                                  'Camargo_1107', 'Camargo_1108', 'Camargo_1109', 'Djorg_1', 'ESO393-12',\n",
       "                                  'ESO452-SC11', 'ESO456-09', 'ESO456-SC38', 'FSR0009', 'FSR019',\n",
       "                                  'FSR025', 'FSR1758', 'FSR1767', 'FSR1775', 'FSR1776', 'Glimpse_C02',\n",
       "                                  'Gran_1', 'Gran_3', 'Gran_5', 'HP_1', 'Kronberger_49', 'Liller_1',\n",
       "                                  'Mercer_5', 'Minni_22', 'Minni_48', 'NGC_6256', 'NGC_6266', 'NGC_6304',\n",
       "                                  'NGC_6316', 'NGC_6325', 'NGC_6342', 'NGC_6355', 'NGC_6401', 'NGC_6440',\n",
       "                                  'NGC_6522', 'NGC_6528', 'NGC_6539', 'NGC_6540', 'NGC_6553', 'NGC_6558',\n",
       "                                  'NGC_6624', 'NGC_6626', 'NGC_6637', 'NGC_6638', 'NGC_6642', 'NGC_6652',\n",
       "                                  'NGC_6717', 'NGC_6723', 'Palomar_6', 'Patchick_126', 'Patchick_99',\n",
       "                                  'RLGC_2', 'Terzan_1', 'Terzan_10', 'Terzan_2', 'Terzan_3', 'Terzan_4',\n",
       "                                  'Terzan_5', 'Terzan_6', 'Terzan_9', 'Ton_2', 'UKS_1', 'VVV-CL002',\n",
       "                                  'VVV-CL131', 'VVV-CL143', 'VVV-CL160', 'VVV-CL001'], dtype=object),\n",
       "              'marker': {'color': [#a3a7e4, #a3a7e4, #a3a7e4, #a3a7e4, #a3a7e4,\n",
       "                                   #a3a7e4, #a3a7e4, #a3a7e4, #a3a7e4, #a3a7e4,\n",
       "                                   #a3a7e4, #a3a7e4, #a3a7e4, #a3a7e4, #a3a7e4,\n",
       "                                   #a3a7e4, #a3a7e4, #a3a7e4, #a3a7e4, #a3a7e4,\n",
       "                                   #a3a7e4, #a3a7e4, #a3a7e4, #a3a7e4, #a3a7e4,\n",
       "                                   #a3a7e4, #a3a7e4, #a3a7e4, #a3a7e4, #a3a7e4,\n",
       "                                   #a3a7e4, #a3a7e4, #a3a7e4, #a3a7e4, #a3a7e4,\n",
       "                                   #a3a7e4, #a3a7e4, #a3a7e4, #a3a7e4, #a3a7e4,\n",
       "                                   #a3a7e4, #a3a7e4, #a3a7e4, #a3a7e4, #a3a7e4,\n",
       "                                   #a3a7e4, #a3a7e4, #a3a7e4, #a3a7e4, #a3a7e4,\n",
       "                                   #a3a7e4, #a3a7e4, #a3a7e4, #a3a7e4, #a3a7e4,\n",
       "                                   #a3a7e4, #a3a7e4, #a3a7e4, #a3a7e4, #a3a7e4,\n",
       "                                   #a3a7e4, #a3a7e4, #a3a7e4, #a3a7e4, #a3a7e4,\n",
       "                                   #a3a7e4, #a3a7e4, #a3a7e4, #a3a7e4, #a3a7e4,\n",
       "                                   #a3a7e4, #a3a7e4, #a3a7e4, #a3a7e4, #a3a7e4,\n",
       "                                   #a3a7e4, #a3a7e4, #a3a7e4, #a3a7e4, #a3a7e4,\n",
       "                                   #a3a7e4, #a3a7e4, #a3a7e4, #a3a7e4, #a3a7e4,\n",
       "                                   #a3a7e4, #a3a7e4, #a3a7e4, #a3a7e4, #a3a7e4,\n",
       "                                   #a3a7e4, #a3a7e4, #a3a7e4, #a3a7e4, #a3a7e4,\n",
       "                                   #a3a7e4, #a3a7e4, #a3a7e4, #a3a7e4, #a3a7e4],\n",
       "                         'size': [10, 10, 10, 10, 10, 10, 10, 10, 10, 10, 10, 10,\n",
       "                                  10, 10, 10, 10, 10, 10, 10, 10, 10, 10, 10, 10,\n",
       "                                  10, 10, 10, 10, 10, 10, 10, 10, 10, 10, 10, 10,\n",
       "                                  10, 10, 10, 10, 10, 10, 10, 10, 10, 10, 10, 10,\n",
       "                                  10, 10, 10, 10, 10, 10, 10, 10, 10, 10, 10, 10,\n",
       "                                  10, 10, 10, 10, 10, 10, 10, 10, 10, 10, 10, 10,\n",
       "                                  10, 10, 10, 10, 10, 10, 10, 10, 10, 10, 10, 10,\n",
       "                                  10, 10, 10, 10, 10, 10, 10, 10, 10, 10, 10, 10,\n",
       "                                  10, 10, 10, 10]},\n",
       "              'mode': 'markers',\n",
       "              'type': 'scatter',\n",
       "              'uid': 'f18cfca8-47f3-4ca7-87b1-d43f14c148c9',\n",
       "              'x': [3.3600000000000136, -0.8550000000000182, 5.604000000000013,\n",
       "                    5.621000000000009, -2.0230000000000246, -1.5960000000000036,\n",
       "                    2.164999999999992, -3.3299999999999272, -6.48599999999999,\n",
       "                    -8.089999999999918, -2.117999999999938, 2.759999999999991,\n",
       "                    1.8549999999999898, 5.498999999999995, 7.533999999999992,\n",
       "                    -10.783000000000015, -7.399000000000001, -5.453999999999951,\n",
       "                    -5.279999999999973, 14.129999999999995, -1.2329999999999472,\n",
       "                    -10.244000000000028, -4.45900000000006, -2.5799999999999272,\n",
       "                    7.6270000000000095, -5.160000000000082, 17.590000000000003,\n",
       "                    -3.1720000000000255, -0.6490000000000009, -12.210000000000036,\n",
       "                    -6.420000000000073, -4.170000000000073, -2.8199999999999363,\n",
       "                    0.9699999999999989, 4.900000000000006, -0.42000000000007276,\n",
       "                    3.4499999999999886, 7.72999999999999, 1.0200000000000102,\n",
       "                    1.1399999999999864, 20.80000000000001, 3.289999999999992, 5.25,\n",
       "                    0.19999999999998863, 2.789999999999992, 7.800000000000011,\n",
       "                    1.7199999999999989, 7.900000000000006, 9.810000000000002,\n",
       "                    1.5300000000000011, 12.879999999999995, 0.06999999999999318,\n",
       "                    2.0900000000000034, -19.620000000000005, 2.4879999999999995,\n",
       "                    27.631, -2.4300000000000637, 4.4199999999999875,\n",
       "                    -3.6800000000000637, -14.920000000000073, -3.980000000000018,\n",
       "                    3.8100000000000023, -1.4300000000000637, 3.5999999999999943,\n",
       "                    -9.200000000000045, 5.125, -0.4410000000000309,\n",
       "                    -5.278999999999996, -4.211999999999989, 10.15100000000001,\n",
       "                    5.266999999999996],\n",
       "              'y': array([ -5.27 ,   5.734,  -2.121,  -1.778,   0.956,  -1.087,   0.844,  -2.48 ,\n",
       "                           -2.284,  12.1  ,  -3.339,  -2.5  ,  -9.529,   6.071,   5.649,  -3.292,\n",
       "                           -2.166,  -5.779,  -5.249,  -0.64 ,  -3.977,   3.424,   1.838,   2.12 ,\n",
       "                           -2.012,  -0.16 ,  -0.86 ,   2.729,   2.79 ,   3.31 ,   7.32 ,   5.38 ,\n",
       "                            5.76 ,   8.   ,   9.73 ,   5.43 ,   3.98 ,   3.8  ,  -3.93 ,  -4.17 ,\n",
       "                            6.78 ,  -3.31 ,  -3.02 ,  -6.03 ,  -7.91 ,  -5.58 , -10.27 ,  -7.15 ,\n",
       "                           -6.44 , -11.38 , -10.9  , -17.3  ,   1.78 ,  -3.825,  -6.145,  -1.042,\n",
       "                            1.   ,  -1.86 ,   2.3  ,   9.19 ,   1.31 ,   1.67 ,  -2.16 ,  -1.99 ,\n",
       "                           -3.42 ,  -0.764,   0.889,  -2.17 ,  -2.319,   0.302,   0.78 ])}],\n",
       "    'layout': {'autosize': False,\n",
       "               'height': 800,\n",
       "               'hovermode': 'closest',\n",
       "               'template': '...',\n",
       "               'title': {'text': 'Compilation of Globular Clusters in the Inner Galaxy', 'x': 0.25},\n",
       "               'width': 800,\n",
       "               'xaxis': {'range': [6, -6], 'title': {'text': 'Galactic longitude, l [°]'}},\n",
       "               'yaxis': {'range': [-6, 6], 'title': {'text': 'Galactic latitude, b [°]'}}}\n",
       "})"
      ]
     },
     "execution_count": 236,
     "metadata": {},
     "output_type": "execute_result"
    }
   ],
   "source": [
    "#fig = go.Figure(data=go.Scatter(x=x, y=y, mode='lines'), layout_yaxis_range=[-4,4])\n",
    "fig = go.FigureWidget([go.Scatter(x=gal_l_transform, y=ig_clusters.Gal_b_deg, mode='markers', hovertext=(ig_clusters['Cluster_Name']))])\n",
    "\n",
    "scatter = fig.data[0]\n",
    "colors = ['#a3a7e4'] * 100\n",
    "scatter.marker.color = colors\n",
    "scatter.marker.size = [10] * 100\n",
    "fig.layout.hovermode = 'closest'\n",
    "\n",
    "fig.update_xaxes(title_text = \"Galactic longitude, l [°]\", range=[6,-6])\n",
    "fig.update_yaxes(title_text = \"Galactic latitude, b [°]\", range=[-6,6])\n",
    "fig.update_layout(title_text='Compilation of Globular Clusters in the Inner Galaxy', title_x=0.25, \n",
    "               autosize=False, width=800, height=800)\n",
    "\n",
    "def update_point(trace, points, selector):\n",
    "    c = list(scatter.marker.color)\n",
    "    s = list(scatter.marker.size)\n",
    "    for i in points.point_inds:\n",
    "        c[i] = '#bae2be'\n",
    "        s[i] = 20\n",
    "        with f.batch_update():\n",
    "            scatter.marker.color = c\n",
    "            scatter.marker.size = s\n",
    "            \n",
    "scatter.on_click(update_point)\n",
    "fig"
   ]
  },
  {
   "cell_type": "markdown",
   "id": "d5ed459b-3e49-4b5e-aa4f-1278c8b3f5b9",
   "metadata": {},
   "source": [
    "#### Compilation of Globular Clusters in the Inner Galaxy (Plotly Express Visualization)"
   ]
  },
  {
   "cell_type": "code",
   "execution_count": 232,
   "id": "4c50da7a-5d04-4cdd-8eb9-ea6bbd1e3d88",
   "metadata": {},
   "outputs": [
    {
     "data": {
      "application/vnd.plotly.v1+json": {
       "config": {
        "plotlyServerURL": "https://plot.ly"
       },
       "data": [
        {
         "hovertemplate": "<br>l</b>: %{x:.2f}<br>b</b>: %{y:.2f}",
         "hovertext": [
          "BH_261"
         ],
         "legendgroup": "BH_261",
         "marker": {
          "color": "#636efa",
          "symbol": "circle"
         },
         "mode": "markers",
         "name": "BH_261",
         "orientation": "v",
         "showlegend": true,
         "type": "scatter",
         "x": [
          3.3600000000000136
         ],
         "xaxis": "x",
         "y": [
          -5.27
         ],
         "yaxis": "y"
        },
        {
         "hovertemplate": "<br>l</b>: %{x:.2f}<br>b</b>: %{y:.2f}",
         "hovertext": [
          "Camargo_1102"
         ],
         "legendgroup": "Camargo_1102",
         "marker": {
          "color": "#EF553B",
          "symbol": "circle"
         },
         "mode": "markers",
         "name": "Camargo_1102",
         "orientation": "v",
         "showlegend": true,
         "type": "scatter",
         "x": [
          -0.8550000000000182
         ],
         "xaxis": "x",
         "y": [
          5.734
         ],
         "yaxis": "y"
        },
        {
         "hovertemplate": "<br>l</b>: %{x:.2f}<br>b</b>: %{y:.2f}",
         "hovertext": [
          "Camargo_1103"
         ],
         "legendgroup": "Camargo_1103",
         "marker": {
          "color": "#00cc96",
          "symbol": "circle"
         },
         "mode": "markers",
         "name": "Camargo_1103",
         "orientation": "v",
         "showlegend": true,
         "type": "scatter",
         "x": [
          5.604000000000013
         ],
         "xaxis": "x",
         "y": [
          -2.121
         ],
         "yaxis": "y"
        },
        {
         "hovertemplate": "<br>l</b>: %{x:.2f}<br>b</b>: %{y:.2f}",
         "hovertext": [
          "Camargo_1104"
         ],
         "legendgroup": "Camargo_1104",
         "marker": {
          "color": "#ab63fa",
          "symbol": "circle"
         },
         "mode": "markers",
         "name": "Camargo_1104",
         "orientation": "v",
         "showlegend": true,
         "type": "scatter",
         "x": [
          5.621000000000009
         ],
         "xaxis": "x",
         "y": [
          -1.778
         ],
         "yaxis": "y"
        },
        {
         "hovertemplate": "<br>l</b>: %{x:.2f}<br>b</b>: %{y:.2f}",
         "hovertext": [
          "Camargo_1107"
         ],
         "legendgroup": "Camargo_1107",
         "marker": {
          "color": "#FFA15A",
          "symbol": "circle"
         },
         "mode": "markers",
         "name": "Camargo_1107",
         "orientation": "v",
         "showlegend": true,
         "type": "scatter",
         "x": [
          -2.0230000000000246
         ],
         "xaxis": "x",
         "y": [
          0.956
         ],
         "yaxis": "y"
        },
        {
         "hovertemplate": "<br>l</b>: %{x:.2f}<br>b</b>: %{y:.2f}",
         "hovertext": [
          "Camargo_1108"
         ],
         "legendgroup": "Camargo_1108",
         "marker": {
          "color": "#19d3f3",
          "symbol": "circle"
         },
         "mode": "markers",
         "name": "Camargo_1108",
         "orientation": "v",
         "showlegend": true,
         "type": "scatter",
         "x": [
          -1.5960000000000036
         ],
         "xaxis": "x",
         "y": [
          -1.087
         ],
         "yaxis": "y"
        },
        {
         "hovertemplate": "<br>l</b>: %{x:.2f}<br>b</b>: %{y:.2f}",
         "hovertext": [
          "Camargo_1109"
         ],
         "legendgroup": "Camargo_1109",
         "marker": {
          "color": "#FF6692",
          "symbol": "circle"
         },
         "mode": "markers",
         "name": "Camargo_1109",
         "orientation": "v",
         "showlegend": true,
         "type": "scatter",
         "x": [
          2.164999999999992
         ],
         "xaxis": "x",
         "y": [
          0.844
         ],
         "yaxis": "y"
        },
        {
         "hovertemplate": "<br>l</b>: %{x:.2f}<br>b</b>: %{y:.2f}",
         "hovertext": [
          "Djorg_1"
         ],
         "legendgroup": "Djorg_1",
         "marker": {
          "color": "#B6E880",
          "symbol": "circle"
         },
         "mode": "markers",
         "name": "Djorg_1",
         "orientation": "v",
         "showlegend": true,
         "type": "scatter",
         "x": [
          -3.3299999999999272
         ],
         "xaxis": "x",
         "y": [
          -2.48
         ],
         "yaxis": "y"
        },
        {
         "hovertemplate": "<br>l</b>: %{x:.2f}<br>b</b>: %{y:.2f}",
         "hovertext": [
          "ESO393-12"
         ],
         "legendgroup": "ESO393-12",
         "marker": {
          "color": "#FF97FF",
          "symbol": "circle"
         },
         "mode": "markers",
         "name": "ESO393-12",
         "orientation": "v",
         "showlegend": true,
         "type": "scatter",
         "x": [
          -6.48599999999999
         ],
         "xaxis": "x",
         "y": [
          -2.284
         ],
         "yaxis": "y"
        },
        {
         "hovertemplate": "<br>l</b>: %{x:.2f}<br>b</b>: %{y:.2f}",
         "hovertext": [
          "ESO452-SC11"
         ],
         "legendgroup": "ESO452-SC11",
         "marker": {
          "color": "#FECB52",
          "symbol": "circle"
         },
         "mode": "markers",
         "name": "ESO452-SC11",
         "orientation": "v",
         "showlegend": true,
         "type": "scatter",
         "x": [
          -8.089999999999918
         ],
         "xaxis": "x",
         "y": [
          12.1
         ],
         "yaxis": "y"
        },
        {
         "hovertemplate": "<br>l</b>: %{x:.2f}<br>b</b>: %{y:.2f}",
         "hovertext": [
          "ESO456-09"
         ],
         "legendgroup": "ESO456-09",
         "marker": {
          "color": "#636efa",
          "symbol": "circle"
         },
         "mode": "markers",
         "name": "ESO456-09",
         "orientation": "v",
         "showlegend": true,
         "type": "scatter",
         "x": [
          -2.117999999999938
         ],
         "xaxis": "x",
         "y": [
          -3.339
         ],
         "yaxis": "y"
        },
        {
         "hovertemplate": "<br>l</b>: %{x:.2f}<br>b</b>: %{y:.2f}",
         "hovertext": [
          "ESO456-SC38"
         ],
         "legendgroup": "ESO456-SC38",
         "marker": {
          "color": "#EF553B",
          "symbol": "circle"
         },
         "mode": "markers",
         "name": "ESO456-SC38",
         "orientation": "v",
         "showlegend": true,
         "type": "scatter",
         "x": [
          2.759999999999991
         ],
         "xaxis": "x",
         "y": [
          -2.5
         ],
         "yaxis": "y"
        },
        {
         "hovertemplate": "<br>l</b>: %{x:.2f}<br>b</b>: %{y:.2f}",
         "hovertext": [
          "FSR0009"
         ],
         "legendgroup": "FSR0009",
         "marker": {
          "color": "#00cc96",
          "symbol": "circle"
         },
         "mode": "markers",
         "name": "FSR0009",
         "orientation": "v",
         "showlegend": true,
         "type": "scatter",
         "x": [
          1.8549999999999898
         ],
         "xaxis": "x",
         "y": [
          -9.529
         ],
         "yaxis": "y"
        },
        {
         "hovertemplate": "<br>l</b>: %{x:.2f}<br>b</b>: %{y:.2f}",
         "hovertext": [
          "FSR019"
         ],
         "legendgroup": "FSR019",
         "marker": {
          "color": "#ab63fa",
          "symbol": "circle"
         },
         "mode": "markers",
         "name": "FSR019",
         "orientation": "v",
         "showlegend": true,
         "type": "scatter",
         "x": [
          5.498999999999995
         ],
         "xaxis": "x",
         "y": [
          6.071
         ],
         "yaxis": "y"
        },
        {
         "hovertemplate": "<br>l</b>: %{x:.2f}<br>b</b>: %{y:.2f}",
         "hovertext": [
          "FSR025"
         ],
         "legendgroup": "FSR025",
         "marker": {
          "color": "#FFA15A",
          "symbol": "circle"
         },
         "mode": "markers",
         "name": "FSR025",
         "orientation": "v",
         "showlegend": true,
         "type": "scatter",
         "x": [
          7.533999999999992
         ],
         "xaxis": "x",
         "y": [
          5.649
         ],
         "yaxis": "y"
        },
        {
         "hovertemplate": "<br>l</b>: %{x:.2f}<br>b</b>: %{y:.2f}",
         "hovertext": [
          "FSR1758"
         ],
         "legendgroup": "FSR1758",
         "marker": {
          "color": "#19d3f3",
          "symbol": "circle"
         },
         "mode": "markers",
         "name": "FSR1758",
         "orientation": "v",
         "showlegend": true,
         "type": "scatter",
         "x": [
          -10.783000000000015
         ],
         "xaxis": "x",
         "y": [
          -3.292
         ],
         "yaxis": "y"
        },
        {
         "hovertemplate": "<br>l</b>: %{x:.2f}<br>b</b>: %{y:.2f}",
         "hovertext": [
          "FSR1767"
         ],
         "legendgroup": "FSR1767",
         "marker": {
          "color": "#FF6692",
          "symbol": "circle"
         },
         "mode": "markers",
         "name": "FSR1767",
         "orientation": "v",
         "showlegend": true,
         "type": "scatter",
         "x": [
          -7.399000000000001
         ],
         "xaxis": "x",
         "y": [
          -2.166
         ],
         "yaxis": "y"
        },
        {
         "hovertemplate": "<br>l</b>: %{x:.2f}<br>b</b>: %{y:.2f}",
         "hovertext": [
          "FSR1775"
         ],
         "legendgroup": "FSR1775",
         "marker": {
          "color": "#B6E880",
          "symbol": "circle"
         },
         "mode": "markers",
         "name": "FSR1775",
         "orientation": "v",
         "showlegend": true,
         "type": "scatter",
         "x": [
          -5.453999999999951
         ],
         "xaxis": "x",
         "y": [
          -5.779
         ],
         "yaxis": "y"
        },
        {
         "hovertemplate": "<br>l</b>: %{x:.2f}<br>b</b>: %{y:.2f}",
         "hovertext": [
          "FSR1776"
         ],
         "legendgroup": "FSR1776",
         "marker": {
          "color": "#FF97FF",
          "symbol": "circle"
         },
         "mode": "markers",
         "name": "FSR1776",
         "orientation": "v",
         "showlegend": true,
         "type": "scatter",
         "x": [
          -5.279999999999973
         ],
         "xaxis": "x",
         "y": [
          -5.249
         ],
         "yaxis": "y"
        },
        {
         "hovertemplate": "<br>l</b>: %{x:.2f}<br>b</b>: %{y:.2f}",
         "hovertext": [
          "Glimpse_C02"
         ],
         "legendgroup": "Glimpse_C02",
         "marker": {
          "color": "#FECB52",
          "symbol": "circle"
         },
         "mode": "markers",
         "name": "Glimpse_C02",
         "orientation": "v",
         "showlegend": true,
         "type": "scatter",
         "x": [
          14.129999999999995
         ],
         "xaxis": "x",
         "y": [
          -0.64
         ],
         "yaxis": "y"
        },
        {
         "hovertemplate": "<br>l</b>: %{x:.2f}<br>b</b>: %{y:.2f}",
         "hovertext": [
          "Gran_1"
         ],
         "legendgroup": "Gran_1",
         "marker": {
          "color": "#636efa",
          "symbol": "circle"
         },
         "mode": "markers",
         "name": "Gran_1",
         "orientation": "v",
         "showlegend": true,
         "type": "scatter",
         "x": [
          -1.2329999999999472
         ],
         "xaxis": "x",
         "y": [
          -3.977
         ],
         "yaxis": "y"
        },
        {
         "hovertemplate": "<br>l</b>: %{x:.2f}<br>b</b>: %{y:.2f}",
         "hovertext": [
          "Gran_3"
         ],
         "legendgroup": "Gran_3",
         "marker": {
          "color": "#EF553B",
          "symbol": "circle"
         },
         "mode": "markers",
         "name": "Gran_3",
         "orientation": "v",
         "showlegend": true,
         "type": "scatter",
         "x": [
          -10.244000000000028
         ],
         "xaxis": "x",
         "y": [
          3.424
         ],
         "yaxis": "y"
        },
        {
         "hovertemplate": "<br>l</b>: %{x:.2f}<br>b</b>: %{y:.2f}",
         "hovertext": [
          "Gran_5"
         ],
         "legendgroup": "Gran_5",
         "marker": {
          "color": "#00cc96",
          "symbol": "circle"
         },
         "mode": "markers",
         "name": "Gran_5",
         "orientation": "v",
         "showlegend": true,
         "type": "scatter",
         "x": [
          -4.45900000000006
         ],
         "xaxis": "x",
         "y": [
          1.838
         ],
         "yaxis": "y"
        },
        {
         "hovertemplate": "<br>l</b>: %{x:.2f}<br>b</b>: %{y:.2f}",
         "hovertext": [
          "HP_1"
         ],
         "legendgroup": "HP_1",
         "marker": {
          "color": "#ab63fa",
          "symbol": "circle"
         },
         "mode": "markers",
         "name": "HP_1",
         "orientation": "v",
         "showlegend": true,
         "type": "scatter",
         "x": [
          -2.5799999999999272
         ],
         "xaxis": "x",
         "y": [
          2.12
         ],
         "yaxis": "y"
        },
        {
         "hovertemplate": "<br>l</b>: %{x:.2f}<br>b</b>: %{y:.2f}",
         "hovertext": [
          "Kronberger_49"
         ],
         "legendgroup": "Kronberger_49",
         "marker": {
          "color": "#FFA15A",
          "symbol": "circle"
         },
         "mode": "markers",
         "name": "Kronberger_49",
         "orientation": "v",
         "showlegend": true,
         "type": "scatter",
         "x": [
          7.6270000000000095
         ],
         "xaxis": "x",
         "y": [
          -2.012
         ],
         "yaxis": "y"
        },
        {
         "hovertemplate": "<br>l</b>: %{x:.2f}<br>b</b>: %{y:.2f}",
         "hovertext": [
          "Liller_1"
         ],
         "legendgroup": "Liller_1",
         "marker": {
          "color": "#19d3f3",
          "symbol": "circle"
         },
         "mode": "markers",
         "name": "Liller_1",
         "orientation": "v",
         "showlegend": true,
         "type": "scatter",
         "x": [
          -5.160000000000082
         ],
         "xaxis": "x",
         "y": [
          -0.16
         ],
         "yaxis": "y"
        },
        {
         "hovertemplate": "<br>l</b>: %{x:.2f}<br>b</b>: %{y:.2f}",
         "hovertext": [
          "Mercer_5"
         ],
         "legendgroup": "Mercer_5",
         "marker": {
          "color": "#FF6692",
          "symbol": "circle"
         },
         "mode": "markers",
         "name": "Mercer_5",
         "orientation": "v",
         "showlegend": true,
         "type": "scatter",
         "x": [
          17.590000000000003
         ],
         "xaxis": "x",
         "y": [
          -0.86
         ],
         "yaxis": "y"
        },
        {
         "hovertemplate": "<br>l</b>: %{x:.2f}<br>b</b>: %{y:.2f}",
         "hovertext": [
          "Minni_22"
         ],
         "legendgroup": "Minni_22",
         "marker": {
          "color": "#B6E880",
          "symbol": "circle"
         },
         "mode": "markers",
         "name": "Minni_22",
         "orientation": "v",
         "showlegend": true,
         "type": "scatter",
         "x": [
          -3.1720000000000255
         ],
         "xaxis": "x",
         "y": [
          2.729
         ],
         "yaxis": "y"
        },
        {
         "hovertemplate": "<br>l</b>: %{x:.2f}<br>b</b>: %{y:.2f}",
         "hovertext": [
          "Minni_48"
         ],
         "legendgroup": "Minni_48",
         "marker": {
          "color": "#FF97FF",
          "symbol": "circle"
         },
         "mode": "markers",
         "name": "Minni_48",
         "orientation": "v",
         "showlegend": true,
         "type": "scatter",
         "x": [
          -0.6490000000000009
         ],
         "xaxis": "x",
         "y": [
          2.79
         ],
         "yaxis": "y"
        },
        {
         "hovertemplate": "<br>l</b>: %{x:.2f}<br>b</b>: %{y:.2f}",
         "hovertext": [
          "NGC_6256"
         ],
         "legendgroup": "NGC_6256",
         "marker": {
          "color": "#FECB52",
          "symbol": "circle"
         },
         "mode": "markers",
         "name": "NGC_6256",
         "orientation": "v",
         "showlegend": true,
         "type": "scatter",
         "x": [
          -12.210000000000036
         ],
         "xaxis": "x",
         "y": [
          3.31
         ],
         "yaxis": "y"
        },
        {
         "hovertemplate": "<br>l</b>: %{x:.2f}<br>b</b>: %{y:.2f}",
         "hovertext": [
          "NGC_6266"
         ],
         "legendgroup": "NGC_6266",
         "marker": {
          "color": "#636efa",
          "symbol": "circle"
         },
         "mode": "markers",
         "name": "NGC_6266",
         "orientation": "v",
         "showlegend": true,
         "type": "scatter",
         "x": [
          -6.420000000000073
         ],
         "xaxis": "x",
         "y": [
          7.32
         ],
         "yaxis": "y"
        },
        {
         "hovertemplate": "<br>l</b>: %{x:.2f}<br>b</b>: %{y:.2f}",
         "hovertext": [
          "NGC_6304"
         ],
         "legendgroup": "NGC_6304",
         "marker": {
          "color": "#EF553B",
          "symbol": "circle"
         },
         "mode": "markers",
         "name": "NGC_6304",
         "orientation": "v",
         "showlegend": true,
         "type": "scatter",
         "x": [
          -4.170000000000073
         ],
         "xaxis": "x",
         "y": [
          5.38
         ],
         "yaxis": "y"
        },
        {
         "hovertemplate": "<br>l</b>: %{x:.2f}<br>b</b>: %{y:.2f}",
         "hovertext": [
          "NGC_6316"
         ],
         "legendgroup": "NGC_6316",
         "marker": {
          "color": "#00cc96",
          "symbol": "circle"
         },
         "mode": "markers",
         "name": "NGC_6316",
         "orientation": "v",
         "showlegend": true,
         "type": "scatter",
         "x": [
          -2.8199999999999363
         ],
         "xaxis": "x",
         "y": [
          5.76
         ],
         "yaxis": "y"
        },
        {
         "hovertemplate": "<br>l</b>: %{x:.2f}<br>b</b>: %{y:.2f}",
         "hovertext": [
          "NGC_6325"
         ],
         "legendgroup": "NGC_6325",
         "marker": {
          "color": "#ab63fa",
          "symbol": "circle"
         },
         "mode": "markers",
         "name": "NGC_6325",
         "orientation": "v",
         "showlegend": true,
         "type": "scatter",
         "x": [
          0.9699999999999989
         ],
         "xaxis": "x",
         "y": [
          8
         ],
         "yaxis": "y"
        },
        {
         "hovertemplate": "<br>l</b>: %{x:.2f}<br>b</b>: %{y:.2f}",
         "hovertext": [
          "NGC_6342"
         ],
         "legendgroup": "NGC_6342",
         "marker": {
          "color": "#FFA15A",
          "symbol": "circle"
         },
         "mode": "markers",
         "name": "NGC_6342",
         "orientation": "v",
         "showlegend": true,
         "type": "scatter",
         "x": [
          4.900000000000006
         ],
         "xaxis": "x",
         "y": [
          9.73
         ],
         "yaxis": "y"
        },
        {
         "hovertemplate": "<br>l</b>: %{x:.2f}<br>b</b>: %{y:.2f}",
         "hovertext": [
          "NGC_6355"
         ],
         "legendgroup": "NGC_6355",
         "marker": {
          "color": "#19d3f3",
          "symbol": "circle"
         },
         "mode": "markers",
         "name": "NGC_6355",
         "orientation": "v",
         "showlegend": true,
         "type": "scatter",
         "x": [
          -0.42000000000007276
         ],
         "xaxis": "x",
         "y": [
          5.43
         ],
         "yaxis": "y"
        },
        {
         "hovertemplate": "<br>l</b>: %{x:.2f}<br>b</b>: %{y:.2f}",
         "hovertext": [
          "NGC_6401"
         ],
         "legendgroup": "NGC_6401",
         "marker": {
          "color": "#FF6692",
          "symbol": "circle"
         },
         "mode": "markers",
         "name": "NGC_6401",
         "orientation": "v",
         "showlegend": true,
         "type": "scatter",
         "x": [
          3.4499999999999886
         ],
         "xaxis": "x",
         "y": [
          3.98
         ],
         "yaxis": "y"
        },
        {
         "hovertemplate": "<br>l</b>: %{x:.2f}<br>b</b>: %{y:.2f}",
         "hovertext": [
          "NGC_6440"
         ],
         "legendgroup": "NGC_6440",
         "marker": {
          "color": "#B6E880",
          "symbol": "circle"
         },
         "mode": "markers",
         "name": "NGC_6440",
         "orientation": "v",
         "showlegend": true,
         "type": "scatter",
         "x": [
          7.72999999999999
         ],
         "xaxis": "x",
         "y": [
          3.8
         ],
         "yaxis": "y"
        },
        {
         "hovertemplate": "<br>l</b>: %{x:.2f}<br>b</b>: %{y:.2f}",
         "hovertext": [
          "NGC_6522"
         ],
         "legendgroup": "NGC_6522",
         "marker": {
          "color": "#FF97FF",
          "symbol": "circle"
         },
         "mode": "markers",
         "name": "NGC_6522",
         "orientation": "v",
         "showlegend": true,
         "type": "scatter",
         "x": [
          1.0200000000000102
         ],
         "xaxis": "x",
         "y": [
          -3.93
         ],
         "yaxis": "y"
        },
        {
         "hovertemplate": "<br>l</b>: %{x:.2f}<br>b</b>: %{y:.2f}",
         "hovertext": [
          "NGC_6528"
         ],
         "legendgroup": "NGC_6528",
         "marker": {
          "color": "#FECB52",
          "symbol": "circle"
         },
         "mode": "markers",
         "name": "NGC_6528",
         "orientation": "v",
         "showlegend": true,
         "type": "scatter",
         "x": [
          1.1399999999999864
         ],
         "xaxis": "x",
         "y": [
          -4.17
         ],
         "yaxis": "y"
        },
        {
         "hovertemplate": "<br>l</b>: %{x:.2f}<br>b</b>: %{y:.2f}",
         "hovertext": [
          "NGC_6539"
         ],
         "legendgroup": "NGC_6539",
         "marker": {
          "color": "#636efa",
          "symbol": "circle"
         },
         "mode": "markers",
         "name": "NGC_6539",
         "orientation": "v",
         "showlegend": true,
         "type": "scatter",
         "x": [
          20.80000000000001
         ],
         "xaxis": "x",
         "y": [
          6.78
         ],
         "yaxis": "y"
        },
        {
         "hovertemplate": "<br>l</b>: %{x:.2f}<br>b</b>: %{y:.2f}",
         "hovertext": [
          "NGC_6540"
         ],
         "legendgroup": "NGC_6540",
         "marker": {
          "color": "#EF553B",
          "symbol": "circle"
         },
         "mode": "markers",
         "name": "NGC_6540",
         "orientation": "v",
         "showlegend": true,
         "type": "scatter",
         "x": [
          3.289999999999992
         ],
         "xaxis": "x",
         "y": [
          -3.31
         ],
         "yaxis": "y"
        },
        {
         "hovertemplate": "<br>l</b>: %{x:.2f}<br>b</b>: %{y:.2f}",
         "hovertext": [
          "NGC_6553"
         ],
         "legendgroup": "NGC_6553",
         "marker": {
          "color": "#00cc96",
          "symbol": "circle"
         },
         "mode": "markers",
         "name": "NGC_6553",
         "orientation": "v",
         "showlegend": true,
         "type": "scatter",
         "x": [
          5.25
         ],
         "xaxis": "x",
         "y": [
          -3.02
         ],
         "yaxis": "y"
        },
        {
         "hovertemplate": "<br>l</b>: %{x:.2f}<br>b</b>: %{y:.2f}",
         "hovertext": [
          "NGC_6558"
         ],
         "legendgroup": "NGC_6558",
         "marker": {
          "color": "#ab63fa",
          "symbol": "circle"
         },
         "mode": "markers",
         "name": "NGC_6558",
         "orientation": "v",
         "showlegend": true,
         "type": "scatter",
         "x": [
          0.19999999999998863
         ],
         "xaxis": "x",
         "y": [
          -6.03
         ],
         "yaxis": "y"
        },
        {
         "hovertemplate": "<br>l</b>: %{x:.2f}<br>b</b>: %{y:.2f}",
         "hovertext": [
          "NGC_6624"
         ],
         "legendgroup": "NGC_6624",
         "marker": {
          "color": "#FFA15A",
          "symbol": "circle"
         },
         "mode": "markers",
         "name": "NGC_6624",
         "orientation": "v",
         "showlegend": true,
         "type": "scatter",
         "x": [
          2.789999999999992
         ],
         "xaxis": "x",
         "y": [
          -7.91
         ],
         "yaxis": "y"
        },
        {
         "hovertemplate": "<br>l</b>: %{x:.2f}<br>b</b>: %{y:.2f}",
         "hovertext": [
          "NGC_6626"
         ],
         "legendgroup": "NGC_6626",
         "marker": {
          "color": "#19d3f3",
          "symbol": "circle"
         },
         "mode": "markers",
         "name": "NGC_6626",
         "orientation": "v",
         "showlegend": true,
         "type": "scatter",
         "x": [
          7.800000000000011
         ],
         "xaxis": "x",
         "y": [
          -5.58
         ],
         "yaxis": "y"
        },
        {
         "hovertemplate": "<br>l</b>: %{x:.2f}<br>b</b>: %{y:.2f}",
         "hovertext": [
          "NGC_6637"
         ],
         "legendgroup": "NGC_6637",
         "marker": {
          "color": "#FF6692",
          "symbol": "circle"
         },
         "mode": "markers",
         "name": "NGC_6637",
         "orientation": "v",
         "showlegend": true,
         "type": "scatter",
         "x": [
          1.7199999999999989
         ],
         "xaxis": "x",
         "y": [
          -10.27
         ],
         "yaxis": "y"
        },
        {
         "hovertemplate": "<br>l</b>: %{x:.2f}<br>b</b>: %{y:.2f}",
         "hovertext": [
          "NGC_6638"
         ],
         "legendgroup": "NGC_6638",
         "marker": {
          "color": "#B6E880",
          "symbol": "circle"
         },
         "mode": "markers",
         "name": "NGC_6638",
         "orientation": "v",
         "showlegend": true,
         "type": "scatter",
         "x": [
          7.900000000000006
         ],
         "xaxis": "x",
         "y": [
          -7.15
         ],
         "yaxis": "y"
        },
        {
         "hovertemplate": "<br>l</b>: %{x:.2f}<br>b</b>: %{y:.2f}",
         "hovertext": [
          "NGC_6642"
         ],
         "legendgroup": "NGC_6642",
         "marker": {
          "color": "#FF97FF",
          "symbol": "circle"
         },
         "mode": "markers",
         "name": "NGC_6642",
         "orientation": "v",
         "showlegend": true,
         "type": "scatter",
         "x": [
          9.810000000000002
         ],
         "xaxis": "x",
         "y": [
          -6.44
         ],
         "yaxis": "y"
        },
        {
         "hovertemplate": "<br>l</b>: %{x:.2f}<br>b</b>: %{y:.2f}",
         "hovertext": [
          "NGC_6652"
         ],
         "legendgroup": "NGC_6652",
         "marker": {
          "color": "#FECB52",
          "symbol": "circle"
         },
         "mode": "markers",
         "name": "NGC_6652",
         "orientation": "v",
         "showlegend": true,
         "type": "scatter",
         "x": [
          1.5300000000000011
         ],
         "xaxis": "x",
         "y": [
          -11.38
         ],
         "yaxis": "y"
        },
        {
         "hovertemplate": "<br>l</b>: %{x:.2f}<br>b</b>: %{y:.2f}",
         "hovertext": [
          "NGC_6717"
         ],
         "legendgroup": "NGC_6717",
         "marker": {
          "color": "#636efa",
          "symbol": "circle"
         },
         "mode": "markers",
         "name": "NGC_6717",
         "orientation": "v",
         "showlegend": true,
         "type": "scatter",
         "x": [
          12.879999999999995
         ],
         "xaxis": "x",
         "y": [
          -10.9
         ],
         "yaxis": "y"
        },
        {
         "hovertemplate": "<br>l</b>: %{x:.2f}<br>b</b>: %{y:.2f}",
         "hovertext": [
          "NGC_6723"
         ],
         "legendgroup": "NGC_6723",
         "marker": {
          "color": "#EF553B",
          "symbol": "circle"
         },
         "mode": "markers",
         "name": "NGC_6723",
         "orientation": "v",
         "showlegend": true,
         "type": "scatter",
         "x": [
          0.06999999999999318
         ],
         "xaxis": "x",
         "y": [
          -17.3
         ],
         "yaxis": "y"
        },
        {
         "hovertemplate": "<br>l</b>: %{x:.2f}<br>b</b>: %{y:.2f}",
         "hovertext": [
          "Palomar_6"
         ],
         "legendgroup": "Palomar_6",
         "marker": {
          "color": "#00cc96",
          "symbol": "circle"
         },
         "mode": "markers",
         "name": "Palomar_6",
         "orientation": "v",
         "showlegend": true,
         "type": "scatter",
         "x": [
          2.0900000000000034
         ],
         "xaxis": "x",
         "y": [
          1.78
         ],
         "yaxis": "y"
        },
        {
         "hovertemplate": "<br>l</b>: %{x:.2f}<br>b</b>: %{y:.2f}",
         "hovertext": [
          "Patchick_126"
         ],
         "legendgroup": "Patchick_126",
         "marker": {
          "color": "#ab63fa",
          "symbol": "circle"
         },
         "mode": "markers",
         "name": "Patchick_126",
         "orientation": "v",
         "showlegend": true,
         "type": "scatter",
         "x": [
          -19.620000000000005
         ],
         "xaxis": "x",
         "y": [
          -3.825
         ],
         "yaxis": "y"
        },
        {
         "hovertemplate": "<br>l</b>: %{x:.2f}<br>b</b>: %{y:.2f}",
         "hovertext": [
          "Patchick_99"
         ],
         "legendgroup": "Patchick_99",
         "marker": {
          "color": "#FFA15A",
          "symbol": "circle"
         },
         "mode": "markers",
         "name": "Patchick_99",
         "orientation": "v",
         "showlegend": true,
         "type": "scatter",
         "x": [
          2.4879999999999995
         ],
         "xaxis": "x",
         "y": [
          -6.145
         ],
         "yaxis": "y"
        },
        {
         "hovertemplate": "<br>l</b>: %{x:.2f}<br>b</b>: %{y:.2f}",
         "hovertext": [
          "RLGC_2"
         ],
         "legendgroup": "RLGC_2",
         "marker": {
          "color": "#19d3f3",
          "symbol": "circle"
         },
         "mode": "markers",
         "name": "RLGC_2",
         "orientation": "v",
         "showlegend": true,
         "type": "scatter",
         "x": [
          27.631
         ],
         "xaxis": "x",
         "y": [
          -1.042
         ],
         "yaxis": "y"
        },
        {
         "hovertemplate": "<br>l</b>: %{x:.2f}<br>b</b>: %{y:.2f}",
         "hovertext": [
          "Terzan_1"
         ],
         "legendgroup": "Terzan_1",
         "marker": {
          "color": "#FF6692",
          "symbol": "circle"
         },
         "mode": "markers",
         "name": "Terzan_1",
         "orientation": "v",
         "showlegend": true,
         "type": "scatter",
         "x": [
          -2.4300000000000637
         ],
         "xaxis": "x",
         "y": [
          1
         ],
         "yaxis": "y"
        },
        {
         "hovertemplate": "<br>l</b>: %{x:.2f}<br>b</b>: %{y:.2f}",
         "hovertext": [
          "Terzan_10"
         ],
         "legendgroup": "Terzan_10",
         "marker": {
          "color": "#B6E880",
          "symbol": "circle"
         },
         "mode": "markers",
         "name": "Terzan_10",
         "orientation": "v",
         "showlegend": true,
         "type": "scatter",
         "x": [
          4.4199999999999875
         ],
         "xaxis": "x",
         "y": [
          -1.86
         ],
         "yaxis": "y"
        },
        {
         "hovertemplate": "<br>l</b>: %{x:.2f}<br>b</b>: %{y:.2f}",
         "hovertext": [
          "Terzan_2"
         ],
         "legendgroup": "Terzan_2",
         "marker": {
          "color": "#FF97FF",
          "symbol": "circle"
         },
         "mode": "markers",
         "name": "Terzan_2",
         "orientation": "v",
         "showlegend": true,
         "type": "scatter",
         "x": [
          -3.6800000000000637
         ],
         "xaxis": "x",
         "y": [
          2.3
         ],
         "yaxis": "y"
        },
        {
         "hovertemplate": "<br>l</b>: %{x:.2f}<br>b</b>: %{y:.2f}",
         "hovertext": [
          "Terzan_3"
         ],
         "legendgroup": "Terzan_3",
         "marker": {
          "color": "#FECB52",
          "symbol": "circle"
         },
         "mode": "markers",
         "name": "Terzan_3",
         "orientation": "v",
         "showlegend": true,
         "type": "scatter",
         "x": [
          -14.920000000000073
         ],
         "xaxis": "x",
         "y": [
          9.19
         ],
         "yaxis": "y"
        },
        {
         "hovertemplate": "<br>l</b>: %{x:.2f}<br>b</b>: %{y:.2f}",
         "hovertext": [
          "Terzan_4"
         ],
         "legendgroup": "Terzan_4",
         "marker": {
          "color": "#636efa",
          "symbol": "circle"
         },
         "mode": "markers",
         "name": "Terzan_4",
         "orientation": "v",
         "showlegend": true,
         "type": "scatter",
         "x": [
          -3.980000000000018
         ],
         "xaxis": "x",
         "y": [
          1.31
         ],
         "yaxis": "y"
        },
        {
         "hovertemplate": "<br>l</b>: %{x:.2f}<br>b</b>: %{y:.2f}",
         "hovertext": [
          "Terzan_5"
         ],
         "legendgroup": "Terzan_5",
         "marker": {
          "color": "#EF553B",
          "symbol": "circle"
         },
         "mode": "markers",
         "name": "Terzan_5",
         "orientation": "v",
         "showlegend": true,
         "type": "scatter",
         "x": [
          3.8100000000000023
         ],
         "xaxis": "x",
         "y": [
          1.67
         ],
         "yaxis": "y"
        },
        {
         "hovertemplate": "<br>l</b>: %{x:.2f}<br>b</b>: %{y:.2f}",
         "hovertext": [
          "Terzan_6"
         ],
         "legendgroup": "Terzan_6",
         "marker": {
          "color": "#00cc96",
          "symbol": "circle"
         },
         "mode": "markers",
         "name": "Terzan_6",
         "orientation": "v",
         "showlegend": true,
         "type": "scatter",
         "x": [
          -1.4300000000000637
         ],
         "xaxis": "x",
         "y": [
          -2.16
         ],
         "yaxis": "y"
        },
        {
         "hovertemplate": "<br>l</b>: %{x:.2f}<br>b</b>: %{y:.2f}",
         "hovertext": [
          "Terzan_9"
         ],
         "legendgroup": "Terzan_9",
         "marker": {
          "color": "#ab63fa",
          "symbol": "circle"
         },
         "mode": "markers",
         "name": "Terzan_9",
         "orientation": "v",
         "showlegend": true,
         "type": "scatter",
         "x": [
          3.5999999999999943
         ],
         "xaxis": "x",
         "y": [
          -1.99
         ],
         "yaxis": "y"
        },
        {
         "hovertemplate": "<br>l</b>: %{x:.2f}<br>b</b>: %{y:.2f}",
         "hovertext": [
          "Ton_2"
         ],
         "legendgroup": "Ton_2",
         "marker": {
          "color": "#FFA15A",
          "symbol": "circle"
         },
         "mode": "markers",
         "name": "Ton_2",
         "orientation": "v",
         "showlegend": true,
         "type": "scatter",
         "x": [
          -9.200000000000045
         ],
         "xaxis": "x",
         "y": [
          -3.42
         ],
         "yaxis": "y"
        },
        {
         "hovertemplate": "<br>l</b>: %{x:.2f}<br>b</b>: %{y:.2f}",
         "hovertext": [
          "UKS_1"
         ],
         "legendgroup": "UKS_1",
         "marker": {
          "color": "#19d3f3",
          "symbol": "circle"
         },
         "mode": "markers",
         "name": "UKS_1",
         "orientation": "v",
         "showlegend": true,
         "type": "scatter",
         "x": [
          5.125
         ],
         "xaxis": "x",
         "y": [
          -0.764
         ],
         "yaxis": "y"
        },
        {
         "hovertemplate": "<br>l</b>: %{x:.2f}<br>b</b>: %{y:.2f}",
         "hovertext": [
          "VVV-CL002"
         ],
         "legendgroup": "VVV-CL002",
         "marker": {
          "color": "#FF6692",
          "symbol": "circle"
         },
         "mode": "markers",
         "name": "VVV-CL002",
         "orientation": "v",
         "showlegend": true,
         "type": "scatter",
         "x": [
          -0.4410000000000309
         ],
         "xaxis": "x",
         "y": [
          0.889
         ],
         "yaxis": "y"
        },
        {
         "hovertemplate": "<br>l</b>: %{x:.2f}<br>b</b>: %{y:.2f}",
         "hovertext": [
          "VVV-CL131"
         ],
         "legendgroup": "VVV-CL131",
         "marker": {
          "color": "#B6E880",
          "symbol": "circle"
         },
         "mode": "markers",
         "name": "VVV-CL131",
         "orientation": "v",
         "showlegend": true,
         "type": "scatter",
         "x": [
          -5.278999999999996
         ],
         "xaxis": "x",
         "y": [
          -2.17
         ],
         "yaxis": "y"
        },
        {
         "hovertemplate": "<br>l</b>: %{x:.2f}<br>b</b>: %{y:.2f}",
         "hovertext": [
          "VVV-CL143"
         ],
         "legendgroup": "VVV-CL143",
         "marker": {
          "color": "#FF97FF",
          "symbol": "circle"
         },
         "mode": "markers",
         "name": "VVV-CL143",
         "orientation": "v",
         "showlegend": true,
         "type": "scatter",
         "x": [
          -4.211999999999989
         ],
         "xaxis": "x",
         "y": [
          -2.319
         ],
         "yaxis": "y"
        },
        {
         "hovertemplate": "<br>l</b>: %{x:.2f}<br>b</b>: %{y:.2f}",
         "hovertext": [
          "VVV-CL160"
         ],
         "legendgroup": "VVV-CL160",
         "marker": {
          "color": "#FECB52",
          "symbol": "circle"
         },
         "mode": "markers",
         "name": "VVV-CL160",
         "orientation": "v",
         "showlegend": true,
         "type": "scatter",
         "x": [
          10.15100000000001
         ],
         "xaxis": "x",
         "y": [
          0.302
         ],
         "yaxis": "y"
        },
        {
         "hovertemplate": "<br>l</b>: %{x:.2f}<br>b</b>: %{y:.2f}",
         "hovertext": [
          "VVV-CL001"
         ],
         "legendgroup": "VVV-CL001",
         "marker": {
          "color": "#636efa",
          "symbol": "circle"
         },
         "mode": "markers",
         "name": "VVV-CL001",
         "orientation": "v",
         "showlegend": true,
         "type": "scatter",
         "x": [
          5.266999999999996
         ],
         "xaxis": "x",
         "y": [
          0.78
         ],
         "yaxis": "y"
        }
       ],
       "layout": {
        "autosize": false,
        "height": 800,
        "legend": {
         "title": {
          "text": "Cluster_Name"
         },
         "tracegroupgap": 0
        },
        "margin": {
         "t": 60
        },
        "showlegend": false,
        "template": {
         "data": {
          "bar": [
           {
            "error_x": {
             "color": "#2a3f5f"
            },
            "error_y": {
             "color": "#2a3f5f"
            },
            "marker": {
             "line": {
              "color": "#E5ECF6",
              "width": 0.5
             },
             "pattern": {
              "fillmode": "overlay",
              "size": 10,
              "solidity": 0.2
             }
            },
            "type": "bar"
           }
          ],
          "barpolar": [
           {
            "marker": {
             "line": {
              "color": "#E5ECF6",
              "width": 0.5
             },
             "pattern": {
              "fillmode": "overlay",
              "size": 10,
              "solidity": 0.2
             }
            },
            "type": "barpolar"
           }
          ],
          "carpet": [
           {
            "aaxis": {
             "endlinecolor": "#2a3f5f",
             "gridcolor": "white",
             "linecolor": "white",
             "minorgridcolor": "white",
             "startlinecolor": "#2a3f5f"
            },
            "baxis": {
             "endlinecolor": "#2a3f5f",
             "gridcolor": "white",
             "linecolor": "white",
             "minorgridcolor": "white",
             "startlinecolor": "#2a3f5f"
            },
            "type": "carpet"
           }
          ],
          "choropleth": [
           {
            "colorbar": {
             "outlinewidth": 0,
             "ticks": ""
            },
            "type": "choropleth"
           }
          ],
          "contour": [
           {
            "colorbar": {
             "outlinewidth": 0,
             "ticks": ""
            },
            "colorscale": [
             [
              0,
              "#0d0887"
             ],
             [
              0.1111111111111111,
              "#46039f"
             ],
             [
              0.2222222222222222,
              "#7201a8"
             ],
             [
              0.3333333333333333,
              "#9c179e"
             ],
             [
              0.4444444444444444,
              "#bd3786"
             ],
             [
              0.5555555555555556,
              "#d8576b"
             ],
             [
              0.6666666666666666,
              "#ed7953"
             ],
             [
              0.7777777777777778,
              "#fb9f3a"
             ],
             [
              0.8888888888888888,
              "#fdca26"
             ],
             [
              1,
              "#f0f921"
             ]
            ],
            "type": "contour"
           }
          ],
          "contourcarpet": [
           {
            "colorbar": {
             "outlinewidth": 0,
             "ticks": ""
            },
            "type": "contourcarpet"
           }
          ],
          "heatmap": [
           {
            "colorbar": {
             "outlinewidth": 0,
             "ticks": ""
            },
            "colorscale": [
             [
              0,
              "#0d0887"
             ],
             [
              0.1111111111111111,
              "#46039f"
             ],
             [
              0.2222222222222222,
              "#7201a8"
             ],
             [
              0.3333333333333333,
              "#9c179e"
             ],
             [
              0.4444444444444444,
              "#bd3786"
             ],
             [
              0.5555555555555556,
              "#d8576b"
             ],
             [
              0.6666666666666666,
              "#ed7953"
             ],
             [
              0.7777777777777778,
              "#fb9f3a"
             ],
             [
              0.8888888888888888,
              "#fdca26"
             ],
             [
              1,
              "#f0f921"
             ]
            ],
            "type": "heatmap"
           }
          ],
          "heatmapgl": [
           {
            "colorbar": {
             "outlinewidth": 0,
             "ticks": ""
            },
            "colorscale": [
             [
              0,
              "#0d0887"
             ],
             [
              0.1111111111111111,
              "#46039f"
             ],
             [
              0.2222222222222222,
              "#7201a8"
             ],
             [
              0.3333333333333333,
              "#9c179e"
             ],
             [
              0.4444444444444444,
              "#bd3786"
             ],
             [
              0.5555555555555556,
              "#d8576b"
             ],
             [
              0.6666666666666666,
              "#ed7953"
             ],
             [
              0.7777777777777778,
              "#fb9f3a"
             ],
             [
              0.8888888888888888,
              "#fdca26"
             ],
             [
              1,
              "#f0f921"
             ]
            ],
            "type": "heatmapgl"
           }
          ],
          "histogram": [
           {
            "marker": {
             "pattern": {
              "fillmode": "overlay",
              "size": 10,
              "solidity": 0.2
             }
            },
            "type": "histogram"
           }
          ],
          "histogram2d": [
           {
            "colorbar": {
             "outlinewidth": 0,
             "ticks": ""
            },
            "colorscale": [
             [
              0,
              "#0d0887"
             ],
             [
              0.1111111111111111,
              "#46039f"
             ],
             [
              0.2222222222222222,
              "#7201a8"
             ],
             [
              0.3333333333333333,
              "#9c179e"
             ],
             [
              0.4444444444444444,
              "#bd3786"
             ],
             [
              0.5555555555555556,
              "#d8576b"
             ],
             [
              0.6666666666666666,
              "#ed7953"
             ],
             [
              0.7777777777777778,
              "#fb9f3a"
             ],
             [
              0.8888888888888888,
              "#fdca26"
             ],
             [
              1,
              "#f0f921"
             ]
            ],
            "type": "histogram2d"
           }
          ],
          "histogram2dcontour": [
           {
            "colorbar": {
             "outlinewidth": 0,
             "ticks": ""
            },
            "colorscale": [
             [
              0,
              "#0d0887"
             ],
             [
              0.1111111111111111,
              "#46039f"
             ],
             [
              0.2222222222222222,
              "#7201a8"
             ],
             [
              0.3333333333333333,
              "#9c179e"
             ],
             [
              0.4444444444444444,
              "#bd3786"
             ],
             [
              0.5555555555555556,
              "#d8576b"
             ],
             [
              0.6666666666666666,
              "#ed7953"
             ],
             [
              0.7777777777777778,
              "#fb9f3a"
             ],
             [
              0.8888888888888888,
              "#fdca26"
             ],
             [
              1,
              "#f0f921"
             ]
            ],
            "type": "histogram2dcontour"
           }
          ],
          "mesh3d": [
           {
            "colorbar": {
             "outlinewidth": 0,
             "ticks": ""
            },
            "type": "mesh3d"
           }
          ],
          "parcoords": [
           {
            "line": {
             "colorbar": {
              "outlinewidth": 0,
              "ticks": ""
             }
            },
            "type": "parcoords"
           }
          ],
          "pie": [
           {
            "automargin": true,
            "type": "pie"
           }
          ],
          "scatter": [
           {
            "fillpattern": {
             "fillmode": "overlay",
             "size": 10,
             "solidity": 0.2
            },
            "type": "scatter"
           }
          ],
          "scatter3d": [
           {
            "line": {
             "colorbar": {
              "outlinewidth": 0,
              "ticks": ""
             }
            },
            "marker": {
             "colorbar": {
              "outlinewidth": 0,
              "ticks": ""
             }
            },
            "type": "scatter3d"
           }
          ],
          "scattercarpet": [
           {
            "marker": {
             "colorbar": {
              "outlinewidth": 0,
              "ticks": ""
             }
            },
            "type": "scattercarpet"
           }
          ],
          "scattergeo": [
           {
            "marker": {
             "colorbar": {
              "outlinewidth": 0,
              "ticks": ""
             }
            },
            "type": "scattergeo"
           }
          ],
          "scattergl": [
           {
            "marker": {
             "colorbar": {
              "outlinewidth": 0,
              "ticks": ""
             }
            },
            "type": "scattergl"
           }
          ],
          "scattermapbox": [
           {
            "marker": {
             "colorbar": {
              "outlinewidth": 0,
              "ticks": ""
             }
            },
            "type": "scattermapbox"
           }
          ],
          "scatterpolar": [
           {
            "marker": {
             "colorbar": {
              "outlinewidth": 0,
              "ticks": ""
             }
            },
            "type": "scatterpolar"
           }
          ],
          "scatterpolargl": [
           {
            "marker": {
             "colorbar": {
              "outlinewidth": 0,
              "ticks": ""
             }
            },
            "type": "scatterpolargl"
           }
          ],
          "scatterternary": [
           {
            "marker": {
             "colorbar": {
              "outlinewidth": 0,
              "ticks": ""
             }
            },
            "type": "scatterternary"
           }
          ],
          "surface": [
           {
            "colorbar": {
             "outlinewidth": 0,
             "ticks": ""
            },
            "colorscale": [
             [
              0,
              "#0d0887"
             ],
             [
              0.1111111111111111,
              "#46039f"
             ],
             [
              0.2222222222222222,
              "#7201a8"
             ],
             [
              0.3333333333333333,
              "#9c179e"
             ],
             [
              0.4444444444444444,
              "#bd3786"
             ],
             [
              0.5555555555555556,
              "#d8576b"
             ],
             [
              0.6666666666666666,
              "#ed7953"
             ],
             [
              0.7777777777777778,
              "#fb9f3a"
             ],
             [
              0.8888888888888888,
              "#fdca26"
             ],
             [
              1,
              "#f0f921"
             ]
            ],
            "type": "surface"
           }
          ],
          "table": [
           {
            "cells": {
             "fill": {
              "color": "#EBF0F8"
             },
             "line": {
              "color": "white"
             }
            },
            "header": {
             "fill": {
              "color": "#C8D4E3"
             },
             "line": {
              "color": "white"
             }
            },
            "type": "table"
           }
          ]
         },
         "layout": {
          "annotationdefaults": {
           "arrowcolor": "#2a3f5f",
           "arrowhead": 0,
           "arrowwidth": 1
          },
          "autotypenumbers": "strict",
          "coloraxis": {
           "colorbar": {
            "outlinewidth": 0,
            "ticks": ""
           }
          },
          "colorscale": {
           "diverging": [
            [
             0,
             "#8e0152"
            ],
            [
             0.1,
             "#c51b7d"
            ],
            [
             0.2,
             "#de77ae"
            ],
            [
             0.3,
             "#f1b6da"
            ],
            [
             0.4,
             "#fde0ef"
            ],
            [
             0.5,
             "#f7f7f7"
            ],
            [
             0.6,
             "#e6f5d0"
            ],
            [
             0.7,
             "#b8e186"
            ],
            [
             0.8,
             "#7fbc41"
            ],
            [
             0.9,
             "#4d9221"
            ],
            [
             1,
             "#276419"
            ]
           ],
           "sequential": [
            [
             0,
             "#0d0887"
            ],
            [
             0.1111111111111111,
             "#46039f"
            ],
            [
             0.2222222222222222,
             "#7201a8"
            ],
            [
             0.3333333333333333,
             "#9c179e"
            ],
            [
             0.4444444444444444,
             "#bd3786"
            ],
            [
             0.5555555555555556,
             "#d8576b"
            ],
            [
             0.6666666666666666,
             "#ed7953"
            ],
            [
             0.7777777777777778,
             "#fb9f3a"
            ],
            [
             0.8888888888888888,
             "#fdca26"
            ],
            [
             1,
             "#f0f921"
            ]
           ],
           "sequentialminus": [
            [
             0,
             "#0d0887"
            ],
            [
             0.1111111111111111,
             "#46039f"
            ],
            [
             0.2222222222222222,
             "#7201a8"
            ],
            [
             0.3333333333333333,
             "#9c179e"
            ],
            [
             0.4444444444444444,
             "#bd3786"
            ],
            [
             0.5555555555555556,
             "#d8576b"
            ],
            [
             0.6666666666666666,
             "#ed7953"
            ],
            [
             0.7777777777777778,
             "#fb9f3a"
            ],
            [
             0.8888888888888888,
             "#fdca26"
            ],
            [
             1,
             "#f0f921"
            ]
           ]
          },
          "colorway": [
           "#636efa",
           "#EF553B",
           "#00cc96",
           "#ab63fa",
           "#FFA15A",
           "#19d3f3",
           "#FF6692",
           "#B6E880",
           "#FF97FF",
           "#FECB52"
          ],
          "font": {
           "color": "#2a3f5f"
          },
          "geo": {
           "bgcolor": "white",
           "lakecolor": "white",
           "landcolor": "#E5ECF6",
           "showlakes": true,
           "showland": true,
           "subunitcolor": "white"
          },
          "hoverlabel": {
           "align": "left"
          },
          "hovermode": "closest",
          "mapbox": {
           "style": "light"
          },
          "paper_bgcolor": "white",
          "plot_bgcolor": "#E5ECF6",
          "polar": {
           "angularaxis": {
            "gridcolor": "white",
            "linecolor": "white",
            "ticks": ""
           },
           "bgcolor": "#E5ECF6",
           "radialaxis": {
            "gridcolor": "white",
            "linecolor": "white",
            "ticks": ""
           }
          },
          "scene": {
           "xaxis": {
            "backgroundcolor": "#E5ECF6",
            "gridcolor": "white",
            "gridwidth": 2,
            "linecolor": "white",
            "showbackground": true,
            "ticks": "",
            "zerolinecolor": "white"
           },
           "yaxis": {
            "backgroundcolor": "#E5ECF6",
            "gridcolor": "white",
            "gridwidth": 2,
            "linecolor": "white",
            "showbackground": true,
            "ticks": "",
            "zerolinecolor": "white"
           },
           "zaxis": {
            "backgroundcolor": "#E5ECF6",
            "gridcolor": "white",
            "gridwidth": 2,
            "linecolor": "white",
            "showbackground": true,
            "ticks": "",
            "zerolinecolor": "white"
           }
          },
          "shapedefaults": {
           "line": {
            "color": "#2a3f5f"
           }
          },
          "ternary": {
           "aaxis": {
            "gridcolor": "white",
            "linecolor": "white",
            "ticks": ""
           },
           "baxis": {
            "gridcolor": "white",
            "linecolor": "white",
            "ticks": ""
           },
           "bgcolor": "#E5ECF6",
           "caxis": {
            "gridcolor": "white",
            "linecolor": "white",
            "ticks": ""
           }
          },
          "title": {
           "x": 0.05
          },
          "xaxis": {
           "automargin": true,
           "gridcolor": "white",
           "linecolor": "white",
           "ticks": "",
           "title": {
            "standoff": 15
           },
           "zerolinecolor": "white",
           "zerolinewidth": 2
          },
          "yaxis": {
           "automargin": true,
           "gridcolor": "white",
           "linecolor": "white",
           "ticks": "",
           "title": {
            "standoff": 15
           },
           "zerolinecolor": "white",
           "zerolinewidth": 2
          }
         }
        },
        "title": {
         "text": "Compilation of Globular Clusters in the Inner Galaxy",
         "x": 0.25
        },
        "width": 800,
        "xaxis": {
         "anchor": "y",
         "domain": [
          0,
          1
         ],
         "range": [
          -5,
          5
         ],
         "title": {
          "text": "Galactic longitude, l [°]"
         },
         "type": "linear"
        },
        "yaxis": {
         "anchor": "x",
         "domain": [
          0,
          1
         ],
         "range": [
          5,
          -5
         ],
         "title": {
          "text": "Galactic latitude, b [°]"
         },
         "type": "linear"
        }
       }
      },
      "image/png": "[encoded data removed]",
      "text/html": [
       "<div>                            <div id=\"8688cc5f-91ab-437f-ad29-d4fb6638b4a6\" class=\"plotly-graph-div\" style=\"height:800px; width:800px;\"></div>            <script type=\"text/javascript\">                require([\"plotly\"], function(Plotly) {                    window.PLOTLYENV=window.PLOTLYENV || {};                                    if (document.getElementById(\"8688cc5f-91ab-437f-ad29-d4fb6638b4a6\")) {                    Plotly.newPlot(                        \"8688cc5f-91ab-437f-ad29-d4fb6638b4a6\",                        [{\"hovertemplate\":\"\\u003cbr\\u003el\\u003c\\u002fb\\u003e: %{x:.2f}\\u003cbr\\u003eb\\u003c\\u002fb\\u003e: %{y:.2f}\",\"hovertext\":[\"BH_261\"],\"legendgroup\":\"BH_261\",\"marker\":{\"color\":\"#636efa\",\"symbol\":\"circle\"},\"mode\":\"markers\",\"name\":\"BH_261\",\"orientation\":\"v\",\"showlegend\":true,\"x\":[3.3600000000000136],\"xaxis\":\"x\",\"y\":[-5.27],\"yaxis\":\"y\",\"type\":\"scatter\"},{\"hovertemplate\":\"\\u003cbr\\u003el\\u003c\\u002fb\\u003e: %{x:.2f}\\u003cbr\\u003eb\\u003c\\u002fb\\u003e: %{y:.2f}\",\"hovertext\":[\"Camargo_1102\"],\"legendgroup\":\"Camargo_1102\",\"marker\":{\"color\":\"#EF553B\",\"symbol\":\"circle\"},\"mode\":\"markers\",\"name\":\"Camargo_1102\",\"orientation\":\"v\",\"showlegend\":true,\"x\":[-0.8550000000000182],\"xaxis\":\"x\",\"y\":[5.734],\"yaxis\":\"y\",\"type\":\"scatter\"},{\"hovertemplate\":\"\\u003cbr\\u003el\\u003c\\u002fb\\u003e: %{x:.2f}\\u003cbr\\u003eb\\u003c\\u002fb\\u003e: %{y:.2f}\",\"hovertext\":[\"Camargo_1103\"],\"legendgroup\":\"Camargo_1103\",\"marker\":{\"color\":\"#00cc96\",\"symbol\":\"circle\"},\"mode\":\"markers\",\"name\":\"Camargo_1103\",\"orientation\":\"v\",\"showlegend\":true,\"x\":[5.604000000000013],\"xaxis\":\"x\",\"y\":[-2.121],\"yaxis\":\"y\",\"type\":\"scatter\"},{\"hovertemplate\":\"\\u003cbr\\u003el\\u003c\\u002fb\\u003e: %{x:.2f}\\u003cbr\\u003eb\\u003c\\u002fb\\u003e: %{y:.2f}\",\"hovertext\":[\"Camargo_1104\"],\"legendgroup\":\"Camargo_1104\",\"marker\":{\"color\":\"#ab63fa\",\"symbol\":\"circle\"},\"mode\":\"markers\",\"name\":\"Camargo_1104\",\"orientation\":\"v\",\"showlegend\":true,\"x\":[5.621000000000009],\"xaxis\":\"x\",\"y\":[-1.778],\"yaxis\":\"y\",\"type\":\"scatter\"},{\"hovertemplate\":\"\\u003cbr\\u003el\\u003c\\u002fb\\u003e: %{x:.2f}\\u003cbr\\u003eb\\u003c\\u002fb\\u003e: %{y:.2f}\",\"hovertext\":[\"Camargo_1107\"],\"legendgroup\":\"Camargo_1107\",\"marker\":{\"color\":\"#FFA15A\",\"symbol\":\"circle\"},\"mode\":\"markers\",\"name\":\"Camargo_1107\",\"orientation\":\"v\",\"showlegend\":true,\"x\":[-2.0230000000000246],\"xaxis\":\"x\",\"y\":[0.956],\"yaxis\":\"y\",\"type\":\"scatter\"},{\"hovertemplate\":\"\\u003cbr\\u003el\\u003c\\u002fb\\u003e: %{x:.2f}\\u003cbr\\u003eb\\u003c\\u002fb\\u003e: %{y:.2f}\",\"hovertext\":[\"Camargo_1108\"],\"legendgroup\":\"Camargo_1108\",\"marker\":{\"color\":\"#19d3f3\",\"symbol\":\"circle\"},\"mode\":\"markers\",\"name\":\"Camargo_1108\",\"orientation\":\"v\",\"showlegend\":true,\"x\":[-1.5960000000000036],\"xaxis\":\"x\",\"y\":[-1.087],\"yaxis\":\"y\",\"type\":\"scatter\"},{\"hovertemplate\":\"\\u003cbr\\u003el\\u003c\\u002fb\\u003e: %{x:.2f}\\u003cbr\\u003eb\\u003c\\u002fb\\u003e: %{y:.2f}\",\"hovertext\":[\"Camargo_1109\"],\"legendgroup\":\"Camargo_1109\",\"marker\":{\"color\":\"#FF6692\",\"symbol\":\"circle\"},\"mode\":\"markers\",\"name\":\"Camargo_1109\",\"orientation\":\"v\",\"showlegend\":true,\"x\":[2.164999999999992],\"xaxis\":\"x\",\"y\":[0.844],\"yaxis\":\"y\",\"type\":\"scatter\"},{\"hovertemplate\":\"\\u003cbr\\u003el\\u003c\\u002fb\\u003e: %{x:.2f}\\u003cbr\\u003eb\\u003c\\u002fb\\u003e: %{y:.2f}\",\"hovertext\":[\"Djorg_1\"],\"legendgroup\":\"Djorg_1\",\"marker\":{\"color\":\"#B6E880\",\"symbol\":\"circle\"},\"mode\":\"markers\",\"name\":\"Djorg_1\",\"orientation\":\"v\",\"showlegend\":true,\"x\":[-3.3299999999999272],\"xaxis\":\"x\",\"y\":[-2.48],\"yaxis\":\"y\",\"type\":\"scatter\"},{\"hovertemplate\":\"\\u003cbr\\u003el\\u003c\\u002fb\\u003e: %{x:.2f}\\u003cbr\\u003eb\\u003c\\u002fb\\u003e: %{y:.2f}\",\"hovertext\":[\"ESO393-12\"],\"legendgroup\":\"ESO393-12\",\"marker\":{\"color\":\"#FF97FF\",\"symbol\":\"circle\"},\"mode\":\"markers\",\"name\":\"ESO393-12\",\"orientation\":\"v\",\"showlegend\":true,\"x\":[-6.48599999999999],\"xaxis\":\"x\",\"y\":[-2.284],\"yaxis\":\"y\",\"type\":\"scatter\"},{\"hovertemplate\":\"\\u003cbr\\u003el\\u003c\\u002fb\\u003e: %{x:.2f}\\u003cbr\\u003eb\\u003c\\u002fb\\u003e: %{y:.2f}\",\"hovertext\":[\"ESO452-SC11\"],\"legendgroup\":\"ESO452-SC11\",\"marker\":{\"color\":\"#FECB52\",\"symbol\":\"circle\"},\"mode\":\"markers\",\"name\":\"ESO452-SC11\",\"orientation\":\"v\",\"showlegend\":true,\"x\":[-8.089999999999918],\"xaxis\":\"x\",\"y\":[12.1],\"yaxis\":\"y\",\"type\":\"scatter\"},{\"hovertemplate\":\"\\u003cbr\\u003el\\u003c\\u002fb\\u003e: %{x:.2f}\\u003cbr\\u003eb\\u003c\\u002fb\\u003e: %{y:.2f}\",\"hovertext\":[\"ESO456-09\"],\"legendgroup\":\"ESO456-09\",\"marker\":{\"color\":\"#636efa\",\"symbol\":\"circle\"},\"mode\":\"markers\",\"name\":\"ESO456-09\",\"orientation\":\"v\",\"showlegend\":true,\"x\":[-2.117999999999938],\"xaxis\":\"x\",\"y\":[-3.339],\"yaxis\":\"y\",\"type\":\"scatter\"},{\"hovertemplate\":\"\\u003cbr\\u003el\\u003c\\u002fb\\u003e: %{x:.2f}\\u003cbr\\u003eb\\u003c\\u002fb\\u003e: %{y:.2f}\",\"hovertext\":[\"ESO456-SC38\"],\"legendgroup\":\"ESO456-SC38\",\"marker\":{\"color\":\"#EF553B\",\"symbol\":\"circle\"},\"mode\":\"markers\",\"name\":\"ESO456-SC38\",\"orientation\":\"v\",\"showlegend\":true,\"x\":[2.759999999999991],\"xaxis\":\"x\",\"y\":[-2.5],\"yaxis\":\"y\",\"type\":\"scatter\"},{\"hovertemplate\":\"\\u003cbr\\u003el\\u003c\\u002fb\\u003e: %{x:.2f}\\u003cbr\\u003eb\\u003c\\u002fb\\u003e: %{y:.2f}\",\"hovertext\":[\"FSR0009\"],\"legendgroup\":\"FSR0009\",\"marker\":{\"color\":\"#00cc96\",\"symbol\":\"circle\"},\"mode\":\"markers\",\"name\":\"FSR0009\",\"orientation\":\"v\",\"showlegend\":true,\"x\":[1.8549999999999898],\"xaxis\":\"x\",\"y\":[-9.529],\"yaxis\":\"y\",\"type\":\"scatter\"},{\"hovertemplate\":\"\\u003cbr\\u003el\\u003c\\u002fb\\u003e: %{x:.2f}\\u003cbr\\u003eb\\u003c\\u002fb\\u003e: %{y:.2f}\",\"hovertext\":[\"FSR019\"],\"legendgroup\":\"FSR019\",\"marker\":{\"color\":\"#ab63fa\",\"symbol\":\"circle\"},\"mode\":\"markers\",\"name\":\"FSR019\",\"orientation\":\"v\",\"showlegend\":true,\"x\":[5.498999999999995],\"xaxis\":\"x\",\"y\":[6.071],\"yaxis\":\"y\",\"type\":\"scatter\"},{\"hovertemplate\":\"\\u003cbr\\u003el\\u003c\\u002fb\\u003e: %{x:.2f}\\u003cbr\\u003eb\\u003c\\u002fb\\u003e: %{y:.2f}\",\"hovertext\":[\"FSR025\"],\"legendgroup\":\"FSR025\",\"marker\":{\"color\":\"#FFA15A\",\"symbol\":\"circle\"},\"mode\":\"markers\",\"name\":\"FSR025\",\"orientation\":\"v\",\"showlegend\":true,\"x\":[7.533999999999992],\"xaxis\":\"x\",\"y\":[5.649],\"yaxis\":\"y\",\"type\":\"scatter\"},{\"hovertemplate\":\"\\u003cbr\\u003el\\u003c\\u002fb\\u003e: %{x:.2f}\\u003cbr\\u003eb\\u003c\\u002fb\\u003e: %{y:.2f}\",\"hovertext\":[\"FSR1758\"],\"legendgroup\":\"FSR1758\",\"marker\":{\"color\":\"#19d3f3\",\"symbol\":\"circle\"},\"mode\":\"markers\",\"name\":\"FSR1758\",\"orientation\":\"v\",\"showlegend\":true,\"x\":[-10.783000000000015],\"xaxis\":\"x\",\"y\":[-3.292],\"yaxis\":\"y\",\"type\":\"scatter\"},{\"hovertemplate\":\"\\u003cbr\\u003el\\u003c\\u002fb\\u003e: %{x:.2f}\\u003cbr\\u003eb\\u003c\\u002fb\\u003e: %{y:.2f}\",\"hovertext\":[\"FSR1767\"],\"legendgroup\":\"FSR1767\",\"marker\":{\"color\":\"#FF6692\",\"symbol\":\"circle\"},\"mode\":\"markers\",\"name\":\"FSR1767\",\"orientation\":\"v\",\"showlegend\":true,\"x\":[-7.399000000000001],\"xaxis\":\"x\",\"y\":[-2.166],\"yaxis\":\"y\",\"type\":\"scatter\"},{\"hovertemplate\":\"\\u003cbr\\u003el\\u003c\\u002fb\\u003e: %{x:.2f}\\u003cbr\\u003eb\\u003c\\u002fb\\u003e: %{y:.2f}\",\"hovertext\":[\"FSR1775\"],\"legendgroup\":\"FSR1775\",\"marker\":{\"color\":\"#B6E880\",\"symbol\":\"circle\"},\"mode\":\"markers\",\"name\":\"FSR1775\",\"orientation\":\"v\",\"showlegend\":true,\"x\":[-5.453999999999951],\"xaxis\":\"x\",\"y\":[-5.779],\"yaxis\":\"y\",\"type\":\"scatter\"},{\"hovertemplate\":\"\\u003cbr\\u003el\\u003c\\u002fb\\u003e: %{x:.2f}\\u003cbr\\u003eb\\u003c\\u002fb\\u003e: %{y:.2f}\",\"hovertext\":[\"FSR1776\"],\"legendgroup\":\"FSR1776\",\"marker\":{\"color\":\"#FF97FF\",\"symbol\":\"circle\"},\"mode\":\"markers\",\"name\":\"FSR1776\",\"orientation\":\"v\",\"showlegend\":true,\"x\":[-5.279999999999973],\"xaxis\":\"x\",\"y\":[-5.249],\"yaxis\":\"y\",\"type\":\"scatter\"},{\"hovertemplate\":\"\\u003cbr\\u003el\\u003c\\u002fb\\u003e: %{x:.2f}\\u003cbr\\u003eb\\u003c\\u002fb\\u003e: %{y:.2f}\",\"hovertext\":[\"Glimpse_C02\"],\"legendgroup\":\"Glimpse_C02\",\"marker\":{\"color\":\"#FECB52\",\"symbol\":\"circle\"},\"mode\":\"markers\",\"name\":\"Glimpse_C02\",\"orientation\":\"v\",\"showlegend\":true,\"x\":[14.129999999999995],\"xaxis\":\"x\",\"y\":[-0.64],\"yaxis\":\"y\",\"type\":\"scatter\"},{\"hovertemplate\":\"\\u003cbr\\u003el\\u003c\\u002fb\\u003e: %{x:.2f}\\u003cbr\\u003eb\\u003c\\u002fb\\u003e: %{y:.2f}\",\"hovertext\":[\"Gran_1\"],\"legendgroup\":\"Gran_1\",\"marker\":{\"color\":\"#636efa\",\"symbol\":\"circle\"},\"mode\":\"markers\",\"name\":\"Gran_1\",\"orientation\":\"v\",\"showlegend\":true,\"x\":[-1.2329999999999472],\"xaxis\":\"x\",\"y\":[-3.977],\"yaxis\":\"y\",\"type\":\"scatter\"},{\"hovertemplate\":\"\\u003cbr\\u003el\\u003c\\u002fb\\u003e: %{x:.2f}\\u003cbr\\u003eb\\u003c\\u002fb\\u003e: %{y:.2f}\",\"hovertext\":[\"Gran_3\"],\"legendgroup\":\"Gran_3\",\"marker\":{\"color\":\"#EF553B\",\"symbol\":\"circle\"},\"mode\":\"markers\",\"name\":\"Gran_3\",\"orientation\":\"v\",\"showlegend\":true,\"x\":[-10.244000000000028],\"xaxis\":\"x\",\"y\":[3.424],\"yaxis\":\"y\",\"type\":\"scatter\"},{\"hovertemplate\":\"\\u003cbr\\u003el\\u003c\\u002fb\\u003e: %{x:.2f}\\u003cbr\\u003eb\\u003c\\u002fb\\u003e: %{y:.2f}\",\"hovertext\":[\"Gran_5\"],\"legendgroup\":\"Gran_5\",\"marker\":{\"color\":\"#00cc96\",\"symbol\":\"circle\"},\"mode\":\"markers\",\"name\":\"Gran_5\",\"orientation\":\"v\",\"showlegend\":true,\"x\":[-4.45900000000006],\"xaxis\":\"x\",\"y\":[1.838],\"yaxis\":\"y\",\"type\":\"scatter\"},{\"hovertemplate\":\"\\u003cbr\\u003el\\u003c\\u002fb\\u003e: %{x:.2f}\\u003cbr\\u003eb\\u003c\\u002fb\\u003e: %{y:.2f}\",\"hovertext\":[\"HP_1\"],\"legendgroup\":\"HP_1\",\"marker\":{\"color\":\"#ab63fa\",\"symbol\":\"circle\"},\"mode\":\"markers\",\"name\":\"HP_1\",\"orientation\":\"v\",\"showlegend\":true,\"x\":[-2.5799999999999272],\"xaxis\":\"x\",\"y\":[2.12],\"yaxis\":\"y\",\"type\":\"scatter\"},{\"hovertemplate\":\"\\u003cbr\\u003el\\u003c\\u002fb\\u003e: %{x:.2f}\\u003cbr\\u003eb\\u003c\\u002fb\\u003e: %{y:.2f}\",\"hovertext\":[\"Kronberger_49\"],\"legendgroup\":\"Kronberger_49\",\"marker\":{\"color\":\"#FFA15A\",\"symbol\":\"circle\"},\"mode\":\"markers\",\"name\":\"Kronberger_49\",\"orientation\":\"v\",\"showlegend\":true,\"x\":[7.6270000000000095],\"xaxis\":\"x\",\"y\":[-2.012],\"yaxis\":\"y\",\"type\":\"scatter\"},{\"hovertemplate\":\"\\u003cbr\\u003el\\u003c\\u002fb\\u003e: %{x:.2f}\\u003cbr\\u003eb\\u003c\\u002fb\\u003e: %{y:.2f}\",\"hovertext\":[\"Liller_1\"],\"legendgroup\":\"Liller_1\",\"marker\":{\"color\":\"#19d3f3\",\"symbol\":\"circle\"},\"mode\":\"markers\",\"name\":\"Liller_1\",\"orientation\":\"v\",\"showlegend\":true,\"x\":[-5.160000000000082],\"xaxis\":\"x\",\"y\":[-0.16],\"yaxis\":\"y\",\"type\":\"scatter\"},{\"hovertemplate\":\"\\u003cbr\\u003el\\u003c\\u002fb\\u003e: %{x:.2f}\\u003cbr\\u003eb\\u003c\\u002fb\\u003e: %{y:.2f}\",\"hovertext\":[\"Mercer_5\"],\"legendgroup\":\"Mercer_5\",\"marker\":{\"color\":\"#FF6692\",\"symbol\":\"circle\"},\"mode\":\"markers\",\"name\":\"Mercer_5\",\"orientation\":\"v\",\"showlegend\":true,\"x\":[17.590000000000003],\"xaxis\":\"x\",\"y\":[-0.86],\"yaxis\":\"y\",\"type\":\"scatter\"},{\"hovertemplate\":\"\\u003cbr\\u003el\\u003c\\u002fb\\u003e: %{x:.2f}\\u003cbr\\u003eb\\u003c\\u002fb\\u003e: %{y:.2f}\",\"hovertext\":[\"Minni_22\"],\"legendgroup\":\"Minni_22\",\"marker\":{\"color\":\"#B6E880\",\"symbol\":\"circle\"},\"mode\":\"markers\",\"name\":\"Minni_22\",\"orientation\":\"v\",\"showlegend\":true,\"x\":[-3.1720000000000255],\"xaxis\":\"x\",\"y\":[2.729],\"yaxis\":\"y\",\"type\":\"scatter\"},{\"hovertemplate\":\"\\u003cbr\\u003el\\u003c\\u002fb\\u003e: %{x:.2f}\\u003cbr\\u003eb\\u003c\\u002fb\\u003e: %{y:.2f}\",\"hovertext\":[\"Minni_48\"],\"legendgroup\":\"Minni_48\",\"marker\":{\"color\":\"#FF97FF\",\"symbol\":\"circle\"},\"mode\":\"markers\",\"name\":\"Minni_48\",\"orientation\":\"v\",\"showlegend\":true,\"x\":[-0.6490000000000009],\"xaxis\":\"x\",\"y\":[2.79],\"yaxis\":\"y\",\"type\":\"scatter\"},{\"hovertemplate\":\"\\u003cbr\\u003el\\u003c\\u002fb\\u003e: %{x:.2f}\\u003cbr\\u003eb\\u003c\\u002fb\\u003e: %{y:.2f}\",\"hovertext\":[\"NGC_6256\"],\"legendgroup\":\"NGC_6256\",\"marker\":{\"color\":\"#FECB52\",\"symbol\":\"circle\"},\"mode\":\"markers\",\"name\":\"NGC_6256\",\"orientation\":\"v\",\"showlegend\":true,\"x\":[-12.210000000000036],\"xaxis\":\"x\",\"y\":[3.31],\"yaxis\":\"y\",\"type\":\"scatter\"},{\"hovertemplate\":\"\\u003cbr\\u003el\\u003c\\u002fb\\u003e: %{x:.2f}\\u003cbr\\u003eb\\u003c\\u002fb\\u003e: %{y:.2f}\",\"hovertext\":[\"NGC_6266\"],\"legendgroup\":\"NGC_6266\",\"marker\":{\"color\":\"#636efa\",\"symbol\":\"circle\"},\"mode\":\"markers\",\"name\":\"NGC_6266\",\"orientation\":\"v\",\"showlegend\":true,\"x\":[-6.420000000000073],\"xaxis\":\"x\",\"y\":[7.32],\"yaxis\":\"y\",\"type\":\"scatter\"},{\"hovertemplate\":\"\\u003cbr\\u003el\\u003c\\u002fb\\u003e: %{x:.2f}\\u003cbr\\u003eb\\u003c\\u002fb\\u003e: %{y:.2f}\",\"hovertext\":[\"NGC_6304\"],\"legendgroup\":\"NGC_6304\",\"marker\":{\"color\":\"#EF553B\",\"symbol\":\"circle\"},\"mode\":\"markers\",\"name\":\"NGC_6304\",\"orientation\":\"v\",\"showlegend\":true,\"x\":[-4.170000000000073],\"xaxis\":\"x\",\"y\":[5.38],\"yaxis\":\"y\",\"type\":\"scatter\"},{\"hovertemplate\":\"\\u003cbr\\u003el\\u003c\\u002fb\\u003e: %{x:.2f}\\u003cbr\\u003eb\\u003c\\u002fb\\u003e: %{y:.2f}\",\"hovertext\":[\"NGC_6316\"],\"legendgroup\":\"NGC_6316\",\"marker\":{\"color\":\"#00cc96\",\"symbol\":\"circle\"},\"mode\":\"markers\",\"name\":\"NGC_6316\",\"orientation\":\"v\",\"showlegend\":true,\"x\":[-2.8199999999999363],\"xaxis\":\"x\",\"y\":[5.76],\"yaxis\":\"y\",\"type\":\"scatter\"},{\"hovertemplate\":\"\\u003cbr\\u003el\\u003c\\u002fb\\u003e: %{x:.2f}\\u003cbr\\u003eb\\u003c\\u002fb\\u003e: %{y:.2f}\",\"hovertext\":[\"NGC_6325\"],\"legendgroup\":\"NGC_6325\",\"marker\":{\"color\":\"#ab63fa\",\"symbol\":\"circle\"},\"mode\":\"markers\",\"name\":\"NGC_6325\",\"orientation\":\"v\",\"showlegend\":true,\"x\":[0.9699999999999989],\"xaxis\":\"x\",\"y\":[8.0],\"yaxis\":\"y\",\"type\":\"scatter\"},{\"hovertemplate\":\"\\u003cbr\\u003el\\u003c\\u002fb\\u003e: %{x:.2f}\\u003cbr\\u003eb\\u003c\\u002fb\\u003e: %{y:.2f}\",\"hovertext\":[\"NGC_6342\"],\"legendgroup\":\"NGC_6342\",\"marker\":{\"color\":\"#FFA15A\",\"symbol\":\"circle\"},\"mode\":\"markers\",\"name\":\"NGC_6342\",\"orientation\":\"v\",\"showlegend\":true,\"x\":[4.900000000000006],\"xaxis\":\"x\",\"y\":[9.73],\"yaxis\":\"y\",\"type\":\"scatter\"},{\"hovertemplate\":\"\\u003cbr\\u003el\\u003c\\u002fb\\u003e: %{x:.2f}\\u003cbr\\u003eb\\u003c\\u002fb\\u003e: %{y:.2f}\",\"hovertext\":[\"NGC_6355\"],\"legendgroup\":\"NGC_6355\",\"marker\":{\"color\":\"#19d3f3\",\"symbol\":\"circle\"},\"mode\":\"markers\",\"name\":\"NGC_6355\",\"orientation\":\"v\",\"showlegend\":true,\"x\":[-0.42000000000007276],\"xaxis\":\"x\",\"y\":[5.43],\"yaxis\":\"y\",\"type\":\"scatter\"},{\"hovertemplate\":\"\\u003cbr\\u003el\\u003c\\u002fb\\u003e: %{x:.2f}\\u003cbr\\u003eb\\u003c\\u002fb\\u003e: %{y:.2f}\",\"hovertext\":[\"NGC_6401\"],\"legendgroup\":\"NGC_6401\",\"marker\":{\"color\":\"#FF6692\",\"symbol\":\"circle\"},\"mode\":\"markers\",\"name\":\"NGC_6401\",\"orientation\":\"v\",\"showlegend\":true,\"x\":[3.4499999999999886],\"xaxis\":\"x\",\"y\":[3.98],\"yaxis\":\"y\",\"type\":\"scatter\"},{\"hovertemplate\":\"\\u003cbr\\u003el\\u003c\\u002fb\\u003e: %{x:.2f}\\u003cbr\\u003eb\\u003c\\u002fb\\u003e: %{y:.2f}\",\"hovertext\":[\"NGC_6440\"],\"legendgroup\":\"NGC_6440\",\"marker\":{\"color\":\"#B6E880\",\"symbol\":\"circle\"},\"mode\":\"markers\",\"name\":\"NGC_6440\",\"orientation\":\"v\",\"showlegend\":true,\"x\":[7.72999999999999],\"xaxis\":\"x\",\"y\":[3.8],\"yaxis\":\"y\",\"type\":\"scatter\"},{\"hovertemplate\":\"\\u003cbr\\u003el\\u003c\\u002fb\\u003e: %{x:.2f}\\u003cbr\\u003eb\\u003c\\u002fb\\u003e: %{y:.2f}\",\"hovertext\":[\"NGC_6522\"],\"legendgroup\":\"NGC_6522\",\"marker\":{\"color\":\"#FF97FF\",\"symbol\":\"circle\"},\"mode\":\"markers\",\"name\":\"NGC_6522\",\"orientation\":\"v\",\"showlegend\":true,\"x\":[1.0200000000000102],\"xaxis\":\"x\",\"y\":[-3.93],\"yaxis\":\"y\",\"type\":\"scatter\"},{\"hovertemplate\":\"\\u003cbr\\u003el\\u003c\\u002fb\\u003e: %{x:.2f}\\u003cbr\\u003eb\\u003c\\u002fb\\u003e: %{y:.2f}\",\"hovertext\":[\"NGC_6528\"],\"legendgroup\":\"NGC_6528\",\"marker\":{\"color\":\"#FECB52\",\"symbol\":\"circle\"},\"mode\":\"markers\",\"name\":\"NGC_6528\",\"orientation\":\"v\",\"showlegend\":true,\"x\":[1.1399999999999864],\"xaxis\":\"x\",\"y\":[-4.17],\"yaxis\":\"y\",\"type\":\"scatter\"},{\"hovertemplate\":\"\\u003cbr\\u003el\\u003c\\u002fb\\u003e: %{x:.2f}\\u003cbr\\u003eb\\u003c\\u002fb\\u003e: %{y:.2f}\",\"hovertext\":[\"NGC_6539\"],\"legendgroup\":\"NGC_6539\",\"marker\":{\"color\":\"#636efa\",\"symbol\":\"circle\"},\"mode\":\"markers\",\"name\":\"NGC_6539\",\"orientation\":\"v\",\"showlegend\":true,\"x\":[20.80000000000001],\"xaxis\":\"x\",\"y\":[6.78],\"yaxis\":\"y\",\"type\":\"scatter\"},{\"hovertemplate\":\"\\u003cbr\\u003el\\u003c\\u002fb\\u003e: %{x:.2f}\\u003cbr\\u003eb\\u003c\\u002fb\\u003e: %{y:.2f}\",\"hovertext\":[\"NGC_6540\"],\"legendgroup\":\"NGC_6540\",\"marker\":{\"color\":\"#EF553B\",\"symbol\":\"circle\"},\"mode\":\"markers\",\"name\":\"NGC_6540\",\"orientation\":\"v\",\"showlegend\":true,\"x\":[3.289999999999992],\"xaxis\":\"x\",\"y\":[-3.31],\"yaxis\":\"y\",\"type\":\"scatter\"},{\"hovertemplate\":\"\\u003cbr\\u003el\\u003c\\u002fb\\u003e: %{x:.2f}\\u003cbr\\u003eb\\u003c\\u002fb\\u003e: %{y:.2f}\",\"hovertext\":[\"NGC_6553\"],\"legendgroup\":\"NGC_6553\",\"marker\":{\"color\":\"#00cc96\",\"symbol\":\"circle\"},\"mode\":\"markers\",\"name\":\"NGC_6553\",\"orientation\":\"v\",\"showlegend\":true,\"x\":[5.25],\"xaxis\":\"x\",\"y\":[-3.02],\"yaxis\":\"y\",\"type\":\"scatter\"},{\"hovertemplate\":\"\\u003cbr\\u003el\\u003c\\u002fb\\u003e: %{x:.2f}\\u003cbr\\u003eb\\u003c\\u002fb\\u003e: %{y:.2f}\",\"hovertext\":[\"NGC_6558\"],\"legendgroup\":\"NGC_6558\",\"marker\":{\"color\":\"#ab63fa\",\"symbol\":\"circle\"},\"mode\":\"markers\",\"name\":\"NGC_6558\",\"orientation\":\"v\",\"showlegend\":true,\"x\":[0.19999999999998863],\"xaxis\":\"x\",\"y\":[-6.03],\"yaxis\":\"y\",\"type\":\"scatter\"},{\"hovertemplate\":\"\\u003cbr\\u003el\\u003c\\u002fb\\u003e: %{x:.2f}\\u003cbr\\u003eb\\u003c\\u002fb\\u003e: %{y:.2f}\",\"hovertext\":[\"NGC_6624\"],\"legendgroup\":\"NGC_6624\",\"marker\":{\"color\":\"#FFA15A\",\"symbol\":\"circle\"},\"mode\":\"markers\",\"name\":\"NGC_6624\",\"orientation\":\"v\",\"showlegend\":true,\"x\":[2.789999999999992],\"xaxis\":\"x\",\"y\":[-7.91],\"yaxis\":\"y\",\"type\":\"scatter\"},{\"hovertemplate\":\"\\u003cbr\\u003el\\u003c\\u002fb\\u003e: %{x:.2f}\\u003cbr\\u003eb\\u003c\\u002fb\\u003e: %{y:.2f}\",\"hovertext\":[\"NGC_6626\"],\"legendgroup\":\"NGC_6626\",\"marker\":{\"color\":\"#19d3f3\",\"symbol\":\"circle\"},\"mode\":\"markers\",\"name\":\"NGC_6626\",\"orientation\":\"v\",\"showlegend\":true,\"x\":[7.800000000000011],\"xaxis\":\"x\",\"y\":[-5.58],\"yaxis\":\"y\",\"type\":\"scatter\"},{\"hovertemplate\":\"\\u003cbr\\u003el\\u003c\\u002fb\\u003e: %{x:.2f}\\u003cbr\\u003eb\\u003c\\u002fb\\u003e: %{y:.2f}\",\"hovertext\":[\"NGC_6637\"],\"legendgroup\":\"NGC_6637\",\"marker\":{\"color\":\"#FF6692\",\"symbol\":\"circle\"},\"mode\":\"markers\",\"name\":\"NGC_6637\",\"orientation\":\"v\",\"showlegend\":true,\"x\":[1.7199999999999989],\"xaxis\":\"x\",\"y\":[-10.27],\"yaxis\":\"y\",\"type\":\"scatter\"},{\"hovertemplate\":\"\\u003cbr\\u003el\\u003c\\u002fb\\u003e: %{x:.2f}\\u003cbr\\u003eb\\u003c\\u002fb\\u003e: %{y:.2f}\",\"hovertext\":[\"NGC_6638\"],\"legendgroup\":\"NGC_6638\",\"marker\":{\"color\":\"#B6E880\",\"symbol\":\"circle\"},\"mode\":\"markers\",\"name\":\"NGC_6638\",\"orientation\":\"v\",\"showlegend\":true,\"x\":[7.900000000000006],\"xaxis\":\"x\",\"y\":[-7.15],\"yaxis\":\"y\",\"type\":\"scatter\"},{\"hovertemplate\":\"\\u003cbr\\u003el\\u003c\\u002fb\\u003e: %{x:.2f}\\u003cbr\\u003eb\\u003c\\u002fb\\u003e: %{y:.2f}\",\"hovertext\":[\"NGC_6642\"],\"legendgroup\":\"NGC_6642\",\"marker\":{\"color\":\"#FF97FF\",\"symbol\":\"circle\"},\"mode\":\"markers\",\"name\":\"NGC_6642\",\"orientation\":\"v\",\"showlegend\":true,\"x\":[9.810000000000002],\"xaxis\":\"x\",\"y\":[-6.44],\"yaxis\":\"y\",\"type\":\"scatter\"},{\"hovertemplate\":\"\\u003cbr\\u003el\\u003c\\u002fb\\u003e: %{x:.2f}\\u003cbr\\u003eb\\u003c\\u002fb\\u003e: %{y:.2f}\",\"hovertext\":[\"NGC_6652\"],\"legendgroup\":\"NGC_6652\",\"marker\":{\"color\":\"#FECB52\",\"symbol\":\"circle\"},\"mode\":\"markers\",\"name\":\"NGC_6652\",\"orientation\":\"v\",\"showlegend\":true,\"x\":[1.5300000000000011],\"xaxis\":\"x\",\"y\":[-11.38],\"yaxis\":\"y\",\"type\":\"scatter\"},{\"hovertemplate\":\"\\u003cbr\\u003el\\u003c\\u002fb\\u003e: %{x:.2f}\\u003cbr\\u003eb\\u003c\\u002fb\\u003e: %{y:.2f}\",\"hovertext\":[\"NGC_6717\"],\"legendgroup\":\"NGC_6717\",\"marker\":{\"color\":\"#636efa\",\"symbol\":\"circle\"},\"mode\":\"markers\",\"name\":\"NGC_6717\",\"orientation\":\"v\",\"showlegend\":true,\"x\":[12.879999999999995],\"xaxis\":\"x\",\"y\":[-10.9],\"yaxis\":\"y\",\"type\":\"scatter\"},{\"hovertemplate\":\"\\u003cbr\\u003el\\u003c\\u002fb\\u003e: %{x:.2f}\\u003cbr\\u003eb\\u003c\\u002fb\\u003e: %{y:.2f}\",\"hovertext\":[\"NGC_6723\"],\"legendgroup\":\"NGC_6723\",\"marker\":{\"color\":\"#EF553B\",\"symbol\":\"circle\"},\"mode\":\"markers\",\"name\":\"NGC_6723\",\"orientation\":\"v\",\"showlegend\":true,\"x\":[0.06999999999999318],\"xaxis\":\"x\",\"y\":[-17.3],\"yaxis\":\"y\",\"type\":\"scatter\"},{\"hovertemplate\":\"\\u003cbr\\u003el\\u003c\\u002fb\\u003e: %{x:.2f}\\u003cbr\\u003eb\\u003c\\u002fb\\u003e: %{y:.2f}\",\"hovertext\":[\"Palomar_6\"],\"legendgroup\":\"Palomar_6\",\"marker\":{\"color\":\"#00cc96\",\"symbol\":\"circle\"},\"mode\":\"markers\",\"name\":\"Palomar_6\",\"orientation\":\"v\",\"showlegend\":true,\"x\":[2.0900000000000034],\"xaxis\":\"x\",\"y\":[1.78],\"yaxis\":\"y\",\"type\":\"scatter\"},{\"hovertemplate\":\"\\u003cbr\\u003el\\u003c\\u002fb\\u003e: %{x:.2f}\\u003cbr\\u003eb\\u003c\\u002fb\\u003e: %{y:.2f}\",\"hovertext\":[\"Patchick_126\"],\"legendgroup\":\"Patchick_126\",\"marker\":{\"color\":\"#ab63fa\",\"symbol\":\"circle\"},\"mode\":\"markers\",\"name\":\"Patchick_126\",\"orientation\":\"v\",\"showlegend\":true,\"x\":[-19.620000000000005],\"xaxis\":\"x\",\"y\":[-3.825],\"yaxis\":\"y\",\"type\":\"scatter\"},{\"hovertemplate\":\"\\u003cbr\\u003el\\u003c\\u002fb\\u003e: %{x:.2f}\\u003cbr\\u003eb\\u003c\\u002fb\\u003e: %{y:.2f}\",\"hovertext\":[\"Patchick_99\"],\"legendgroup\":\"Patchick_99\",\"marker\":{\"color\":\"#FFA15A\",\"symbol\":\"circle\"},\"mode\":\"markers\",\"name\":\"Patchick_99\",\"orientation\":\"v\",\"showlegend\":true,\"x\":[2.4879999999999995],\"xaxis\":\"x\",\"y\":[-6.145],\"yaxis\":\"y\",\"type\":\"scatter\"},{\"hovertemplate\":\"\\u003cbr\\u003el\\u003c\\u002fb\\u003e: %{x:.2f}\\u003cbr\\u003eb\\u003c\\u002fb\\u003e: %{y:.2f}\",\"hovertext\":[\"RLGC_2\"],\"legendgroup\":\"RLGC_2\",\"marker\":{\"color\":\"#19d3f3\",\"symbol\":\"circle\"},\"mode\":\"markers\",\"name\":\"RLGC_2\",\"orientation\":\"v\",\"showlegend\":true,\"x\":[27.631],\"xaxis\":\"x\",\"y\":[-1.042],\"yaxis\":\"y\",\"type\":\"scatter\"},{\"hovertemplate\":\"\\u003cbr\\u003el\\u003c\\u002fb\\u003e: %{x:.2f}\\u003cbr\\u003eb\\u003c\\u002fb\\u003e: %{y:.2f}\",\"hovertext\":[\"Terzan_1\"],\"legendgroup\":\"Terzan_1\",\"marker\":{\"color\":\"#FF6692\",\"symbol\":\"circle\"},\"mode\":\"markers\",\"name\":\"Terzan_1\",\"orientation\":\"v\",\"showlegend\":true,\"x\":[-2.4300000000000637],\"xaxis\":\"x\",\"y\":[1.0],\"yaxis\":\"y\",\"type\":\"scatter\"},{\"hovertemplate\":\"\\u003cbr\\u003el\\u003c\\u002fb\\u003e: %{x:.2f}\\u003cbr\\u003eb\\u003c\\u002fb\\u003e: %{y:.2f}\",\"hovertext\":[\"Terzan_10\"],\"legendgroup\":\"Terzan_10\",\"marker\":{\"color\":\"#B6E880\",\"symbol\":\"circle\"},\"mode\":\"markers\",\"name\":\"Terzan_10\",\"orientation\":\"v\",\"showlegend\":true,\"x\":[4.4199999999999875],\"xaxis\":\"x\",\"y\":[-1.86],\"yaxis\":\"y\",\"type\":\"scatter\"},{\"hovertemplate\":\"\\u003cbr\\u003el\\u003c\\u002fb\\u003e: %{x:.2f}\\u003cbr\\u003eb\\u003c\\u002fb\\u003e: %{y:.2f}\",\"hovertext\":[\"Terzan_2\"],\"legendgroup\":\"Terzan_2\",\"marker\":{\"color\":\"#FF97FF\",\"symbol\":\"circle\"},\"mode\":\"markers\",\"name\":\"Terzan_2\",\"orientation\":\"v\",\"showlegend\":true,\"x\":[-3.6800000000000637],\"xaxis\":\"x\",\"y\":[2.3],\"yaxis\":\"y\",\"type\":\"scatter\"},{\"hovertemplate\":\"\\u003cbr\\u003el\\u003c\\u002fb\\u003e: %{x:.2f}\\u003cbr\\u003eb\\u003c\\u002fb\\u003e: %{y:.2f}\",\"hovertext\":[\"Terzan_3\"],\"legendgroup\":\"Terzan_3\",\"marker\":{\"color\":\"#FECB52\",\"symbol\":\"circle\"},\"mode\":\"markers\",\"name\":\"Terzan_3\",\"orientation\":\"v\",\"showlegend\":true,\"x\":[-14.920000000000073],\"xaxis\":\"x\",\"y\":[9.19],\"yaxis\":\"y\",\"type\":\"scatter\"},{\"hovertemplate\":\"\\u003cbr\\u003el\\u003c\\u002fb\\u003e: %{x:.2f}\\u003cbr\\u003eb\\u003c\\u002fb\\u003e: %{y:.2f}\",\"hovertext\":[\"Terzan_4\"],\"legendgroup\":\"Terzan_4\",\"marker\":{\"color\":\"#636efa\",\"symbol\":\"circle\"},\"mode\":\"markers\",\"name\":\"Terzan_4\",\"orientation\":\"v\",\"showlegend\":true,\"x\":[-3.980000000000018],\"xaxis\":\"x\",\"y\":[1.31],\"yaxis\":\"y\",\"type\":\"scatter\"},{\"hovertemplate\":\"\\u003cbr\\u003el\\u003c\\u002fb\\u003e: %{x:.2f}\\u003cbr\\u003eb\\u003c\\u002fb\\u003e: %{y:.2f}\",\"hovertext\":[\"Terzan_5\"],\"legendgroup\":\"Terzan_5\",\"marker\":{\"color\":\"#EF553B\",\"symbol\":\"circle\"},\"mode\":\"markers\",\"name\":\"Terzan_5\",\"orientation\":\"v\",\"showlegend\":true,\"x\":[3.8100000000000023],\"xaxis\":\"x\",\"y\":[1.67],\"yaxis\":\"y\",\"type\":\"scatter\"},{\"hovertemplate\":\"\\u003cbr\\u003el\\u003c\\u002fb\\u003e: %{x:.2f}\\u003cbr\\u003eb\\u003c\\u002fb\\u003e: %{y:.2f}\",\"hovertext\":[\"Terzan_6\"],\"legendgroup\":\"Terzan_6\",\"marker\":{\"color\":\"#00cc96\",\"symbol\":\"circle\"},\"mode\":\"markers\",\"name\":\"Terzan_6\",\"orientation\":\"v\",\"showlegend\":true,\"x\":[-1.4300000000000637],\"xaxis\":\"x\",\"y\":[-2.16],\"yaxis\":\"y\",\"type\":\"scatter\"},{\"hovertemplate\":\"\\u003cbr\\u003el\\u003c\\u002fb\\u003e: %{x:.2f}\\u003cbr\\u003eb\\u003c\\u002fb\\u003e: %{y:.2f}\",\"hovertext\":[\"Terzan_9\"],\"legendgroup\":\"Terzan_9\",\"marker\":{\"color\":\"#ab63fa\",\"symbol\":\"circle\"},\"mode\":\"markers\",\"name\":\"Terzan_9\",\"orientation\":\"v\",\"showlegend\":true,\"x\":[3.5999999999999943],\"xaxis\":\"x\",\"y\":[-1.99],\"yaxis\":\"y\",\"type\":\"scatter\"},{\"hovertemplate\":\"\\u003cbr\\u003el\\u003c\\u002fb\\u003e: %{x:.2f}\\u003cbr\\u003eb\\u003c\\u002fb\\u003e: %{y:.2f}\",\"hovertext\":[\"Ton_2\"],\"legendgroup\":\"Ton_2\",\"marker\":{\"color\":\"#FFA15A\",\"symbol\":\"circle\"},\"mode\":\"markers\",\"name\":\"Ton_2\",\"orientation\":\"v\",\"showlegend\":true,\"x\":[-9.200000000000045],\"xaxis\":\"x\",\"y\":[-3.42],\"yaxis\":\"y\",\"type\":\"scatter\"},{\"hovertemplate\":\"\\u003cbr\\u003el\\u003c\\u002fb\\u003e: %{x:.2f}\\u003cbr\\u003eb\\u003c\\u002fb\\u003e: %{y:.2f}\",\"hovertext\":[\"UKS_1\"],\"legendgroup\":\"UKS_1\",\"marker\":{\"color\":\"#19d3f3\",\"symbol\":\"circle\"},\"mode\":\"markers\",\"name\":\"UKS_1\",\"orientation\":\"v\",\"showlegend\":true,\"x\":[5.125],\"xaxis\":\"x\",\"y\":[-0.764],\"yaxis\":\"y\",\"type\":\"scatter\"},{\"hovertemplate\":\"\\u003cbr\\u003el\\u003c\\u002fb\\u003e: %{x:.2f}\\u003cbr\\u003eb\\u003c\\u002fb\\u003e: %{y:.2f}\",\"hovertext\":[\"VVV-CL002\"],\"legendgroup\":\"VVV-CL002\",\"marker\":{\"color\":\"#FF6692\",\"symbol\":\"circle\"},\"mode\":\"markers\",\"name\":\"VVV-CL002\",\"orientation\":\"v\",\"showlegend\":true,\"x\":[-0.4410000000000309],\"xaxis\":\"x\",\"y\":[0.889],\"yaxis\":\"y\",\"type\":\"scatter\"},{\"hovertemplate\":\"\\u003cbr\\u003el\\u003c\\u002fb\\u003e: %{x:.2f}\\u003cbr\\u003eb\\u003c\\u002fb\\u003e: %{y:.2f}\",\"hovertext\":[\"VVV-CL131\"],\"legendgroup\":\"VVV-CL131\",\"marker\":{\"color\":\"#B6E880\",\"symbol\":\"circle\"},\"mode\":\"markers\",\"name\":\"VVV-CL131\",\"orientation\":\"v\",\"showlegend\":true,\"x\":[-5.278999999999996],\"xaxis\":\"x\",\"y\":[-2.17],\"yaxis\":\"y\",\"type\":\"scatter\"},{\"hovertemplate\":\"\\u003cbr\\u003el\\u003c\\u002fb\\u003e: %{x:.2f}\\u003cbr\\u003eb\\u003c\\u002fb\\u003e: %{y:.2f}\",\"hovertext\":[\"VVV-CL143\"],\"legendgroup\":\"VVV-CL143\",\"marker\":{\"color\":\"#FF97FF\",\"symbol\":\"circle\"},\"mode\":\"markers\",\"name\":\"VVV-CL143\",\"orientation\":\"v\",\"showlegend\":true,\"x\":[-4.211999999999989],\"xaxis\":\"x\",\"y\":[-2.319],\"yaxis\":\"y\",\"type\":\"scatter\"},{\"hovertemplate\":\"\\u003cbr\\u003el\\u003c\\u002fb\\u003e: %{x:.2f}\\u003cbr\\u003eb\\u003c\\u002fb\\u003e: %{y:.2f}\",\"hovertext\":[\"VVV-CL160\"],\"legendgroup\":\"VVV-CL160\",\"marker\":{\"color\":\"#FECB52\",\"symbol\":\"circle\"},\"mode\":\"markers\",\"name\":\"VVV-CL160\",\"orientation\":\"v\",\"showlegend\":true,\"x\":[10.15100000000001],\"xaxis\":\"x\",\"y\":[0.302],\"yaxis\":\"y\",\"type\":\"scatter\"},{\"hovertemplate\":\"\\u003cbr\\u003el\\u003c\\u002fb\\u003e: %{x:.2f}\\u003cbr\\u003eb\\u003c\\u002fb\\u003e: %{y:.2f}\",\"hovertext\":[\"VVV-CL001\"],\"legendgroup\":\"VVV-CL001\",\"marker\":{\"color\":\"#636efa\",\"symbol\":\"circle\"},\"mode\":\"markers\",\"name\":\"VVV-CL001\",\"orientation\":\"v\",\"showlegend\":true,\"x\":[5.266999999999996],\"xaxis\":\"x\",\"y\":[0.78],\"yaxis\":\"y\",\"type\":\"scatter\"}],                        {\"template\":{\"data\":{\"histogram2dcontour\":[{\"type\":\"histogram2dcontour\",\"colorbar\":{\"outlinewidth\":0,\"ticks\":\"\"},\"colorscale\":[[0.0,\"#0d0887\"],[0.1111111111111111,\"#46039f\"],[0.2222222222222222,\"#7201a8\"],[0.3333333333333333,\"#9c179e\"],[0.4444444444444444,\"#bd3786\"],[0.5555555555555556,\"#d8576b\"],[0.6666666666666666,\"#ed7953\"],[0.7777777777777778,\"#fb9f3a\"],[0.8888888888888888,\"#fdca26\"],[1.0,\"#f0f921\"]]}],\"choropleth\":[{\"type\":\"choropleth\",\"colorbar\":{\"outlinewidth\":0,\"ticks\":\"\"}}],\"histogram2d\":[{\"type\":\"histogram2d\",\"colorbar\":{\"outlinewidth\":0,\"ticks\":\"\"},\"colorscale\":[[0.0,\"#0d0887\"],[0.1111111111111111,\"#46039f\"],[0.2222222222222222,\"#7201a8\"],[0.3333333333333333,\"#9c179e\"],[0.4444444444444444,\"#bd3786\"],[0.5555555555555556,\"#d8576b\"],[0.6666666666666666,\"#ed7953\"],[0.7777777777777778,\"#fb9f3a\"],[0.8888888888888888,\"#fdca26\"],[1.0,\"#f0f921\"]]}],\"heatmap\":[{\"type\":\"heatmap\",\"colorbar\":{\"outlinewidth\":0,\"ticks\":\"\"},\"colorscale\":[[0.0,\"#0d0887\"],[0.1111111111111111,\"#46039f\"],[0.2222222222222222,\"#7201a8\"],[0.3333333333333333,\"#9c179e\"],[0.4444444444444444,\"#bd3786\"],[0.5555555555555556,\"#d8576b\"],[0.6666666666666666,\"#ed7953\"],[0.7777777777777778,\"#fb9f3a\"],[0.8888888888888888,\"#fdca26\"],[1.0,\"#f0f921\"]]}],\"heatmapgl\":[{\"type\":\"heatmapgl\",\"colorbar\":{\"outlinewidth\":0,\"ticks\":\"\"},\"colorscale\":[[0.0,\"#0d0887\"],[0.1111111111111111,\"#46039f\"],[0.2222222222222222,\"#7201a8\"],[0.3333333333333333,\"#9c179e\"],[0.4444444444444444,\"#bd3786\"],[0.5555555555555556,\"#d8576b\"],[0.6666666666666666,\"#ed7953\"],[0.7777777777777778,\"#fb9f3a\"],[0.8888888888888888,\"#fdca26\"],[1.0,\"#f0f921\"]]}],\"contourcarpet\":[{\"type\":\"contourcarpet\",\"colorbar\":{\"outlinewidth\":0,\"ticks\":\"\"}}],\"contour\":[{\"type\":\"contour\",\"colorbar\":{\"outlinewidth\":0,\"ticks\":\"\"},\"colorscale\":[[0.0,\"#0d0887\"],[0.1111111111111111,\"#46039f\"],[0.2222222222222222,\"#7201a8\"],[0.3333333333333333,\"#9c179e\"],[0.4444444444444444,\"#bd3786\"],[0.5555555555555556,\"#d8576b\"],[0.6666666666666666,\"#ed7953\"],[0.7777777777777778,\"#fb9f3a\"],[0.8888888888888888,\"#fdca26\"],[1.0,\"#f0f921\"]]}],\"surface\":[{\"type\":\"surface\",\"colorbar\":{\"outlinewidth\":0,\"ticks\":\"\"},\"colorscale\":[[0.0,\"#0d0887\"],[0.1111111111111111,\"#46039f\"],[0.2222222222222222,\"#7201a8\"],[0.3333333333333333,\"#9c179e\"],[0.4444444444444444,\"#bd3786\"],[0.5555555555555556,\"#d8576b\"],[0.6666666666666666,\"#ed7953\"],[0.7777777777777778,\"#fb9f3a\"],[0.8888888888888888,\"#fdca26\"],[1.0,\"#f0f921\"]]}],\"mesh3d\":[{\"type\":\"mesh3d\",\"colorbar\":{\"outlinewidth\":0,\"ticks\":\"\"}}],\"scatter\":[{\"fillpattern\":{\"fillmode\":\"overlay\",\"size\":10,\"solidity\":0.2},\"type\":\"scatter\"}],\"parcoords\":[{\"type\":\"parcoords\",\"line\":{\"colorbar\":{\"outlinewidth\":0,\"ticks\":\"\"}}}],\"scatterpolargl\":[{\"type\":\"scatterpolargl\",\"marker\":{\"colorbar\":{\"outlinewidth\":0,\"ticks\":\"\"}}}],\"bar\":[{\"error_x\":{\"color\":\"#2a3f5f\"},\"error_y\":{\"color\":\"#2a3f5f\"},\"marker\":{\"line\":{\"color\":\"#E5ECF6\",\"width\":0.5},\"pattern\":{\"fillmode\":\"overlay\",\"size\":10,\"solidity\":0.2}},\"type\":\"bar\"}],\"scattergeo\":[{\"type\":\"scattergeo\",\"marker\":{\"colorbar\":{\"outlinewidth\":0,\"ticks\":\"\"}}}],\"scatterpolar\":[{\"type\":\"scatterpolar\",\"marker\":{\"colorbar\":{\"outlinewidth\":0,\"ticks\":\"\"}}}],\"histogram\":[{\"marker\":{\"pattern\":{\"fillmode\":\"overlay\",\"size\":10,\"solidity\":0.2}},\"type\":\"histogram\"}],\"scattergl\":[{\"type\":\"scattergl\",\"marker\":{\"colorbar\":{\"outlinewidth\":0,\"ticks\":\"\"}}}],\"scatter3d\":[{\"type\":\"scatter3d\",\"line\":{\"colorbar\":{\"outlinewidth\":0,\"ticks\":\"\"}},\"marker\":{\"colorbar\":{\"outlinewidth\":0,\"ticks\":\"\"}}}],\"scattermapbox\":[{\"type\":\"scattermapbox\",\"marker\":{\"colorbar\":{\"outlinewidth\":0,\"ticks\":\"\"}}}],\"scatterternary\":[{\"type\":\"scatterternary\",\"marker\":{\"colorbar\":{\"outlinewidth\":0,\"ticks\":\"\"}}}],\"scattercarpet\":[{\"type\":\"scattercarpet\",\"marker\":{\"colorbar\":{\"outlinewidth\":0,\"ticks\":\"\"}}}],\"carpet\":[{\"aaxis\":{\"endlinecolor\":\"#2a3f5f\",\"gridcolor\":\"white\",\"linecolor\":\"white\",\"minorgridcolor\":\"white\",\"startlinecolor\":\"#2a3f5f\"},\"baxis\":{\"endlinecolor\":\"#2a3f5f\",\"gridcolor\":\"white\",\"linecolor\":\"white\",\"minorgridcolor\":\"white\",\"startlinecolor\":\"#2a3f5f\"},\"type\":\"carpet\"}],\"table\":[{\"cells\":{\"fill\":{\"color\":\"#EBF0F8\"},\"line\":{\"color\":\"white\"}},\"header\":{\"fill\":{\"color\":\"#C8D4E3\"},\"line\":{\"color\":\"white\"}},\"type\":\"table\"}],\"barpolar\":[{\"marker\":{\"line\":{\"color\":\"#E5ECF6\",\"width\":0.5},\"pattern\":{\"fillmode\":\"overlay\",\"size\":10,\"solidity\":0.2}},\"type\":\"barpolar\"}],\"pie\":[{\"automargin\":true,\"type\":\"pie\"}]},\"layout\":{\"autotypenumbers\":\"strict\",\"colorway\":[\"#636efa\",\"#EF553B\",\"#00cc96\",\"#ab63fa\",\"#FFA15A\",\"#19d3f3\",\"#FF6692\",\"#B6E880\",\"#FF97FF\",\"#FECB52\"],\"font\":{\"color\":\"#2a3f5f\"},\"hovermode\":\"closest\",\"hoverlabel\":{\"align\":\"left\"},\"paper_bgcolor\":\"white\",\"plot_bgcolor\":\"#E5ECF6\",\"polar\":{\"bgcolor\":\"#E5ECF6\",\"angularaxis\":{\"gridcolor\":\"white\",\"linecolor\":\"white\",\"ticks\":\"\"},\"radialaxis\":{\"gridcolor\":\"white\",\"linecolor\":\"white\",\"ticks\":\"\"}},\"ternary\":{\"bgcolor\":\"#E5ECF6\",\"aaxis\":{\"gridcolor\":\"white\",\"linecolor\":\"white\",\"ticks\":\"\"},\"baxis\":{\"gridcolor\":\"white\",\"linecolor\":\"white\",\"ticks\":\"\"},\"caxis\":{\"gridcolor\":\"white\",\"linecolor\":\"white\",\"ticks\":\"\"}},\"coloraxis\":{\"colorbar\":{\"outlinewidth\":0,\"ticks\":\"\"}},\"colorscale\":{\"sequential\":[[0.0,\"#0d0887\"],[0.1111111111111111,\"#46039f\"],[0.2222222222222222,\"#7201a8\"],[0.3333333333333333,\"#9c179e\"],[0.4444444444444444,\"#bd3786\"],[0.5555555555555556,\"#d8576b\"],[0.6666666666666666,\"#ed7953\"],[0.7777777777777778,\"#fb9f3a\"],[0.8888888888888888,\"#fdca26\"],[1.0,\"#f0f921\"]],\"sequentialminus\":[[0.0,\"#0d0887\"],[0.1111111111111111,\"#46039f\"],[0.2222222222222222,\"#7201a8\"],[0.3333333333333333,\"#9c179e\"],[0.4444444444444444,\"#bd3786\"],[0.5555555555555556,\"#d8576b\"],[0.6666666666666666,\"#ed7953\"],[0.7777777777777778,\"#fb9f3a\"],[0.8888888888888888,\"#fdca26\"],[1.0,\"#f0f921\"]],\"diverging\":[[0,\"#8e0152\"],[0.1,\"#c51b7d\"],[0.2,\"#de77ae\"],[0.3,\"#f1b6da\"],[0.4,\"#fde0ef\"],[0.5,\"#f7f7f7\"],[0.6,\"#e6f5d0\"],[0.7,\"#b8e186\"],[0.8,\"#7fbc41\"],[0.9,\"#4d9221\"],[1,\"#276419\"]]},\"xaxis\":{\"gridcolor\":\"white\",\"linecolor\":\"white\",\"ticks\":\"\",\"title\":{\"standoff\":15},\"zerolinecolor\":\"white\",\"automargin\":true,\"zerolinewidth\":2},\"yaxis\":{\"gridcolor\":\"white\",\"linecolor\":\"white\",\"ticks\":\"\",\"title\":{\"standoff\":15},\"zerolinecolor\":\"white\",\"automargin\":true,\"zerolinewidth\":2},\"scene\":{\"xaxis\":{\"backgroundcolor\":\"#E5ECF6\",\"gridcolor\":\"white\",\"linecolor\":\"white\",\"showbackground\":true,\"ticks\":\"\",\"zerolinecolor\":\"white\",\"gridwidth\":2},\"yaxis\":{\"backgroundcolor\":\"#E5ECF6\",\"gridcolor\":\"white\",\"linecolor\":\"white\",\"showbackground\":true,\"ticks\":\"\",\"zerolinecolor\":\"white\",\"gridwidth\":2},\"zaxis\":{\"backgroundcolor\":\"#E5ECF6\",\"gridcolor\":\"white\",\"linecolor\":\"white\",\"showbackground\":true,\"ticks\":\"\",\"zerolinecolor\":\"white\",\"gridwidth\":2}},\"shapedefaults\":{\"line\":{\"color\":\"#2a3f5f\"}},\"annotationdefaults\":{\"arrowcolor\":\"#2a3f5f\",\"arrowhead\":0,\"arrowwidth\":1},\"geo\":{\"bgcolor\":\"white\",\"landcolor\":\"#E5ECF6\",\"subunitcolor\":\"white\",\"showland\":true,\"showlakes\":true,\"lakecolor\":\"white\"},\"title\":{\"x\":0.05},\"mapbox\":{\"style\":\"light\"}}},\"xaxis\":{\"anchor\":\"y\",\"domain\":[0.0,1.0],\"title\":{\"text\":\"Galactic longitude, l [\\u00b0]\"},\"range\":[-5,5]},\"yaxis\":{\"anchor\":\"x\",\"domain\":[0.0,1.0],\"title\":{\"text\":\"Galactic latitude, b [\\u00b0]\"},\"range\":[5,-5]},\"legend\":{\"title\":{\"text\":\"Cluster_Name\"},\"tracegroupgap\":0},\"margin\":{\"t\":60},\"showlegend\":false,\"title\":{\"text\":\"Compilation of Globular Clusters in the Inner Galaxy\",\"x\":0.25},\"autosize\":false,\"width\":800,\"height\":800},                        {\"responsive\": true}                    ).then(function(){\n",
       "                            \n",
       "var gd = document.getElementById('8688cc5f-91ab-437f-ad29-d4fb6638b4a6');\n",
       "var x = new MutationObserver(function (mutations, observer) {{\n",
       "        var display = window.getComputedStyle(gd).display;\n",
       "        if (!display || display === 'none') {{\n",
       "            console.log([gd, 'removed!']);\n",
       "            Plotly.purge(gd);\n",
       "            observer.disconnect();\n",
       "        }}\n",
       "}});\n",
       "\n",
       "// Listen for the removal of the full notebook cells\n",
       "var notebookContainer = gd.closest('#notebook-container');\n",
       "if (notebookContainer) {{\n",
       "    x.observe(notebookContainer, {childList: true});\n",
       "}}\n",
       "\n",
       "// Listen for the clearing of the current output cell\n",
       "var outputEl = gd.closest('.output');\n",
       "if (outputEl) {{\n",
       "    x.observe(outputEl, {childList: true});\n",
       "}}\n",
       "\n",
       "                        })                };                });            </script>        </div>"
      ]
     },
     "metadata": {},
     "output_type": "display_data"
    }
   ],
   "source": [
    "fig = px.scatter(ig_clusters, x=gal_l_transform, y='Gal_b_deg', color='Cluster_Name', \n",
    "                 hover_name=ig_clusters.Cluster_Name).update_layout(xaxis_title=\"Galactic longitude, l [°]\",\n",
    "                                                                    yaxis_title=\"Galactic latitude, b [°]\", showlegend=False)\n",
    "fig.update_traces(hovertemplate='<br>l</b>: %{x:.2f}'+ '<br>b</b>: %{y:.2f}')\n",
    "fig.update_yaxes(range=[5, -5])\n",
    "fig.update_xaxes(range=[-5, 5])\n",
    "fig.update_layout(title_text='Compilation of Globular Clusters in the Inner Galaxy', title_x=0.25, \n",
    "               autosize=False, width=800, height=800)\n",
    "fig.show()"
   ]
  },
  {
   "cell_type": "code",
   "execution_count": 243,
   "id": "7c9cf708-191d-4496-bbd4-e221318fde2c",
   "metadata": {},
   "outputs": [
    {
     "data": {
      "text/html": [
       "\n",
       "        <iframe\n",
       "            width=\"700\"\n",
       "            height=\"500\"\n",
       "            src=\"Bica2024_Fig1_MZ-Mod.pdf\"\n",
       "            frameborder=\"0\"\n",
       "            allowfullscreen\n",
       "            \n",
       "        ></iframe>\n",
       "        "
      ],
      "text/plain": [
       "<IPython.lib.display.IFrame at 0x2aa6194c0>"
      ]
     },
     "execution_count": 243,
     "metadata": {},
     "output_type": "execute_result"
    }
   ],
   "source": [
    "from IPython.display import IFrame, display\n",
    "file = \"Bica2024_Fig1_MZ-Mod.pdf\"\n",
    "IFrame(file, width=700, height=500)"
   ]
  },
  {
   "cell_type": "code",
   "execution_count": 3,
   "id": "7bb96ba4-6916-42c3-899e-9249cc7654c5",
   "metadata": {},
   "outputs": [
    {
     "ename": "ImportError",
     "evalue": "MagickWand shared library not found.\nYou probably had not installed ImageMagick library.\nTry to install:\n  brew install freetype imagemagick",
     "output_type": "error",
     "traceback": [
      "\u001b[0;31m---------------------------------------------------------------------------\u001b[0m",
      "\u001b[0;31mOSError\u001b[0m                                   Traceback (most recent call last)",
      "File \u001b[0;32m~/anaconda3/envs/roman/lib/python3.12/site-packages/wand/api.py:159\u001b[0m\n\u001b[1;32m    158\u001b[0m \u001b[38;5;28;01mtry\u001b[39;00m:\n\u001b[0;32m--> 159\u001b[0m     libraries \u001b[38;5;241m=\u001b[39m \u001b[43mload_library\u001b[49m\u001b[43m(\u001b[49m\u001b[43m)\u001b[49m\n\u001b[1;32m    160\u001b[0m \u001b[38;5;28;01mexcept\u001b[39;00m (\u001b[38;5;167;01mOSError\u001b[39;00m, \u001b[38;5;167;01mIOError\u001b[39;00m):\n",
      "File \u001b[0;32m~/anaconda3/envs/roman/lib/python3.12/site-packages/wand/api.py:148\u001b[0m, in \u001b[0;36mload_library\u001b[0;34m()\u001b[0m\n\u001b[1;32m    147\u001b[0m     \u001b[38;5;28;01mreturn\u001b[39;00m libwand, libmagick\n\u001b[0;32m--> 148\u001b[0m \u001b[38;5;28;01mraise\u001b[39;00m \u001b[38;5;167;01mIOError\u001b[39;00m(\u001b[38;5;124m'\u001b[39m\u001b[38;5;124mcannot find library; tried paths: \u001b[39m\u001b[38;5;124m'\u001b[39m \u001b[38;5;241m+\u001b[39m \u001b[38;5;28mrepr\u001b[39m(tried_paths))\n",
      "\u001b[0;31mOSError\u001b[0m: cannot find library; tried paths: []",
      "\nDuring handling of the above exception, another exception occurred:\n",
      "\u001b[0;31mImportError\u001b[0m                               Traceback (most recent call last)",
      "Cell \u001b[0;32mIn[3], line 1\u001b[0m\n\u001b[0;32m----> 1\u001b[0m \u001b[38;5;28;01mfrom\u001b[39;00m \u001b[38;5;21;01mwand\u001b[39;00m\u001b[38;5;21;01m.\u001b[39;00m\u001b[38;5;21;01mimage\u001b[39;00m \u001b[38;5;28;01mimport\u001b[39;00m Image \u001b[38;5;28;01mas\u001b[39;00m WImage\n",
      "File \u001b[0;32m~/anaconda3/envs/roman/lib/python3.12/site-packages/wand/image.py:18\u001b[0m\n\u001b[1;32m     15\u001b[0m \u001b[38;5;28;01mimport\u001b[39;00m \u001b[38;5;21;01mnumbers\u001b[39;00m\n\u001b[1;32m     16\u001b[0m \u001b[38;5;28;01mimport\u001b[39;00m \u001b[38;5;21;01mweakref\u001b[39;00m\n\u001b[0;32m---> 18\u001b[0m \u001b[38;5;28;01mfrom\u001b[39;00m \u001b[38;5;21;01m.\u001b[39;00m \u001b[38;5;28;01mimport\u001b[39;00m assertions\n\u001b[1;32m     19\u001b[0m \u001b[38;5;28;01mfrom\u001b[39;00m \u001b[38;5;21;01m.\u001b[39;00m\u001b[38;5;21;01mapi\u001b[39;00m \u001b[38;5;28;01mimport\u001b[39;00m libc, libmagick, library\n\u001b[1;32m     20\u001b[0m \u001b[38;5;28;01mfrom\u001b[39;00m \u001b[38;5;21;01m.\u001b[39;00m\u001b[38;5;21;01mcdefs\u001b[39;00m\u001b[38;5;21;01m.\u001b[39;00m\u001b[38;5;21;01mstructures\u001b[39;00m \u001b[38;5;28;01mimport\u001b[39;00m (CCObjectInfo, CCObjectInfo70A, CCObjectInfo710,\n\u001b[1;32m     21\u001b[0m                                ChannelFeature, GeometryInfo, PixelInfo,\n\u001b[1;32m     22\u001b[0m                                RectangleInfo)\n",
      "File \u001b[0;32m~/anaconda3/envs/roman/lib/python3.12/site-packages/wand/assertions.py:156\u001b[0m\n\u001b[1;32m    152\u001b[0m     in_list(options, label, \u001b[38;5;241m*\u001b[39m\u001b[38;5;241m*\u001b[39mkwargs)\n\u001b[1;32m    155\u001b[0m \u001b[38;5;66;03m# Lazy load recursive import\u001b[39;00m\n\u001b[0;32m--> 156\u001b[0m \u001b[38;5;28;01mfrom\u001b[39;00m \u001b[38;5;21;01m.\u001b[39;00m\u001b[38;5;21;01mcolor\u001b[39;00m \u001b[38;5;28;01mimport\u001b[39;00m Color\n",
      "File \u001b[0;32m~/anaconda3/envs/roman/lib/python3.12/site-packages/wand/color.py:10\u001b[0m\n\u001b[1;32m      7\u001b[0m \u001b[38;5;28;01mimport\u001b[39;00m \u001b[38;5;21;01mctypes\u001b[39;00m\n\u001b[1;32m      8\u001b[0m \u001b[38;5;28;01mimport\u001b[39;00m \u001b[38;5;21;01mnumbers\u001b[39;00m\n\u001b[0;32m---> 10\u001b[0m \u001b[38;5;28;01mfrom\u001b[39;00m \u001b[38;5;21;01m.\u001b[39;00m\u001b[38;5;21;01mapi\u001b[39;00m \u001b[38;5;28;01mimport\u001b[39;00m library\n\u001b[1;32m     11\u001b[0m \u001b[38;5;28;01mfrom\u001b[39;00m \u001b[38;5;21;01m.\u001b[39;00m\u001b[38;5;21;01mcdefs\u001b[39;00m\u001b[38;5;21;01m.\u001b[39;00m\u001b[38;5;21;01mstructures\u001b[39;00m \u001b[38;5;28;01mimport\u001b[39;00m MagickPixelPacket, PixelInfo\n\u001b[1;32m     12\u001b[0m \u001b[38;5;28;01mfrom\u001b[39;00m \u001b[38;5;21;01m.\u001b[39;00m\u001b[38;5;21;01mcompat\u001b[39;00m \u001b[38;5;28;01mimport\u001b[39;00m binary, text\n",
      "File \u001b[0;32m~/anaconda3/envs/roman/lib/python3.12/site-packages/wand/api.py:183\u001b[0m\n\u001b[1;32m    181\u001b[0m         \u001b[38;5;28;01melif\u001b[39;00m distname \u001b[38;5;129;01min\u001b[39;00m (\u001b[38;5;124m'\u001b[39m\u001b[38;5;124mfedora\u001b[39m\u001b[38;5;124m'\u001b[39m, \u001b[38;5;124m'\u001b[39m\u001b[38;5;124mcentos\u001b[39m\u001b[38;5;124m'\u001b[39m, \u001b[38;5;124m'\u001b[39m\u001b[38;5;124mredhat\u001b[39m\u001b[38;5;124m'\u001b[39m):\n\u001b[1;32m    182\u001b[0m             msg \u001b[38;5;241m=\u001b[39m \u001b[38;5;124m'\u001b[39m\u001b[38;5;124myum install ImageMagick-devel\u001b[39m\u001b[38;5;124m'\u001b[39m\n\u001b[0;32m--> 183\u001b[0m     \u001b[38;5;28;01mraise\u001b[39;00m \u001b[38;5;167;01mImportError\u001b[39;00m(\u001b[38;5;124m'\u001b[39m\u001b[38;5;124mMagickWand shared library not found.\u001b[39m\u001b[38;5;130;01m\\n\u001b[39;00m\u001b[38;5;124m'\u001b[39m\n\u001b[1;32m    184\u001b[0m                       \u001b[38;5;124m'\u001b[39m\u001b[38;5;124mYou probably had not installed ImageMagick library.\u001b[39m\u001b[38;5;130;01m\\n\u001b[39;00m\u001b[38;5;124m'\u001b[39m\n\u001b[1;32m    185\u001b[0m                       \u001b[38;5;124m'\u001b[39m\u001b[38;5;124mTry to install:\u001b[39m\u001b[38;5;130;01m\\n\u001b[39;00m\u001b[38;5;124m  \u001b[39m\u001b[38;5;124m'\u001b[39m \u001b[38;5;241m+\u001b[39m msg)\n\u001b[1;32m    187\u001b[0m \u001b[38;5;66;03m#: (:class:`ctypes.CDLL`) The MagickWand library.\u001b[39;00m\n\u001b[1;32m    188\u001b[0m library \u001b[38;5;241m=\u001b[39m libraries[\u001b[38;5;241m0\u001b[39m]\n",
      "\u001b[0;31mImportError\u001b[0m: MagickWand shared library not found.\nYou probably had not installed ImageMagick library.\nTry to install:\n  brew install freetype imagemagick"
     ]
    }
   ],
   "source": [
    "from wand.image import Image as WImage\n"
   ]
  },
  {
   "cell_type": "code",
   "execution_count": null,
   "id": "cc70b6de-ef4c-444c-b029-31d5b1207538",
   "metadata": {},
   "outputs": [],
   "source": []
  }
 ],
 "metadata": {
  "kernelspec": {
   "display_name": "Python 3 (ipykernel)",
   "language": "python",
   "name": "python3"
  },
  "language_info": {
   "codemirror_mode": {
    "name": "ipython",
    "version": 3
   },
   "file_extension": ".py",
   "mimetype": "text/x-python",
   "name": "python",
   "nbconvert_exporter": "python",
   "pygments_lexer": "ipython3",
   "version": "3.12.0"
  }
 },
 "nbformat": 4,
 "nbformat_minor": 5
}
